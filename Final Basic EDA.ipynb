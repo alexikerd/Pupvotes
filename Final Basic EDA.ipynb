{
 "cells": [
  {
   "cell_type": "code",
   "execution_count": 1,
   "id": "786cff64",
   "metadata": {},
   "outputs": [],
   "source": [
    "import numpy as np\n",
    "import pandas as pd\n",
    "import matplotlib.pyplot as plt\n",
    "import seaborn as sns"
   ]
  },
  {
   "cell_type": "code",
   "execution_count": 41,
   "id": "0e7ff895",
   "metadata": {},
   "outputs": [
    {
     "data": {
      "text/html": [
       "<div>\n",
       "<style scoped>\n",
       "    .dataframe tbody tr th:only-of-type {\n",
       "        vertical-align: middle;\n",
       "    }\n",
       "\n",
       "    .dataframe tbody tr th {\n",
       "        vertical-align: top;\n",
       "    }\n",
       "\n",
       "    .dataframe thead th {\n",
       "        text-align: right;\n",
       "    }\n",
       "</style>\n",
       "<table border=\"1\" class=\"dataframe\">\n",
       "  <thead>\n",
       "    <tr style=\"text-align: right;\">\n",
       "      <th></th>\n",
       "      <th>fname</th>\n",
       "      <th>url</th>\n",
       "      <th>category</th>\n",
       "      <th>subreddit</th>\n",
       "      <th>title</th>\n",
       "      <th>description</th>\n",
       "      <th>upvotes</th>\n",
       "      <th>posted</th>\n",
       "      <th>scraped</th>\n",
       "      <th>niche</th>\n",
       "      <th>...</th>\n",
       "      <th>year</th>\n",
       "      <th>month</th>\n",
       "      <th>yrmnth</th>\n",
       "      <th>target</th>\n",
       "      <th>fhost</th>\n",
       "      <th>format</th>\n",
       "      <th>subscribers</th>\n",
       "      <th>competition_subreddit</th>\n",
       "      <th>competition_category</th>\n",
       "      <th>competition_total</th>\n",
       "    </tr>\n",
       "  </thead>\n",
       "  <tbody>\n",
       "    <tr>\n",
       "      <th>0</th>\n",
       "      <td>cgptykrzcez71.jpg</td>\n",
       "      <td>https://i.redd.it/cgptykrzcez71.jpg</td>\n",
       "      <td>cats</td>\n",
       "      <td>catpictures</td>\n",
       "      <td>Caturday morning TV 😺</td>\n",
       "      <td>NaN</td>\n",
       "      <td>247.0</td>\n",
       "      <td>2021-11-13 11:22:11</td>\n",
       "      <td>2021-11-21 09:28:28.376338</td>\n",
       "      <td>0.0</td>\n",
       "      <td>...</td>\n",
       "      <td>2021</td>\n",
       "      <td>11</td>\n",
       "      <td>11</td>\n",
       "      <td>5.513429</td>\n",
       "      <td>reddit</td>\n",
       "      <td>jpg</td>\n",
       "      <td>142344.0</td>\n",
       "      <td>1</td>\n",
       "      <td>3</td>\n",
       "      <td>12</td>\n",
       "    </tr>\n",
       "    <tr>\n",
       "      <th>1</th>\n",
       "      <td>EGjVMqx.jpg</td>\n",
       "      <td>https://i.imgur.com/EGjVMqx.jpg</td>\n",
       "      <td>cats</td>\n",
       "      <td>catpictures</td>\n",
       "      <td>Round loaf!</td>\n",
       "      <td>NaN</td>\n",
       "      <td>24.0</td>\n",
       "      <td>2021-11-13 02:23:31</td>\n",
       "      <td>2021-11-21 09:28:28.376338</td>\n",
       "      <td>0.0</td>\n",
       "      <td>...</td>\n",
       "      <td>2021</td>\n",
       "      <td>11</td>\n",
       "      <td>11</td>\n",
       "      <td>3.218876</td>\n",
       "      <td>imgur</td>\n",
       "      <td>jpg</td>\n",
       "      <td>142344.0</td>\n",
       "      <td>1</td>\n",
       "      <td>2</td>\n",
       "      <td>4</td>\n",
       "    </tr>\n",
       "    <tr>\n",
       "      <th>2</th>\n",
       "      <td>y45936kis8z71.jpg</td>\n",
       "      <td>https://i.redd.it/y45936kis8z71.jpg</td>\n",
       "      <td>cats</td>\n",
       "      <td>catpictures</td>\n",
       "      <td>Taken over fall wreath</td>\n",
       "      <td>NaN</td>\n",
       "      <td>427.0</td>\n",
       "      <td>2021-11-12 16:38:49</td>\n",
       "      <td>2021-11-21 09:28:28.376338</td>\n",
       "      <td>0.0</td>\n",
       "      <td>...</td>\n",
       "      <td>2021</td>\n",
       "      <td>11</td>\n",
       "      <td>11</td>\n",
       "      <td>6.059123</td>\n",
       "      <td>reddit</td>\n",
       "      <td>jpg</td>\n",
       "      <td>142344.0</td>\n",
       "      <td>2</td>\n",
       "      <td>6</td>\n",
       "      <td>18</td>\n",
       "    </tr>\n",
       "    <tr>\n",
       "      <th>3</th>\n",
       "      <td>irl2nzyro8z71.jpg</td>\n",
       "      <td>https://i.redd.it/irl2nzyro8z71.jpg</td>\n",
       "      <td>cats</td>\n",
       "      <td>catpictures</td>\n",
       "      <td>My kitten, Topaz!</td>\n",
       "      <td>NaN</td>\n",
       "      <td>196.0</td>\n",
       "      <td>2021-11-12 16:17:45</td>\n",
       "      <td>2021-11-21 09:28:28.376338</td>\n",
       "      <td>0.0</td>\n",
       "      <td>...</td>\n",
       "      <td>2021</td>\n",
       "      <td>11</td>\n",
       "      <td>11</td>\n",
       "      <td>5.283204</td>\n",
       "      <td>reddit</td>\n",
       "      <td>jpg</td>\n",
       "      <td>142344.0</td>\n",
       "      <td>2</td>\n",
       "      <td>6</td>\n",
       "      <td>18</td>\n",
       "    </tr>\n",
       "    <tr>\n",
       "      <th>4</th>\n",
       "      <td>vlsh4hijg8z71.jpg</td>\n",
       "      <td>https://i.redd.it/vlsh4hijg8z71.jpg</td>\n",
       "      <td>cats</td>\n",
       "      <td>catpictures</td>\n",
       "      <td>My Tom is not impressed having to wait for the...</td>\n",
       "      <td>NaN</td>\n",
       "      <td>620.0</td>\n",
       "      <td>2021-11-12 15:31:23</td>\n",
       "      <td>2021-11-21 09:28:28.376338</td>\n",
       "      <td>0.0</td>\n",
       "      <td>...</td>\n",
       "      <td>2021</td>\n",
       "      <td>11</td>\n",
       "      <td>11</td>\n",
       "      <td>6.431331</td>\n",
       "      <td>reddit</td>\n",
       "      <td>jpg</td>\n",
       "      <td>142344.0</td>\n",
       "      <td>1</td>\n",
       "      <td>3</td>\n",
       "      <td>14</td>\n",
       "    </tr>\n",
       "  </tbody>\n",
       "</table>\n",
       "<p>5 rows × 26 columns</p>\n",
       "</div>"
      ],
      "text/plain": [
       "               fname                                  url category  \\\n",
       "0  cgptykrzcez71.jpg  https://i.redd.it/cgptykrzcez71.jpg     cats   \n",
       "1        EGjVMqx.jpg      https://i.imgur.com/EGjVMqx.jpg     cats   \n",
       "2  y45936kis8z71.jpg  https://i.redd.it/y45936kis8z71.jpg     cats   \n",
       "3  irl2nzyro8z71.jpg  https://i.redd.it/irl2nzyro8z71.jpg     cats   \n",
       "4  vlsh4hijg8z71.jpg  https://i.redd.it/vlsh4hijg8z71.jpg     cats   \n",
       "\n",
       "     subreddit                                              title  \\\n",
       "0  catpictures                              Caturday morning TV 😺   \n",
       "1  catpictures                                        Round loaf!   \n",
       "2  catpictures                             Taken over fall wreath   \n",
       "3  catpictures                                  My kitten, Topaz!   \n",
       "4  catpictures  My Tom is not impressed having to wait for the...   \n",
       "\n",
       "   description  upvotes              posted                    scraped  niche  \\\n",
       "0          NaN    247.0 2021-11-13 11:22:11 2021-11-21 09:28:28.376338    0.0   \n",
       "1          NaN     24.0 2021-11-13 02:23:31 2021-11-21 09:28:28.376338    0.0   \n",
       "2          NaN    427.0 2021-11-12 16:38:49 2021-11-21 09:28:28.376338    0.0   \n",
       "3          NaN    196.0 2021-11-12 16:17:45 2021-11-21 09:28:28.376338    0.0   \n",
       "4          NaN    620.0 2021-11-12 15:31:23 2021-11-21 09:28:28.376338    0.0   \n",
       "\n",
       "   ...  year  month yrmnth    target   fhost format  subscribers  \\\n",
       "0  ...  2021     11     11  5.513429  reddit    jpg     142344.0   \n",
       "1  ...  2021     11     11  3.218876   imgur    jpg     142344.0   \n",
       "2  ...  2021     11     11  6.059123  reddit    jpg     142344.0   \n",
       "3  ...  2021     11     11  5.283204  reddit    jpg     142344.0   \n",
       "4  ...  2021     11     11  6.431331  reddit    jpg     142344.0   \n",
       "\n",
       "   competition_subreddit  competition_category  competition_total  \n",
       "0                      1                     3                 12  \n",
       "1                      1                     2                  4  \n",
       "2                      2                     6                 18  \n",
       "3                      2                     6                 18  \n",
       "4                      1                     3                 14  \n",
       "\n",
       "[5 rows x 26 columns]"
      ]
     },
     "execution_count": 41,
     "metadata": {},
     "output_type": "execute_result"
    }
   ],
   "source": [
    "df = pd.read_csv(\"data.csv\",parse_dates=[\"posted\",\"scraped\"])\n",
    "\n",
    "df = df.loc[df.test==False]\n",
    "\n",
    "df[\"age\"] = (df.scraped - df.posted).dt.total_seconds()//3600\n",
    "df[\"weekday\"] = df.posted.dt.day_name()\n",
    "df[\"weekday_number\"] = df.posted.dt.dayofweek\n",
    "df[\"hour\"] = df.posted.dt.hour\n",
    "df[\"date\"] = pd.to_datetime(df.posted.dt.date)\n",
    "df[\"year\"] = df.posted.dt.year\n",
    "df[\"month\"] = df.posted.dt.month\n",
    "df[\"yrmnth\"] = (df.year-2021)*12 + df.month\n",
    "df[\"target\"] = np.log(df.upvotes+1)\n",
    "\n",
    "df[\"fhost\"] = df.url.apply(lambda x: \"imgur\" if \"imgur\" in x else \"reddit\")\n",
    "df[\"format\"] = df.url.apply(lambda x: x.split(\".\")[-1])\n",
    "\n",
    "\n",
    "\n",
    "sub = pd.read_csv(\"subscribers.csv\",parse_dates=[\"timestamp\"])\n",
    "\n",
    "sub[\"date\"] = sub.timestamp.dt.date\n",
    "\n",
    "sub = sub.pivot(index=\"date\",columns=[\"subreddit\"],values=\"subscribers\")\n",
    "\n",
    "# Correcting any missing dates\n",
    "daterange = pd.date_range(start=df.date.min(),end=df.date.max(),freq=\"D\")\n",
    "sub = sub.reindex(daterange)\n",
    "\n",
    "# Filling in the new NULL values\n",
    "sub.interpolate(method=\"linear\",inplace=True)\n",
    "sub.bfill(inplace=True)\n",
    "\n",
    "\n",
    "# Adding the date back into the columns so we can melt the updated dataset\n",
    "sub[\"date\"] = pd.to_datetime(sub.index)\n",
    "sub = pd.melt(sub,id_vars=\"date\")\n",
    "\n",
    "\n",
    "# Joining the two dataframes together\n",
    "df = df.merge(sub.rename(columns={\"value\":\"subscribers\"}),how=\"left\",on=[\"date\",\"subreddit\"])\n",
    "\n",
    "\n",
    "\n",
    "\n",
    "\n",
    "stage1 = df.groupby([\"date\",\"subreddit\",\"category\",\"hour\"],as_index=False).agg({\"upvotes\":\"count\"}).rename(columns={\"upvotes\":\"competition_subreddit\"})\n",
    "stage2 = stage1.groupby([\"date\",\"hour\",\"category\"],as_index=False).agg({\"competition_subreddit\":\"sum\"}).rename(columns={\"competition_subreddit\":\"competition_category\"})\n",
    "stage3 = stage2.groupby([\"date\",\"hour\"],as_index=False).agg({\"competition_category\":\"sum\"}).rename(columns={\"competition_category\":\"competition_total\"})\n",
    "\n",
    "\n",
    "\n",
    "df = df.merge(stage1,how=\"left\",on=[\"date\",\"hour\",\"subreddit\",\"category\"]).merge(stage2,how=\"left\",on=[\"date\",\"hour\",\"category\"]).merge(stage3,how=\"left\",on=[\"date\",\"hour\"])\n",
    "\n",
    "df.head()\n",
    "\n"
   ]
  },
  {
   "cell_type": "code",
   "execution_count": 32,
   "id": "395203e7",
   "metadata": {},
   "outputs": [
    {
     "data": {
      "image/png": "[encoded data removed]",
      "text/plain": [
       "<Figure size 432x288 with 1 Axes>"
      ]
     },
     "metadata": {
      "needs_background": "light"
     },
     "output_type": "display_data"
    }
   ],
   "source": [
    "sns.barplot(data=df,x=\"fhost\",y=\"upvotes\",estimator=np.median);"
   ]
  },
  {
   "cell_type": "code",
   "execution_count": 33,
   "id": "e958ca65",
   "metadata": {},
   "outputs": [
    {
     "data": {
      "text/plain": [
       "<AxesSubplot:xlabel='hour', ylabel='upvotes'>"
      ]
     },
     "execution_count": 33,
     "metadata": {},
     "output_type": "execute_result"
    },
    {
     "data": {
      "image/png": "[encoded data removed]",
      "text/plain": [
       "<Figure size 432x288 with 1 Axes>"
      ]
     },
     "metadata": {
      "needs_background": "light"
     },
     "output_type": "display_data"
    }
   ],
   "source": [
    "sns.barplot(data=df,x=\"hour\",y=\"upvotes\",estimator=len,hue=\"fhost\")"
   ]
  },
  {
   "cell_type": "code",
   "execution_count": 34,
   "id": "9e3d8d1f",
   "metadata": {},
   "outputs": [
    {
     "data": {
      "text/plain": [
       "<AxesSubplot:xlabel='hour', ylabel='upvotes'>"
      ]
     },
     "execution_count": 34,
     "metadata": {},
     "output_type": "execute_result"
    },
    {
     "data": {
      "image/png": "[encoded data removed]",
      "text/plain": [
       "<Figure size 432x288 with 1 Axes>"
      ]
     },
     "metadata": {
      "needs_background": "light"
     },
     "output_type": "display_data"
    }
   ],
   "source": [
    "sns.barplot(data=df,x=\"hour\",y=\"upvotes\",estimator=np.median,hue=\"fhost\")"
   ]
  },
  {
   "cell_type": "code",
   "execution_count": 18,
   "id": "8864b04c",
   "metadata": {},
   "outputs": [
    {
     "data": {
      "text/plain": [
       "jpg     45828\n",
       "png       733\n",
       "jpeg       99\n",
       "gif        70\n",
       "Name: url, dtype: int64"
      ]
     },
     "execution_count": 18,
     "metadata": {},
     "output_type": "execute_result"
    }
   ],
   "source": [
    "df.url.apply(lambda x: x.split(\".\")[-1]).value_counts()"
   ]
  },
  {
   "cell_type": "code",
   "execution_count": 19,
   "id": "7700b94d",
   "metadata": {},
   "outputs": [],
   "source": [
    "df[\"test\"] = df.url.apply(lambda x: x.split(\".\")[-1])"
   ]
  },
  {
   "cell_type": "code",
   "execution_count": 35,
   "id": "2753824a",
   "metadata": {},
   "outputs": [
    {
     "data": {
      "image/png": "[encoded data removed]",
      "text/plain": [
       "<Figure size 432x288 with 1 Axes>"
      ]
     },
     "metadata": {
      "needs_background": "light"
     },
     "output_type": "display_data"
    }
   ],
   "source": [
    "sns.barplot(data=df,x=\"format\",y=\"upvotes\",estimator=np.median,hue=\"category\");"
   ]
  },
  {
   "cell_type": "code",
   "execution_count": 36,
   "id": "bfa8e2ab",
   "metadata": {},
   "outputs": [],
   "source": [
    "from sklearn.metrics import mean_squared_error as mse"
   ]
  },
  {
   "cell_type": "code",
   "execution_count": 37,
   "id": "27515dbf",
   "metadata": {},
   "outputs": [],
   "source": [
    "df[\"benchmark\"] = df.target.mean()"
   ]
  },
  {
   "cell_type": "code",
   "execution_count": 38,
   "id": "f78465e1",
   "metadata": {},
   "outputs": [
    {
     "data": {
      "text/plain": [
       "1.3308108920774133"
      ]
     },
     "execution_count": 38,
     "metadata": {},
     "output_type": "execute_result"
    }
   ],
   "source": [
    "mse(df.target,df.benchmark,squared=False)"
   ]
  },
  {
   "cell_type": "code",
   "execution_count": 42,
   "id": "444cab60",
   "metadata": {},
   "outputs": [
    {
     "data": {
      "text/plain": [
       "Index(['fname', 'url', 'category', 'subreddit', 'title', 'description',\n",
       "       'upvotes', 'posted', 'scraped', 'niche', 'test', 'age', 'weekday',\n",
       "       'weekday_number', 'hour', 'date', 'year', 'month', 'yrmnth', 'target',\n",
       "       'fhost', 'format', 'subscribers', 'competition_subreddit',\n",
       "       'competition_category', 'competition_total'],\n",
       "      dtype='object')"
      ]
     },
     "execution_count": 42,
     "metadata": {},
     "output_type": "execute_result"
    }
   ],
   "source": [
    "df.columns"
   ]
  }
 ],
 "metadata": {
  "kernelspec": {
   "display_name": "Python 3 (ipykernel)",
   "language": "python",
   "name": "python3"
  },
  "language_info": {
   "codemirror_mode": {
    "name": "ipython",
    "version": 3
   },
   "file_extension": ".py",
   "mimetype": "text/x-python",
   "name": "python",
   "nbconvert_exporter": "python",
   "pygments_lexer": "ipython3",
   "version": "3.9.7"
  }
 },
 "nbformat": 4,
 "nbformat_minor": 5
}
