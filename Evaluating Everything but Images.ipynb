{
 "cells": [
  {
   "cell_type": "code",
   "execution_count": 1,
   "id": "50f6b72d",
   "metadata": {},
   "outputs": [],
   "source": [
    "import numpy as np\n",
    "import pandas as pd\n",
    "import matplotlib.pyplot as plt\n",
    "import seaborn as sns"
   ]
  },
  {
   "cell_type": "code",
   "execution_count": 2,
   "id": "57b4cd9e",
   "metadata": {},
   "outputs": [
    {
     "data": {
      "text/html": [
       "<div>\n",
       "<style scoped>\n",
       "    .dataframe tbody tr th:only-of-type {\n",
       "        vertical-align: middle;\n",
       "    }\n",
       "\n",
       "    .dataframe tbody tr th {\n",
       "        vertical-align: top;\n",
       "    }\n",
       "\n",
       "    .dataframe thead th {\n",
       "        text-align: right;\n",
       "    }\n",
       "</style>\n",
       "<table border=\"1\" class=\"dataframe\">\n",
       "  <thead>\n",
       "    <tr style=\"text-align: right;\">\n",
       "      <th></th>\n",
       "      <th>fname</th>\n",
       "      <th>url</th>\n",
       "      <th>category</th>\n",
       "      <th>subreddit</th>\n",
       "      <th>title</th>\n",
       "      <th>description</th>\n",
       "      <th>upvotes</th>\n",
       "      <th>posted</th>\n",
       "      <th>scraped</th>\n",
       "      <th>niche</th>\n",
       "      <th>...</th>\n",
       "      <th>keyword_sweet</th>\n",
       "      <th>keyword_happy</th>\n",
       "      <th>keyword_big</th>\n",
       "      <th>keyword_baby</th>\n",
       "      <th>keyword_say</th>\n",
       "      <th>keyword_day</th>\n",
       "      <th>keyword_enjoy</th>\n",
       "      <th>keyword_kitten</th>\n",
       "      <th>keyword_smile</th>\n",
       "      <th>keyword_cute</th>\n",
       "    </tr>\n",
       "  </thead>\n",
       "  <tbody>\n",
       "    <tr>\n",
       "      <th>0</th>\n",
       "      <td>cgptykrzcez71.jpg</td>\n",
       "      <td>https://i.redd.it/cgptykrzcez71.jpg</td>\n",
       "      <td>cats</td>\n",
       "      <td>catpictures</td>\n",
       "      <td>Caturday morning TV 😺</td>\n",
       "      <td>NaN</td>\n",
       "      <td>247.0</td>\n",
       "      <td>2021-11-13 11:22:11</td>\n",
       "      <td>2021-11-21 09:28:28.376338</td>\n",
       "      <td>0.0</td>\n",
       "      <td>...</td>\n",
       "      <td>False</td>\n",
       "      <td>False</td>\n",
       "      <td>False</td>\n",
       "      <td>False</td>\n",
       "      <td>False</td>\n",
       "      <td>True</td>\n",
       "      <td>False</td>\n",
       "      <td>False</td>\n",
       "      <td>False</td>\n",
       "      <td>False</td>\n",
       "    </tr>\n",
       "    <tr>\n",
       "      <th>1</th>\n",
       "      <td>EGjVMqx.jpg</td>\n",
       "      <td>https://i.imgur.com/EGjVMqx.jpg</td>\n",
       "      <td>cats</td>\n",
       "      <td>catpictures</td>\n",
       "      <td>Round loaf!</td>\n",
       "      <td>NaN</td>\n",
       "      <td>24.0</td>\n",
       "      <td>2021-11-13 02:23:31</td>\n",
       "      <td>2021-11-21 09:28:28.376338</td>\n",
       "      <td>0.0</td>\n",
       "      <td>...</td>\n",
       "      <td>False</td>\n",
       "      <td>False</td>\n",
       "      <td>False</td>\n",
       "      <td>False</td>\n",
       "      <td>False</td>\n",
       "      <td>False</td>\n",
       "      <td>False</td>\n",
       "      <td>False</td>\n",
       "      <td>False</td>\n",
       "      <td>False</td>\n",
       "    </tr>\n",
       "    <tr>\n",
       "      <th>2</th>\n",
       "      <td>y45936kis8z71.jpg</td>\n",
       "      <td>https://i.redd.it/y45936kis8z71.jpg</td>\n",
       "      <td>cats</td>\n",
       "      <td>catpictures</td>\n",
       "      <td>Taken over fall wreath</td>\n",
       "      <td>NaN</td>\n",
       "      <td>427.0</td>\n",
       "      <td>2021-11-12 16:38:49</td>\n",
       "      <td>2021-11-21 09:28:28.376338</td>\n",
       "      <td>0.0</td>\n",
       "      <td>...</td>\n",
       "      <td>False</td>\n",
       "      <td>False</td>\n",
       "      <td>False</td>\n",
       "      <td>False</td>\n",
       "      <td>False</td>\n",
       "      <td>False</td>\n",
       "      <td>False</td>\n",
       "      <td>False</td>\n",
       "      <td>False</td>\n",
       "      <td>False</td>\n",
       "    </tr>\n",
       "    <tr>\n",
       "      <th>3</th>\n",
       "      <td>irl2nzyro8z71.jpg</td>\n",
       "      <td>https://i.redd.it/irl2nzyro8z71.jpg</td>\n",
       "      <td>cats</td>\n",
       "      <td>catpictures</td>\n",
       "      <td>My kitten, Topaz!</td>\n",
       "      <td>NaN</td>\n",
       "      <td>196.0</td>\n",
       "      <td>2021-11-12 16:17:45</td>\n",
       "      <td>2021-11-21 09:28:28.376338</td>\n",
       "      <td>0.0</td>\n",
       "      <td>...</td>\n",
       "      <td>False</td>\n",
       "      <td>False</td>\n",
       "      <td>False</td>\n",
       "      <td>False</td>\n",
       "      <td>False</td>\n",
       "      <td>False</td>\n",
       "      <td>False</td>\n",
       "      <td>True</td>\n",
       "      <td>False</td>\n",
       "      <td>False</td>\n",
       "    </tr>\n",
       "    <tr>\n",
       "      <th>4</th>\n",
       "      <td>vlsh4hijg8z71.jpg</td>\n",
       "      <td>https://i.redd.it/vlsh4hijg8z71.jpg</td>\n",
       "      <td>cats</td>\n",
       "      <td>catpictures</td>\n",
       "      <td>My Tom is not impressed having to wait for the...</td>\n",
       "      <td>NaN</td>\n",
       "      <td>620.0</td>\n",
       "      <td>2021-11-12 15:31:23</td>\n",
       "      <td>2021-11-21 09:28:28.376338</td>\n",
       "      <td>0.0</td>\n",
       "      <td>...</td>\n",
       "      <td>False</td>\n",
       "      <td>False</td>\n",
       "      <td>False</td>\n",
       "      <td>False</td>\n",
       "      <td>False</td>\n",
       "      <td>False</td>\n",
       "      <td>False</td>\n",
       "      <td>False</td>\n",
       "      <td>False</td>\n",
       "      <td>False</td>\n",
       "    </tr>\n",
       "  </tbody>\n",
       "</table>\n",
       "<p>5 rows × 91 columns</p>\n",
       "</div>"
      ],
      "text/plain": [
       "               fname                                  url category  \\\n",
       "0  cgptykrzcez71.jpg  https://i.redd.it/cgptykrzcez71.jpg     cats   \n",
       "1        EGjVMqx.jpg      https://i.imgur.com/EGjVMqx.jpg     cats   \n",
       "2  y45936kis8z71.jpg  https://i.redd.it/y45936kis8z71.jpg     cats   \n",
       "3  irl2nzyro8z71.jpg  https://i.redd.it/irl2nzyro8z71.jpg     cats   \n",
       "4  vlsh4hijg8z71.jpg  https://i.redd.it/vlsh4hijg8z71.jpg     cats   \n",
       "\n",
       "     subreddit                                              title  \\\n",
       "0  catpictures                              Caturday morning TV 😺   \n",
       "1  catpictures                                        Round loaf!   \n",
       "2  catpictures                             Taken over fall wreath   \n",
       "3  catpictures                                  My kitten, Topaz!   \n",
       "4  catpictures  My Tom is not impressed having to wait for the...   \n",
       "\n",
       "   description  upvotes              posted                    scraped  niche  \\\n",
       "0          NaN    247.0 2021-11-13 11:22:11 2021-11-21 09:28:28.376338    0.0   \n",
       "1          NaN     24.0 2021-11-13 02:23:31 2021-11-21 09:28:28.376338    0.0   \n",
       "2          NaN    427.0 2021-11-12 16:38:49 2021-11-21 09:28:28.376338    0.0   \n",
       "3          NaN    196.0 2021-11-12 16:17:45 2021-11-21 09:28:28.376338    0.0   \n",
       "4          NaN    620.0 2021-11-12 15:31:23 2021-11-21 09:28:28.376338    0.0   \n",
       "\n",
       "   ...  keyword_sweet  keyword_happy keyword_big  keyword_baby  keyword_say  \\\n",
       "0  ...          False          False       False         False        False   \n",
       "1  ...          False          False       False         False        False   \n",
       "2  ...          False          False       False         False        False   \n",
       "3  ...          False          False       False         False        False   \n",
       "4  ...          False          False       False         False        False   \n",
       "\n",
       "  keyword_day  keyword_enjoy  keyword_kitten  keyword_smile  keyword_cute  \n",
       "0        True          False           False          False         False  \n",
       "1       False          False           False          False         False  \n",
       "2       False          False           False          False         False  \n",
       "3       False          False            True          False         False  \n",
       "4       False          False           False          False         False  \n",
       "\n",
       "[5 rows x 91 columns]"
      ]
     },
     "execution_count": 2,
     "metadata": {},
     "output_type": "execute_result"
    }
   ],
   "source": [
    "df = pd.read_csv(\"data.csv\",parse_dates=[\"posted\",\"scraped\"])\n",
    "\n",
    "\n",
    "\n",
    "df[\"age\"] = (df.scraped - df.posted).dt.total_seconds()//3600\n",
    "df[\"weekday\"] = df.posted.dt.day_name()\n",
    "df[\"weekday_number\"] = df.posted.dt.dayofweek\n",
    "df[\"hour\"] = df.posted.dt.hour\n",
    "df[\"date\"] = pd.to_datetime(df.posted.dt.date)\n",
    "df[\"year\"] = df.posted.dt.year\n",
    "df[\"month\"] = df.posted.dt.month\n",
    "df[\"yrmnth\"] = (df.year-2021)*12 + df.month\n",
    "df[\"target\"] = np.log(df.upvotes+1)\n",
    "\n",
    "df[\"fhost\"] = df.url.apply(lambda x: \"imgur\" if \"imgur\" in x else \"reddit\")\n",
    "df[\"format\"] = df.url.apply(lambda x: x.split(\".\")[-1])\n",
    "\n",
    "df[\"timestep\"] = (df.posted - df.posted.min()).dt.days\n",
    "\n",
    "sub = pd.read_csv(\"subscribers.csv\",parse_dates=[\"timestamp\"])\n",
    "\n",
    "sub[\"date\"] = sub.timestamp.dt.date\n",
    "\n",
    "sub = sub.pivot(index=\"date\",columns=[\"subreddit\"],values=\"subscribers\")\n",
    "\n",
    "# Correcting any missing dates\n",
    "daterange = pd.date_range(start=df.date.min(),end=df.date.max(),freq=\"D\")\n",
    "sub = sub.reindex(daterange)\n",
    "\n",
    "# Filling in the new NULL values\n",
    "sub.interpolate(method=\"linear\",inplace=True)\n",
    "sub.bfill(inplace=True)\n",
    "\n",
    "\n",
    "# Adding the date back into the columns so we can melt the updated dataset\n",
    "sub[\"date\"] = pd.to_datetime(sub.index)\n",
    "sub = pd.melt(sub,id_vars=\"date\")\n",
    "\n",
    "\n",
    "# Joining the two dataframes together\n",
    "df = df.merge(sub.rename(columns={\"value\":\"subscribers\"}),how=\"left\",on=[\"date\",\"subreddit\"])\n",
    "\n",
    "\n",
    "\n",
    "\n",
    "\n",
    "stage1 = df.groupby([\"date\",\"subreddit\",\"category\",\"hour\"],as_index=False).agg({\"upvotes\":\"count\"}).rename(columns={\"upvotes\":\"competition_subreddit\"})\n",
    "stage2 = stage1.groupby([\"date\",\"hour\",\"category\"],as_index=False).agg({\"competition_subreddit\":\"sum\"}).rename(columns={\"competition_subreddit\":\"competition_category\"})\n",
    "stage3 = stage2.groupby([\"date\",\"hour\"],as_index=False).agg({\"competition_category\":\"sum\"}).rename(columns={\"competition_category\":\"competition_total\"})\n",
    "\n",
    "\n",
    "\n",
    "df = df.merge(stage1,how=\"left\",on=[\"date\",\"hour\",\"subreddit\",\"category\"]).merge(stage2,how=\"left\",on=[\"date\",\"hour\",\"category\"]).merge(stage3,how=\"left\",on=[\"date\",\"hour\"])\n",
    "\n",
    "\n",
    "\n",
    "df[\"title_length\"] = df.title.apply(lambda x: len(x.split(\" \")))\n",
    "df[\"exclamation\"] = df.title.str.contains(\"!\")\n",
    "\n",
    "\n",
    "for kw in pd.read_csv(\"keywords.csv\").keywords:\n",
    "    \n",
    "    df[f'keyword_{kw}'] = df.title.str.lower().str.contains(kw)\n",
    "\n",
    "\n",
    "df.head()\n",
    "\n"
   ]
  },
  {
   "cell_type": "code",
   "execution_count": 10,
   "id": "680c3de3",
   "metadata": {},
   "outputs": [
    {
     "data": {
      "text/plain": [
       "other           41213\n",
       "sleep            5360\n",
       "cute             3423\n",
       "attributes       1829\n",
       "holiday          1561\n",
       "snow             1018\n",
       "death/injury      840\n",
       "walk              727\n",
       "sun               653\n",
       "playful           605\n",
       "birthday          567\n",
       "new               345\n",
       "greeting          271\n",
       "Name: subject, dtype: int64"
      ]
     },
     "execution_count": 10,
     "metadata": {},
     "output_type": "execute_result"
    }
   ],
   "source": [
    "subjects = {\"holiday\":[\"santa\",\"xmas\",\"christmas\",\"holiday\",\"valentine\",\"halloween\",\"easter\",\"thanksgiving\"]\n",
    "           ,\"death/injury\":[\"rip\",\"broke her\",\"broke his\",\"hard time bending \",\"not feeling so good\",\"not feeling well\",\"the labs gone\",\"splenectomy\",\"post op\",\"passed away\",\"miss her\",\"miss him\",\"surgery\",\"seizure\",\"missing\",\"hospital\",\"hit by car\",\"died\"]\n",
    "           ,\"sleep\":[\"comfy\",\"exhausted\",\"tuckered\",\"yawn\",\"relax\",\"cozy\",\"cuddly\",\"chill\",\"dreaming\",\"lazy\",\"bed time\",\"bedtime\",\"slumber\",\"lazing\",\"blanket\",\"snooze\",\"sleepy\",\"snug \",\"sleep\",\"cuddlin\",\"tired\",\"snoozin\",\"loungin\",\"snuggle\",\"cuddle\",\"chillin\",\"sweepy\",\"leisure\",\"nappin\",\"nap \",\"nap,\"]\n",
    "           ,\"new\":[\"new add\",\"rescued\",\"newest\",\"just adopted\",\"welcome to the fam\"]\n",
    "            ,\"sun\":[\"sunny\",\"beach\",\"enjoying morning sun\",\"soaking up the sun\",\"enjoying the sun\",\"sunshine\",\"enjoying the shade\",\"in the sun\",\"sunbeam\",\"sun beam\"]\n",
    "           ,\"snow\":[\"snow\",\"winter\",\"cold\",\"-3\"]\n",
    "           ,\"attributes\":[\"tail\",\"bean\",\"paw\",\"face\",\"eyes\",\"snoot\"]\n",
    "           ,\"playful\":[\"game of tag\",\"zoomies\",\"play\",\"fetch\",\"tug\"]\n",
    "           ,\"birthday\":[\"birthday\"]\n",
    "#            ,\"naughty\":[\"naughty\",\"bad girl\",\"bad boy\"]\n",
    "#            ,\"poses\":[\"pose\",\"photogenic\",\"photoshoot\"]\n",
    "           ,\"walk\":[\"walk\",\"stroll\",\"leash\",\"hike\"]\n",
    "            ,\"greeting\":[\"good morning\",\"good evening\",\"good night\",\"Good murrrrning\"]+[f'happy {wk.lower()}' for wk in df.weekday.unique()]\n",
    "           ,\"cute\":[\"baby\",\"babies\",\"goodest\",\"adorable\",\"beautiful\",\"cutie\",\"cute\",\"handsome\"]\n",
    "           }\n",
    "\n",
    "\n",
    "def label(x):\n",
    "    \n",
    "    for subject,keywords in subjects.items():\n",
    "        \n",
    "        for kw in keywords:\n",
    "            if kw in x.lower():\n",
    "                return subject\n",
    "            \n",
    "    return \"other\"\n",
    "\n",
    "df[\"subject\"] = df.title.apply(label)\n",
    "\n",
    "df.subject.value_counts()"
   ]
  },
  {
   "cell_type": "code",
   "execution_count": 127,
   "id": "3272e3fc",
   "metadata": {},
   "outputs": [
    {
     "data": {
      "text/plain": [
       "array(['Button and Boxer!',\n",
       "       'Naked bloggers get hundreds of thousands of likes, but how many can a boy and a Pug get?',\n",
       "       'My pug having major flashbacks 😆', 'comfy womfy', 'Tarzan 🧡',\n",
       "       'give me attention 😠😠',\n",
       "       'Long day... sweet dreams! 🌜 💤💤🐕🐶 #thechichicrew', 'Spot the Pyr!',\n",
       "       'My corgi couldn’t process having an entire wiener to himself.',\n",
       "       'Mamma to be 😍', 'My dog was spotted on google earth', 'Rosie',\n",
       "       'Who else’s cat be claiming a whole side of the bed like mine 😵\\u200d💫💀🔥😭',\n",
       "       'my personal driver',\n",
       "       'My heart just melted. A photo from a year ago.',\n",
       "       'My boy, Campbell is five months old and 60 pounds here.',\n",
       "       'Does anyone else’s dog take up this much of the bed?? We need a king lol',\n",
       "       'Arya at the lake', 'Daisy just turned 2', 'Caught mid-bay',\n",
       "       'Leia visiting the Peak District for the first time',\n",
       "       'Recharging her solar battery', 'Just being buds',\n",
       "       'Astrid enjoying her new tunnel/bed combo! Most genius cat toy ever.',\n",
       "       'The daily struggle'], dtype=object)"
      ]
     },
     "execution_count": 127,
     "metadata": {},
     "output_type": "execute_result"
    }
   ],
   "source": [
    "df.loc[df.subject==\"Other\",\"title\"].sample(25).values"
   ]
  },
  {
   "cell_type": "code",
   "execution_count": 4,
   "id": "40ead51c",
   "metadata": {},
   "outputs": [],
   "source": [
    "cat = [\"category\",\"subreddit\",\"weekday\",\"month\",\"fhost\",\"format\",\"subject\"]\n",
    "num = [\"niche\",\"age\",\"hour\",\"year\",\"subscribers\",\"title_length\",\"exclamation\",\"timestep\"] + [col for col in df.columns if \"keyword\" in col or \"competition\" in col]\n",
    "target = [\"target\"]"
   ]
  },
  {
   "cell_type": "code",
   "execution_count": 226,
   "id": "f7e7e7f2",
   "metadata": {},
   "outputs": [
    {
     "data": {
      "text/plain": [
       "['fname',\n",
       " 'url',\n",
       " 'title',\n",
       " 'description',\n",
       " 'upvotes',\n",
       " 'posted',\n",
       " 'scraped',\n",
       " 'test',\n",
       " 'weekday_number',\n",
       " 'date',\n",
       " 'yrmnth',\n",
       " 'length']"
      ]
     },
     "execution_count": 226,
     "metadata": {},
     "output_type": "execute_result"
    }
   ],
   "source": [
    "[col for col in df.columns if col not in cat+num+target]"
   ]
  },
  {
   "cell_type": "code",
   "execution_count": 11,
   "id": "86e24ea0",
   "metadata": {},
   "outputs": [
    {
     "name": "stderr",
     "output_type": "stream",
     "text": [
      "C:\\Users\\alexi\\AppData\\Local\\Temp/ipykernel_3964/2966662935.py:4: SettingWithCopyWarning: \n",
      "A value is trying to be set on a copy of a slice from a DataFrame.\n",
      "Try using .loc[row_indexer,col_indexer] = value instead\n",
      "\n",
      "See the caveats in the documentation: https://pandas.pydata.org/pandas-docs/stable/user_guide/indexing.html#returning-a-view-versus-a-copy\n",
      "  test[\"target\"] -= train.target.mean()\n",
      "C:\\Users\\alexi\\AppData\\Local\\Temp/ipykernel_3964/2966662935.py:5: SettingWithCopyWarning: \n",
      "A value is trying to be set on a copy of a slice from a DataFrame.\n",
      "Try using .loc[row_indexer,col_indexer] = value instead\n",
      "\n",
      "See the caveats in the documentation: https://pandas.pydata.org/pandas-docs/stable/user_guide/indexing.html#returning-a-view-versus-a-copy\n",
      "  test[\"target\"] /= train.target.std()\n",
      "C:\\Users\\alexi\\AppData\\Local\\Temp/ipykernel_3964/2966662935.py:6: SettingWithCopyWarning: \n",
      "A value is trying to be set on a copy of a slice from a DataFrame.\n",
      "Try using .loc[row_indexer,col_indexer] = value instead\n",
      "\n",
      "See the caveats in the documentation: https://pandas.pydata.org/pandas-docs/stable/user_guide/indexing.html#returning-a-view-versus-a-copy\n",
      "  train[\"target\"] -= train.target.mean()\n",
      "C:\\Users\\alexi\\AppData\\Local\\Temp/ipykernel_3964/2966662935.py:7: SettingWithCopyWarning: \n",
      "A value is trying to be set on a copy of a slice from a DataFrame.\n",
      "Try using .loc[row_indexer,col_indexer] = value instead\n",
      "\n",
      "See the caveats in the documentation: https://pandas.pydata.org/pandas-docs/stable/user_guide/indexing.html#returning-a-view-versus-a-copy\n",
      "  train[\"target\"] /= train.target.std()\n"
     ]
    }
   ],
   "source": [
    "test = df[df.test]\n",
    "train = df[~df.test]\n",
    "\n",
    "test[\"target\"] -= train.target.mean()\n",
    "test[\"target\"] /= train.target.std()\n",
    "train[\"target\"] -= train.target.mean()\n",
    "train[\"target\"] /= train.target.std()"
   ]
  },
  {
   "cell_type": "code",
   "execution_count": 154,
   "id": "55046466",
   "metadata": {},
   "outputs": [],
   "source": [
    "from catboost import CatBoostRegressor"
   ]
  },
  {
   "cell_type": "code",
   "execution_count": 155,
   "id": "468b2793",
   "metadata": {},
   "outputs": [],
   "source": [
    "model = CatBoostRegressor()"
   ]
  },
  {
   "cell_type": "code",
   "execution_count": 156,
   "id": "2fe61da1",
   "metadata": {},
   "outputs": [
    {
     "name": "stdout",
     "output_type": "stream",
     "text": [
      "Learning rate set to 0.075158\n",
      "0:\tlearn: 0.9928528\ttotal: 40.7ms\tremaining: 40.7s\n",
      "1:\tlearn: 0.9866439\ttotal: 74.5ms\tremaining: 37.2s\n",
      "2:\tlearn: 0.9809500\ttotal: 126ms\tremaining: 41.9s\n",
      "3:\tlearn: 0.9760163\ttotal: 157ms\tremaining: 39.1s\n",
      "4:\tlearn: 0.9716214\ttotal: 185ms\tremaining: 36.9s\n",
      "5:\tlearn: 0.9680207\ttotal: 226ms\tremaining: 37.5s\n",
      "6:\tlearn: 0.9648662\ttotal: 287ms\tremaining: 40.7s\n",
      "7:\tlearn: 0.9616295\ttotal: 318ms\tremaining: 39.4s\n",
      "8:\tlearn: 0.9590846\ttotal: 345ms\tremaining: 38s\n",
      "9:\tlearn: 0.9566960\ttotal: 373ms\tremaining: 36.9s\n",
      "10:\tlearn: 0.9542792\ttotal: 403ms\tremaining: 36.2s\n",
      "11:\tlearn: 0.9520360\ttotal: 434ms\tremaining: 35.8s\n",
      "12:\tlearn: 0.9504072\ttotal: 464ms\tremaining: 35.2s\n",
      "13:\tlearn: 0.9488354\ttotal: 516ms\tremaining: 36.4s\n",
      "14:\tlearn: 0.9471785\ttotal: 548ms\tremaining: 36s\n",
      "15:\tlearn: 0.9461389\ttotal: 575ms\tremaining: 35.4s\n",
      "16:\tlearn: 0.9447009\ttotal: 605ms\tremaining: 35s\n",
      "17:\tlearn: 0.9433621\ttotal: 638ms\tremaining: 34.8s\n",
      "18:\tlearn: 0.9421541\ttotal: 677ms\tremaining: 35s\n",
      "19:\tlearn: 0.9410874\ttotal: 719ms\tremaining: 35.2s\n",
      "20:\tlearn: 0.9400499\ttotal: 757ms\tremaining: 35.3s\n",
      "21:\tlearn: 0.9392549\ttotal: 787ms\tremaining: 35s\n",
      "22:\tlearn: 0.9385047\ttotal: 906ms\tremaining: 38.5s\n",
      "23:\tlearn: 0.9375159\ttotal: 952ms\tremaining: 38.7s\n",
      "24:\tlearn: 0.9366748\ttotal: 990ms\tremaining: 38.6s\n",
      "25:\tlearn: 0.9357751\ttotal: 1.09s\tremaining: 40.7s\n",
      "26:\tlearn: 0.9351203\ttotal: 1.13s\tremaining: 40.6s\n",
      "27:\tlearn: 0.9343784\ttotal: 1.16s\tremaining: 40.2s\n",
      "28:\tlearn: 0.9337776\ttotal: 1.19s\tremaining: 39.7s\n",
      "29:\tlearn: 0.9333138\ttotal: 1.22s\tremaining: 39.4s\n",
      "30:\tlearn: 0.9328293\ttotal: 1.25s\tremaining: 39s\n",
      "31:\tlearn: 0.9323131\ttotal: 1.28s\tremaining: 38.7s\n",
      "32:\tlearn: 0.9319622\ttotal: 1.31s\tremaining: 38.3s\n",
      "33:\tlearn: 0.9312739\ttotal: 1.34s\tremaining: 38.2s\n",
      "34:\tlearn: 0.9308815\ttotal: 1.37s\tremaining: 37.8s\n",
      "35:\tlearn: 0.9304825\ttotal: 1.4s\tremaining: 37.6s\n",
      "36:\tlearn: 0.9300889\ttotal: 1.44s\tremaining: 37.4s\n",
      "37:\tlearn: 0.9294763\ttotal: 1.47s\tremaining: 37.3s\n",
      "38:\tlearn: 0.9291557\ttotal: 1.51s\tremaining: 37.1s\n",
      "39:\tlearn: 0.9287668\ttotal: 1.54s\tremaining: 37s\n",
      "40:\tlearn: 0.9284675\ttotal: 1.58s\tremaining: 37s\n",
      "41:\tlearn: 0.9280743\ttotal: 1.62s\tremaining: 36.9s\n",
      "42:\tlearn: 0.9276431\ttotal: 1.65s\tremaining: 36.8s\n",
      "43:\tlearn: 0.9271358\ttotal: 1.68s\tremaining: 36.5s\n",
      "44:\tlearn: 0.9267997\ttotal: 1.71s\tremaining: 36.4s\n",
      "45:\tlearn: 0.9263704\ttotal: 1.74s\tremaining: 36.2s\n",
      "46:\tlearn: 0.9259362\ttotal: 1.77s\tremaining: 36s\n",
      "47:\tlearn: 0.9255857\ttotal: 1.86s\tremaining: 37s\n",
      "48:\tlearn: 0.9251172\ttotal: 1.9s\tremaining: 36.9s\n",
      "49:\tlearn: 0.9247483\ttotal: 1.94s\tremaining: 36.8s\n",
      "50:\tlearn: 0.9244740\ttotal: 1.97s\tremaining: 36.7s\n",
      "51:\tlearn: 0.9242075\ttotal: 2.06s\tremaining: 37.6s\n",
      "52:\tlearn: 0.9237948\ttotal: 2.1s\tremaining: 37.5s\n",
      "53:\tlearn: 0.9235731\ttotal: 2.13s\tremaining: 37.3s\n",
      "54:\tlearn: 0.9233723\ttotal: 2.17s\tremaining: 37.3s\n",
      "55:\tlearn: 0.9232203\ttotal: 2.3s\tremaining: 38.8s\n",
      "56:\tlearn: 0.9229535\ttotal: 2.34s\tremaining: 38.8s\n",
      "57:\tlearn: 0.9226522\ttotal: 2.38s\tremaining: 38.6s\n",
      "58:\tlearn: 0.9223152\ttotal: 2.41s\tremaining: 38.4s\n",
      "59:\tlearn: 0.9219490\ttotal: 2.44s\tremaining: 38.3s\n",
      "60:\tlearn: 0.9216641\ttotal: 2.48s\tremaining: 38.2s\n",
      "61:\tlearn: 0.9213460\ttotal: 2.51s\tremaining: 38s\n",
      "62:\tlearn: 0.9211353\ttotal: 2.63s\tremaining: 39.1s\n",
      "63:\tlearn: 0.9209305\ttotal: 2.67s\tremaining: 39s\n",
      "64:\tlearn: 0.9207335\ttotal: 2.7s\tremaining: 38.9s\n",
      "65:\tlearn: 0.9205169\ttotal: 2.74s\tremaining: 38.8s\n",
      "66:\tlearn: 0.9203618\ttotal: 2.77s\tremaining: 38.6s\n",
      "67:\tlearn: 0.9201897\ttotal: 2.81s\tremaining: 38.5s\n",
      "68:\tlearn: 0.9199667\ttotal: 2.84s\tremaining: 38.3s\n",
      "69:\tlearn: 0.9197361\ttotal: 2.87s\tremaining: 38.2s\n",
      "70:\tlearn: 0.9194086\ttotal: 2.97s\tremaining: 38.9s\n",
      "71:\tlearn: 0.9192094\ttotal: 3s\tremaining: 38.7s\n",
      "72:\tlearn: 0.9189772\ttotal: 3.04s\tremaining: 38.6s\n",
      "73:\tlearn: 0.9188802\ttotal: 3.08s\tremaining: 38.5s\n",
      "74:\tlearn: 0.9187472\ttotal: 3.12s\tremaining: 38.4s\n",
      "75:\tlearn: 0.9186014\ttotal: 3.15s\tremaining: 38.3s\n",
      "76:\tlearn: 0.9184792\ttotal: 3.18s\tremaining: 38.2s\n",
      "77:\tlearn: 0.9183254\ttotal: 3.21s\tremaining: 38s\n",
      "78:\tlearn: 0.9181347\ttotal: 3.26s\tremaining: 38.1s\n",
      "79:\tlearn: 0.9179655\ttotal: 3.3s\tremaining: 37.9s\n",
      "80:\tlearn: 0.9177101\ttotal: 3.33s\tremaining: 37.8s\n",
      "81:\tlearn: 0.9175574\ttotal: 3.36s\tremaining: 37.6s\n",
      "82:\tlearn: 0.9173943\ttotal: 3.44s\tremaining: 38.1s\n",
      "83:\tlearn: 0.9172806\ttotal: 3.48s\tremaining: 38s\n",
      "84:\tlearn: 0.9171882\ttotal: 3.52s\tremaining: 37.8s\n",
      "85:\tlearn: 0.9169743\ttotal: 3.58s\tremaining: 38.1s\n",
      "86:\tlearn: 0.9168828\ttotal: 3.62s\tremaining: 38s\n",
      "87:\tlearn: 0.9167846\ttotal: 3.69s\tremaining: 38.2s\n",
      "88:\tlearn: 0.9165699\ttotal: 3.72s\tremaining: 38.1s\n",
      "89:\tlearn: 0.9164071\ttotal: 3.79s\tremaining: 38.3s\n",
      "90:\tlearn: 0.9162763\ttotal: 3.82s\tremaining: 38.1s\n",
      "91:\tlearn: 0.9161729\ttotal: 3.85s\tremaining: 38s\n",
      "92:\tlearn: 0.9161175\ttotal: 3.87s\tremaining: 37.8s\n",
      "93:\tlearn: 0.9159357\ttotal: 3.96s\tremaining: 38.2s\n",
      "94:\tlearn: 0.9157925\ttotal: 3.99s\tremaining: 38s\n",
      "95:\tlearn: 0.9156750\ttotal: 4.03s\tremaining: 38s\n",
      "96:\tlearn: 0.9154843\ttotal: 4.06s\tremaining: 37.8s\n",
      "97:\tlearn: 0.9153450\ttotal: 4.1s\tremaining: 37.7s\n",
      "98:\tlearn: 0.9150837\ttotal: 4.14s\tremaining: 37.6s\n",
      "99:\tlearn: 0.9149369\ttotal: 4.17s\tremaining: 37.5s\n",
      "100:\tlearn: 0.9147703\ttotal: 4.21s\tremaining: 37.5s\n",
      "101:\tlearn: 0.9146048\ttotal: 4.24s\tremaining: 37.3s\n",
      "102:\tlearn: 0.9144595\ttotal: 4.27s\tremaining: 37.2s\n",
      "103:\tlearn: 0.9143572\ttotal: 4.31s\tremaining: 37.1s\n",
      "104:\tlearn: 0.9142049\ttotal: 4.34s\tremaining: 37s\n",
      "105:\tlearn: 0.9140611\ttotal: 4.41s\tremaining: 37.2s\n",
      "106:\tlearn: 0.9139173\ttotal: 4.45s\tremaining: 37.1s\n",
      "107:\tlearn: 0.9137809\ttotal: 4.55s\tremaining: 37.6s\n",
      "108:\tlearn: 0.9136427\ttotal: 4.66s\tremaining: 38.1s\n",
      "109:\tlearn: 0.9135303\ttotal: 4.71s\tremaining: 38.1s\n",
      "110:\tlearn: 0.9134394\ttotal: 4.74s\tremaining: 38s\n",
      "111:\tlearn: 0.9133572\ttotal: 4.78s\tremaining: 37.9s\n",
      "112:\tlearn: 0.9132653\ttotal: 4.81s\tremaining: 37.8s\n",
      "113:\tlearn: 0.9131304\ttotal: 4.84s\tremaining: 37.6s\n",
      "114:\tlearn: 0.9130247\ttotal: 4.88s\tremaining: 37.6s\n",
      "115:\tlearn: 0.9128820\ttotal: 4.94s\tremaining: 37.6s\n",
      "116:\tlearn: 0.9127361\ttotal: 4.98s\tremaining: 37.6s\n",
      "117:\tlearn: 0.9126925\ttotal: 5.01s\tremaining: 37.5s\n",
      "118:\tlearn: 0.9125630\ttotal: 5.05s\tremaining: 37.4s\n",
      "119:\tlearn: 0.9124007\ttotal: 5.09s\tremaining: 37.4s\n",
      "120:\tlearn: 0.9122644\ttotal: 5.19s\tremaining: 37.7s\n",
      "121:\tlearn: 0.9120112\ttotal: 5.23s\tremaining: 37.6s\n",
      "122:\tlearn: 0.9118359\ttotal: 5.34s\tremaining: 38.1s\n",
      "123:\tlearn: 0.9117042\ttotal: 5.38s\tremaining: 38s\n",
      "124:\tlearn: 0.9115672\ttotal: 5.47s\tremaining: 38.3s\n",
      "125:\tlearn: 0.9113912\ttotal: 5.51s\tremaining: 38.2s\n",
      "126:\tlearn: 0.9112699\ttotal: 5.59s\tremaining: 38.5s\n",
      "127:\tlearn: 0.9112589\ttotal: 5.61s\tremaining: 38.2s\n",
      "128:\tlearn: 0.9111269\ttotal: 5.64s\tremaining: 38.1s\n",
      "129:\tlearn: 0.9110507\ttotal: 5.67s\tremaining: 37.9s\n",
      "130:\tlearn: 0.9109253\ttotal: 5.7s\tremaining: 37.8s\n",
      "131:\tlearn: 0.9108302\ttotal: 5.73s\tremaining: 37.7s\n",
      "132:\tlearn: 0.9107925\ttotal: 5.76s\tremaining: 37.6s\n",
      "133:\tlearn: 0.9106328\ttotal: 5.86s\tremaining: 37.9s\n",
      "134:\tlearn: 0.9105483\ttotal: 5.89s\tremaining: 37.8s\n",
      "135:\tlearn: 0.9103895\ttotal: 5.93s\tremaining: 37.7s\n",
      "136:\tlearn: 0.9103132\ttotal: 5.97s\tremaining: 37.6s\n",
      "137:\tlearn: 0.9102087\ttotal: 6.01s\tremaining: 37.5s\n",
      "138:\tlearn: 0.9101332\ttotal: 6.04s\tremaining: 37.4s\n",
      "139:\tlearn: 0.9100529\ttotal: 6.08s\tremaining: 37.4s\n",
      "140:\tlearn: 0.9098873\ttotal: 6.18s\tremaining: 37.7s\n",
      "141:\tlearn: 0.9096899\ttotal: 6.22s\tremaining: 37.6s\n",
      "142:\tlearn: 0.9096026\ttotal: 6.35s\tremaining: 38.1s\n",
      "143:\tlearn: 0.9095639\ttotal: 6.39s\tremaining: 38s\n",
      "144:\tlearn: 0.9094293\ttotal: 6.42s\tremaining: 37.9s\n",
      "145:\tlearn: 0.9093008\ttotal: 6.46s\tremaining: 37.8s\n",
      "146:\tlearn: 0.9092263\ttotal: 6.54s\tremaining: 38s\n",
      "147:\tlearn: 0.9091537\ttotal: 6.59s\tremaining: 37.9s\n",
      "148:\tlearn: 0.9089676\ttotal: 6.62s\tremaining: 37.8s\n",
      "149:\tlearn: 0.9088305\ttotal: 6.66s\tremaining: 37.7s\n",
      "150:\tlearn: 0.9086742\ttotal: 6.69s\tremaining: 37.6s\n",
      "151:\tlearn: 0.9084953\ttotal: 6.72s\tremaining: 37.5s\n",
      "152:\tlearn: 0.9084600\ttotal: 6.76s\tremaining: 37.4s\n",
      "153:\tlearn: 0.9082354\ttotal: 6.79s\tremaining: 37.3s\n",
      "154:\tlearn: 0.9081052\ttotal: 6.83s\tremaining: 37.2s\n",
      "155:\tlearn: 0.9080224\ttotal: 6.86s\tremaining: 37.1s\n",
      "156:\tlearn: 0.9078856\ttotal: 6.92s\tremaining: 37.2s\n",
      "157:\tlearn: 0.9077346\ttotal: 6.95s\tremaining: 37.1s\n",
      "158:\tlearn: 0.9075871\ttotal: 6.99s\tremaining: 37s\n",
      "159:\tlearn: 0.9073900\ttotal: 7.03s\tremaining: 36.9s\n",
      "160:\tlearn: 0.9073514\ttotal: 7.07s\tremaining: 36.8s\n",
      "161:\tlearn: 0.9072354\ttotal: 7.19s\tremaining: 37.2s\n",
      "162:\tlearn: 0.9070946\ttotal: 7.23s\tremaining: 37.1s\n"
     ]
    },
    {
     "name": "stdout",
     "output_type": "stream",
     "text": [
      "163:\tlearn: 0.9069299\ttotal: 7.26s\tremaining: 37s\n",
      "164:\tlearn: 0.9068301\ttotal: 7.3s\tremaining: 36.9s\n",
      "165:\tlearn: 0.9067617\ttotal: 7.34s\tremaining: 36.9s\n",
      "166:\tlearn: 0.9066249\ttotal: 7.37s\tremaining: 36.8s\n",
      "167:\tlearn: 0.9064643\ttotal: 7.42s\tremaining: 36.7s\n",
      "168:\tlearn: 0.9062989\ttotal: 7.45s\tremaining: 36.6s\n",
      "169:\tlearn: 0.9061289\ttotal: 7.53s\tremaining: 36.8s\n",
      "170:\tlearn: 0.9059525\ttotal: 7.58s\tremaining: 36.8s\n",
      "171:\tlearn: 0.9058401\ttotal: 7.72s\tremaining: 37.2s\n",
      "172:\tlearn: 0.9056328\ttotal: 7.75s\tremaining: 37.1s\n",
      "173:\tlearn: 0.9055781\ttotal: 7.86s\tremaining: 37.3s\n",
      "174:\tlearn: 0.9055156\ttotal: 7.91s\tremaining: 37.3s\n",
      "175:\tlearn: 0.9054289\ttotal: 7.95s\tremaining: 37.2s\n",
      "176:\tlearn: 0.9053134\ttotal: 7.98s\tremaining: 37.1s\n",
      "177:\tlearn: 0.9052445\ttotal: 8.09s\tremaining: 37.4s\n",
      "178:\tlearn: 0.9052339\ttotal: 8.11s\tremaining: 37.2s\n",
      "179:\tlearn: 0.9051650\ttotal: 8.15s\tremaining: 37.1s\n",
      "180:\tlearn: 0.9050693\ttotal: 8.18s\tremaining: 37s\n",
      "181:\tlearn: 0.9049556\ttotal: 8.32s\tremaining: 37.4s\n",
      "182:\tlearn: 0.9048290\ttotal: 8.36s\tremaining: 37.3s\n",
      "183:\tlearn: 0.9047296\ttotal: 8.43s\tremaining: 37.4s\n",
      "184:\tlearn: 0.9046836\ttotal: 8.46s\tremaining: 37.3s\n",
      "185:\tlearn: 0.9045690\ttotal: 8.5s\tremaining: 37.2s\n",
      "186:\tlearn: 0.9044574\ttotal: 8.53s\tremaining: 37.1s\n",
      "187:\tlearn: 0.9043736\ttotal: 8.56s\tremaining: 37s\n",
      "188:\tlearn: 0.9043668\ttotal: 8.59s\tremaining: 36.8s\n",
      "189:\tlearn: 0.9043604\ttotal: 8.64s\tremaining: 36.8s\n",
      "190:\tlearn: 0.9042588\ttotal: 8.68s\tremaining: 36.8s\n",
      "191:\tlearn: 0.9041549\ttotal: 8.71s\tremaining: 36.7s\n",
      "192:\tlearn: 0.9040779\ttotal: 8.8s\tremaining: 36.8s\n",
      "193:\tlearn: 0.9039956\ttotal: 8.84s\tremaining: 36.7s\n",
      "194:\tlearn: 0.9038861\ttotal: 8.88s\tremaining: 36.6s\n",
      "195:\tlearn: 0.9038129\ttotal: 8.91s\tremaining: 36.5s\n",
      "196:\tlearn: 0.9036728\ttotal: 9s\tremaining: 36.7s\n",
      "197:\tlearn: 0.9035304\ttotal: 9.03s\tremaining: 36.6s\n",
      "198:\tlearn: 0.9034054\ttotal: 9.07s\tremaining: 36.5s\n",
      "199:\tlearn: 0.9032410\ttotal: 9.1s\tremaining: 36.4s\n",
      "200:\tlearn: 0.9031550\ttotal: 9.14s\tremaining: 36.3s\n",
      "201:\tlearn: 0.9030074\ttotal: 9.17s\tremaining: 36.2s\n",
      "202:\tlearn: 0.9028649\ttotal: 9.23s\tremaining: 36.2s\n",
      "203:\tlearn: 0.9027054\ttotal: 9.27s\tremaining: 36.2s\n",
      "204:\tlearn: 0.9025174\ttotal: 9.3s\tremaining: 36.1s\n",
      "205:\tlearn: 0.9023421\ttotal: 9.34s\tremaining: 36s\n",
      "206:\tlearn: 0.9022269\ttotal: 9.42s\tremaining: 36.1s\n",
      "207:\tlearn: 0.9021819\ttotal: 9.46s\tremaining: 36s\n",
      "208:\tlearn: 0.9020399\ttotal: 9.57s\tremaining: 36.2s\n",
      "209:\tlearn: 0.9019683\ttotal: 9.61s\tremaining: 36.2s\n",
      "210:\tlearn: 0.9019633\ttotal: 9.65s\tremaining: 36.1s\n",
      "211:\tlearn: 0.9019007\ttotal: 9.68s\tremaining: 36s\n",
      "212:\tlearn: 0.9018844\ttotal: 9.71s\tremaining: 35.9s\n",
      "213:\tlearn: 0.9018244\ttotal: 9.74s\tremaining: 35.8s\n",
      "214:\tlearn: 0.9017414\ttotal: 9.77s\tremaining: 35.7s\n",
      "215:\tlearn: 0.9016428\ttotal: 9.87s\tremaining: 35.8s\n",
      "216:\tlearn: 0.9016312\ttotal: 9.9s\tremaining: 35.7s\n",
      "217:\tlearn: 0.9014761\ttotal: 9.94s\tremaining: 35.7s\n",
      "218:\tlearn: 0.9014309\ttotal: 9.97s\tremaining: 35.6s\n",
      "219:\tlearn: 0.9013616\ttotal: 10s\tremaining: 35.5s\n",
      "220:\tlearn: 0.9012746\ttotal: 10.1s\tremaining: 35.6s\n",
      "221:\tlearn: 0.9011449\ttotal: 10.1s\tremaining: 35.5s\n",
      "222:\tlearn: 0.9010748\ttotal: 10.2s\tremaining: 35.4s\n",
      "223:\tlearn: 0.9010473\ttotal: 10.2s\tremaining: 35.4s\n",
      "224:\tlearn: 0.9009429\ttotal: 10.3s\tremaining: 35.4s\n",
      "225:\tlearn: 0.9008353\ttotal: 10.3s\tremaining: 35.3s\n",
      "226:\tlearn: 0.9007723\ttotal: 10.3s\tremaining: 35.2s\n",
      "227:\tlearn: 0.9006357\ttotal: 10.4s\tremaining: 35.1s\n",
      "228:\tlearn: 0.9005312\ttotal: 10.4s\tremaining: 35s\n",
      "229:\tlearn: 0.9003592\ttotal: 10.4s\tremaining: 34.9s\n",
      "230:\tlearn: 0.9002705\ttotal: 10.5s\tremaining: 34.9s\n",
      "231:\tlearn: 0.9002214\ttotal: 10.5s\tremaining: 34.8s\n",
      "232:\tlearn: 0.9000970\ttotal: 10.6s\tremaining: 35s\n",
      "233:\tlearn: 0.8999242\ttotal: 10.7s\tremaining: 35s\n",
      "234:\tlearn: 0.8999164\ttotal: 10.7s\tremaining: 34.9s\n",
      "235:\tlearn: 0.8998411\ttotal: 10.8s\tremaining: 34.8s\n",
      "236:\tlearn: 0.8997334\ttotal: 10.8s\tremaining: 34.8s\n",
      "237:\tlearn: 0.8996121\ttotal: 10.8s\tremaining: 34.7s\n",
      "238:\tlearn: 0.8995435\ttotal: 11s\tremaining: 34.9s\n",
      "239:\tlearn: 0.8993860\ttotal: 11s\tremaining: 34.9s\n",
      "240:\tlearn: 0.8993036\ttotal: 11s\tremaining: 34.8s\n",
      "241:\tlearn: 0.8991973\ttotal: 11.1s\tremaining: 34.9s\n",
      "242:\tlearn: 0.8991794\ttotal: 11.2s\tremaining: 34.8s\n",
      "243:\tlearn: 0.8991636\ttotal: 11.3s\tremaining: 35s\n",
      "244:\tlearn: 0.8990768\ttotal: 11.3s\tremaining: 34.9s\n",
      "245:\tlearn: 0.8990118\ttotal: 11.4s\tremaining: 34.9s\n",
      "246:\tlearn: 0.8989415\ttotal: 11.4s\tremaining: 34.8s\n",
      "247:\tlearn: 0.8989350\ttotal: 11.5s\tremaining: 34.8s\n",
      "248:\tlearn: 0.8988229\ttotal: 11.5s\tremaining: 34.7s\n",
      "249:\tlearn: 0.8987441\ttotal: 11.5s\tremaining: 34.6s\n",
      "250:\tlearn: 0.8986988\ttotal: 11.6s\tremaining: 34.6s\n",
      "251:\tlearn: 0.8986905\ttotal: 11.6s\tremaining: 34.5s\n",
      "252:\tlearn: 0.8986497\ttotal: 11.7s\tremaining: 34.4s\n",
      "253:\tlearn: 0.8985239\ttotal: 11.7s\tremaining: 34.4s\n",
      "254:\tlearn: 0.8985142\ttotal: 11.7s\tremaining: 34.3s\n",
      "255:\tlearn: 0.8984447\ttotal: 11.8s\tremaining: 34.2s\n",
      "256:\tlearn: 0.8983294\ttotal: 11.8s\tremaining: 34.2s\n",
      "257:\tlearn: 0.8982773\ttotal: 11.8s\tremaining: 34.1s\n",
      "258:\tlearn: 0.8982360\ttotal: 11.9s\tremaining: 34.1s\n",
      "259:\tlearn: 0.8981591\ttotal: 11.9s\tremaining: 34s\n",
      "260:\tlearn: 0.8981090\ttotal: 12s\tremaining: 33.9s\n",
      "261:\tlearn: 0.8980099\ttotal: 12s\tremaining: 33.9s\n",
      "262:\tlearn: 0.8979637\ttotal: 12.1s\tremaining: 33.8s\n",
      "263:\tlearn: 0.8978207\ttotal: 12.2s\tremaining: 33.9s\n",
      "264:\tlearn: 0.8976771\ttotal: 12.2s\tremaining: 33.8s\n",
      "265:\tlearn: 0.8975517\ttotal: 12.2s\tremaining: 33.7s\n",
      "266:\tlearn: 0.8974926\ttotal: 12.3s\tremaining: 33.6s\n",
      "267:\tlearn: 0.8973986\ttotal: 12.4s\tremaining: 33.8s\n",
      "268:\tlearn: 0.8972571\ttotal: 12.4s\tremaining: 33.7s\n",
      "269:\tlearn: 0.8971580\ttotal: 12.4s\tremaining: 33.6s\n",
      "270:\tlearn: 0.8970658\ttotal: 12.5s\tremaining: 33.6s\n",
      "271:\tlearn: 0.8970035\ttotal: 12.6s\tremaining: 33.6s\n",
      "272:\tlearn: 0.8969359\ttotal: 12.6s\tremaining: 33.6s\n",
      "273:\tlearn: 0.8969169\ttotal: 12.7s\tremaining: 33.6s\n",
      "274:\tlearn: 0.8967795\ttotal: 12.7s\tremaining: 33.6s\n",
      "275:\tlearn: 0.8966737\ttotal: 12.8s\tremaining: 33.5s\n",
      "276:\tlearn: 0.8966027\ttotal: 12.8s\tremaining: 33.4s\n",
      "277:\tlearn: 0.8965105\ttotal: 12.8s\tremaining: 33.3s\n",
      "278:\tlearn: 0.8964501\ttotal: 12.9s\tremaining: 33.4s\n",
      "279:\tlearn: 0.8964136\ttotal: 13s\tremaining: 33.3s\n",
      "280:\tlearn: 0.8963764\ttotal: 13s\tremaining: 33.3s\n",
      "281:\tlearn: 0.8963072\ttotal: 13s\tremaining: 33.2s\n",
      "282:\tlearn: 0.8961473\ttotal: 13.1s\tremaining: 33.1s\n",
      "283:\tlearn: 0.8961331\ttotal: 13.1s\tremaining: 33s\n",
      "284:\tlearn: 0.8960972\ttotal: 13.1s\tremaining: 32.9s\n",
      "285:\tlearn: 0.8960366\ttotal: 13.2s\tremaining: 32.9s\n",
      "286:\tlearn: 0.8959953\ttotal: 13.2s\tremaining: 32.8s\n",
      "287:\tlearn: 0.8959266\ttotal: 13.3s\tremaining: 32.8s\n",
      "288:\tlearn: 0.8958060\ttotal: 13.3s\tremaining: 32.8s\n",
      "289:\tlearn: 0.8956911\ttotal: 13.3s\tremaining: 32.7s\n",
      "290:\tlearn: 0.8955959\ttotal: 13.4s\tremaining: 32.8s\n",
      "291:\tlearn: 0.8955495\ttotal: 13.5s\tremaining: 32.7s\n",
      "292:\tlearn: 0.8954992\ttotal: 13.5s\tremaining: 32.6s\n",
      "293:\tlearn: 0.8954024\ttotal: 13.6s\tremaining: 32.6s\n",
      "294:\tlearn: 0.8953371\ttotal: 13.6s\tremaining: 32.5s\n",
      "295:\tlearn: 0.8953102\ttotal: 13.7s\tremaining: 32.5s\n",
      "296:\tlearn: 0.8952236\ttotal: 13.7s\tremaining: 32.4s\n",
      "297:\tlearn: 0.8951264\ttotal: 13.8s\tremaining: 32.4s\n",
      "298:\tlearn: 0.8951215\ttotal: 13.8s\tremaining: 32.3s\n",
      "299:\tlearn: 0.8950642\ttotal: 13.9s\tremaining: 32.4s\n",
      "300:\tlearn: 0.8949718\ttotal: 13.9s\tremaining: 32.4s\n",
      "301:\tlearn: 0.8949156\ttotal: 14s\tremaining: 32.3s\n",
      "302:\tlearn: 0.8948482\ttotal: 14s\tremaining: 32.2s\n",
      "303:\tlearn: 0.8947545\ttotal: 14.1s\tremaining: 32.2s\n",
      "304:\tlearn: 0.8946917\ttotal: 14.1s\tremaining: 32.1s\n",
      "305:\tlearn: 0.8945392\ttotal: 14.1s\tremaining: 32.1s\n",
      "306:\tlearn: 0.8945224\ttotal: 14.2s\tremaining: 32.1s\n",
      "307:\tlearn: 0.8944493\ttotal: 14.3s\tremaining: 32.1s\n",
      "308:\tlearn: 0.8943535\ttotal: 14.3s\tremaining: 32s\n",
      "309:\tlearn: 0.8942574\ttotal: 14.5s\tremaining: 32.2s\n",
      "310:\tlearn: 0.8941255\ttotal: 14.5s\tremaining: 32.1s\n",
      "311:\tlearn: 0.8940818\ttotal: 14.6s\tremaining: 32.1s\n",
      "312:\tlearn: 0.8939689\ttotal: 14.7s\tremaining: 32.2s\n",
      "313:\tlearn: 0.8938592\ttotal: 14.7s\tremaining: 32.1s\n",
      "314:\tlearn: 0.8937527\ttotal: 14.8s\tremaining: 32.1s\n",
      "315:\tlearn: 0.8937438\ttotal: 14.8s\tremaining: 32s\n",
      "316:\tlearn: 0.8936873\ttotal: 14.9s\tremaining: 32.1s\n",
      "317:\tlearn: 0.8936264\ttotal: 14.9s\tremaining: 32s\n",
      "318:\tlearn: 0.8935732\ttotal: 15s\tremaining: 32s\n",
      "319:\tlearn: 0.8934753\ttotal: 15.1s\tremaining: 32s\n",
      "320:\tlearn: 0.8933448\ttotal: 15.1s\tremaining: 31.9s\n",
      "321:\tlearn: 0.8933387\ttotal: 15.1s\tremaining: 31.8s\n"
     ]
    },
    {
     "name": "stdout",
     "output_type": "stream",
     "text": [
      "322:\tlearn: 0.8931938\ttotal: 15.2s\tremaining: 31.8s\n",
      "323:\tlearn: 0.8930551\ttotal: 15.2s\tremaining: 31.7s\n",
      "324:\tlearn: 0.8930381\ttotal: 15.2s\tremaining: 31.6s\n",
      "325:\tlearn: 0.8930202\ttotal: 15.3s\tremaining: 31.6s\n",
      "326:\tlearn: 0.8929212\ttotal: 15.3s\tremaining: 31.5s\n",
      "327:\tlearn: 0.8928270\ttotal: 15.3s\tremaining: 31.4s\n",
      "328:\tlearn: 0.8927527\ttotal: 15.4s\tremaining: 31.4s\n",
      "329:\tlearn: 0.8927008\ttotal: 15.4s\tremaining: 31.3s\n",
      "330:\tlearn: 0.8926916\ttotal: 15.5s\tremaining: 31.2s\n",
      "331:\tlearn: 0.8926498\ttotal: 15.5s\tremaining: 31.2s\n",
      "332:\tlearn: 0.8925444\ttotal: 15.5s\tremaining: 31.1s\n",
      "333:\tlearn: 0.8924042\ttotal: 15.6s\tremaining: 31.1s\n",
      "334:\tlearn: 0.8923686\ttotal: 15.7s\tremaining: 31.1s\n",
      "335:\tlearn: 0.8922361\ttotal: 15.8s\tremaining: 31.2s\n",
      "336:\tlearn: 0.8921296\ttotal: 15.8s\tremaining: 31.1s\n",
      "337:\tlearn: 0.8920623\ttotal: 15.8s\tremaining: 31s\n",
      "338:\tlearn: 0.8919877\ttotal: 15.9s\tremaining: 31s\n",
      "339:\tlearn: 0.8919491\ttotal: 16s\tremaining: 31s\n",
      "340:\tlearn: 0.8918475\ttotal: 16s\tremaining: 30.9s\n",
      "341:\tlearn: 0.8917520\ttotal: 16s\tremaining: 30.9s\n",
      "342:\tlearn: 0.8916632\ttotal: 16.1s\tremaining: 30.9s\n",
      "343:\tlearn: 0.8915701\ttotal: 16.2s\tremaining: 30.8s\n",
      "344:\tlearn: 0.8914699\ttotal: 16.2s\tremaining: 30.8s\n",
      "345:\tlearn: 0.8914456\ttotal: 16.2s\tremaining: 30.7s\n",
      "346:\tlearn: 0.8914300\ttotal: 16.3s\tremaining: 30.6s\n",
      "347:\tlearn: 0.8913309\ttotal: 16.3s\tremaining: 30.6s\n",
      "348:\tlearn: 0.8913038\ttotal: 16.4s\tremaining: 30.6s\n",
      "349:\tlearn: 0.8912329\ttotal: 16.5s\tremaining: 30.6s\n",
      "350:\tlearn: 0.8911184\ttotal: 16.5s\tremaining: 30.6s\n",
      "351:\tlearn: 0.8909698\ttotal: 16.6s\tremaining: 30.5s\n",
      "352:\tlearn: 0.8909556\ttotal: 16.6s\tremaining: 30.4s\n",
      "353:\tlearn: 0.8909454\ttotal: 16.7s\tremaining: 30.5s\n",
      "354:\tlearn: 0.8908903\ttotal: 16.8s\tremaining: 30.4s\n",
      "355:\tlearn: 0.8908422\ttotal: 16.8s\tremaining: 30.4s\n",
      "356:\tlearn: 0.8908170\ttotal: 16.9s\tremaining: 30.4s\n",
      "357:\tlearn: 0.8907417\ttotal: 16.9s\tremaining: 30.4s\n",
      "358:\tlearn: 0.8906551\ttotal: 17s\tremaining: 30.3s\n",
      "359:\tlearn: 0.8906058\ttotal: 17.1s\tremaining: 30.4s\n",
      "360:\tlearn: 0.8905758\ttotal: 17.1s\tremaining: 30.3s\n",
      "361:\tlearn: 0.8904957\ttotal: 17.2s\tremaining: 30.4s\n",
      "362:\tlearn: 0.8904455\ttotal: 17.3s\tremaining: 30.3s\n",
      "363:\tlearn: 0.8903596\ttotal: 17.3s\tremaining: 30.2s\n",
      "364:\tlearn: 0.8903013\ttotal: 17.3s\tremaining: 30.2s\n",
      "365:\tlearn: 0.8902313\ttotal: 17.4s\tremaining: 30.1s\n",
      "366:\tlearn: 0.8900940\ttotal: 17.4s\tremaining: 30.1s\n",
      "367:\tlearn: 0.8900508\ttotal: 17.5s\tremaining: 30s\n",
      "368:\tlearn: 0.8900157\ttotal: 17.5s\tremaining: 30s\n",
      "369:\tlearn: 0.8900013\ttotal: 17.5s\tremaining: 29.9s\n",
      "370:\tlearn: 0.8899348\ttotal: 17.6s\tremaining: 29.8s\n",
      "371:\tlearn: 0.8899202\ttotal: 17.6s\tremaining: 29.8s\n",
      "372:\tlearn: 0.8898718\ttotal: 17.7s\tremaining: 29.7s\n",
      "373:\tlearn: 0.8897973\ttotal: 17.8s\tremaining: 29.7s\n",
      "374:\tlearn: 0.8896899\ttotal: 17.8s\tremaining: 29.7s\n",
      "375:\tlearn: 0.8895595\ttotal: 17.9s\tremaining: 29.6s\n",
      "376:\tlearn: 0.8894658\ttotal: 17.9s\tremaining: 29.6s\n",
      "377:\tlearn: 0.8894292\ttotal: 18s\tremaining: 29.6s\n",
      "378:\tlearn: 0.8894115\ttotal: 18s\tremaining: 29.5s\n",
      "379:\tlearn: 0.8893710\ttotal: 18s\tremaining: 29.4s\n",
      "380:\tlearn: 0.8892240\ttotal: 18.1s\tremaining: 29.4s\n",
      "381:\tlearn: 0.8891139\ttotal: 18.1s\tremaining: 29.3s\n",
      "382:\tlearn: 0.8890782\ttotal: 18.2s\tremaining: 29.3s\n",
      "383:\tlearn: 0.8890232\ttotal: 18.2s\tremaining: 29.2s\n",
      "384:\tlearn: 0.8889330\ttotal: 18.3s\tremaining: 29.2s\n",
      "385:\tlearn: 0.8888953\ttotal: 18.3s\tremaining: 29.1s\n",
      "386:\tlearn: 0.8887976\ttotal: 18.3s\tremaining: 29s\n",
      "387:\tlearn: 0.8887714\ttotal: 18.3s\tremaining: 28.9s\n",
      "388:\tlearn: 0.8887230\ttotal: 18.4s\tremaining: 28.9s\n",
      "389:\tlearn: 0.8886984\ttotal: 18.5s\tremaining: 28.9s\n",
      "390:\tlearn: 0.8886082\ttotal: 18.5s\tremaining: 28.8s\n",
      "391:\tlearn: 0.8885189\ttotal: 18.5s\tremaining: 28.7s\n",
      "392:\tlearn: 0.8884502\ttotal: 18.6s\tremaining: 28.7s\n",
      "393:\tlearn: 0.8883722\ttotal: 18.6s\tremaining: 28.6s\n",
      "394:\tlearn: 0.8882803\ttotal: 18.7s\tremaining: 28.6s\n",
      "395:\tlearn: 0.8882235\ttotal: 18.7s\tremaining: 28.6s\n",
      "396:\tlearn: 0.8881472\ttotal: 18.8s\tremaining: 28.5s\n",
      "397:\tlearn: 0.8881214\ttotal: 18.8s\tremaining: 28.4s\n",
      "398:\tlearn: 0.8880624\ttotal: 18.9s\tremaining: 28.4s\n",
      "399:\tlearn: 0.8880152\ttotal: 18.9s\tremaining: 28.4s\n",
      "400:\tlearn: 0.8879372\ttotal: 19s\tremaining: 28.4s\n",
      "401:\tlearn: 0.8878512\ttotal: 19.1s\tremaining: 28.4s\n",
      "402:\tlearn: 0.8877766\ttotal: 19.1s\tremaining: 28.3s\n",
      "403:\tlearn: 0.8876702\ttotal: 19.2s\tremaining: 28.3s\n",
      "404:\tlearn: 0.8876281\ttotal: 19.2s\tremaining: 28.2s\n",
      "405:\tlearn: 0.8875189\ttotal: 19.2s\tremaining: 28.1s\n",
      "406:\tlearn: 0.8874703\ttotal: 19.3s\tremaining: 28.1s\n",
      "407:\tlearn: 0.8874124\ttotal: 19.3s\tremaining: 28s\n",
      "408:\tlearn: 0.8873317\ttotal: 19.4s\tremaining: 28s\n",
      "409:\tlearn: 0.8872282\ttotal: 19.4s\tremaining: 27.9s\n",
      "410:\tlearn: 0.8871418\ttotal: 19.4s\tremaining: 27.8s\n",
      "411:\tlearn: 0.8870931\ttotal: 19.5s\tremaining: 27.8s\n",
      "412:\tlearn: 0.8870435\ttotal: 19.5s\tremaining: 27.7s\n",
      "413:\tlearn: 0.8869219\ttotal: 19.6s\tremaining: 27.7s\n",
      "414:\tlearn: 0.8868345\ttotal: 19.6s\tremaining: 27.7s\n",
      "415:\tlearn: 0.8868252\ttotal: 19.7s\tremaining: 27.6s\n",
      "416:\tlearn: 0.8867985\ttotal: 19.8s\tremaining: 27.6s\n",
      "417:\tlearn: 0.8867690\ttotal: 19.8s\tremaining: 27.6s\n",
      "418:\tlearn: 0.8867229\ttotal: 19.8s\tremaining: 27.5s\n",
      "419:\tlearn: 0.8866681\ttotal: 19.9s\tremaining: 27.5s\n",
      "420:\tlearn: 0.8866397\ttotal: 20s\tremaining: 27.4s\n",
      "421:\tlearn: 0.8865881\ttotal: 20s\tremaining: 27.5s\n",
      "422:\tlearn: 0.8864569\ttotal: 20.1s\tremaining: 27.4s\n",
      "423:\tlearn: 0.8864067\ttotal: 20.1s\tremaining: 27.4s\n",
      "424:\tlearn: 0.8863192\ttotal: 20.2s\tremaining: 27.3s\n",
      "425:\tlearn: 0.8862826\ttotal: 20.2s\tremaining: 27.2s\n",
      "426:\tlearn: 0.8861500\ttotal: 20.3s\tremaining: 27.3s\n",
      "427:\tlearn: 0.8860437\ttotal: 20.4s\tremaining: 27.2s\n",
      "428:\tlearn: 0.8860264\ttotal: 20.4s\tremaining: 27.2s\n",
      "429:\tlearn: 0.8860074\ttotal: 20.4s\tremaining: 27.1s\n",
      "430:\tlearn: 0.8858911\ttotal: 20.5s\tremaining: 27s\n",
      "431:\tlearn: 0.8858630\ttotal: 20.5s\tremaining: 27s\n",
      "432:\tlearn: 0.8857678\ttotal: 20.6s\tremaining: 26.9s\n",
      "433:\tlearn: 0.8857485\ttotal: 20.6s\tremaining: 26.9s\n",
      "434:\tlearn: 0.8856564\ttotal: 20.7s\tremaining: 26.9s\n",
      "435:\tlearn: 0.8856267\ttotal: 20.7s\tremaining: 26.8s\n",
      "436:\tlearn: 0.8855831\ttotal: 20.8s\tremaining: 26.8s\n",
      "437:\tlearn: 0.8854965\ttotal: 20.8s\tremaining: 26.7s\n",
      "438:\tlearn: 0.8854707\ttotal: 20.9s\tremaining: 26.7s\n",
      "439:\tlearn: 0.8854206\ttotal: 20.9s\tremaining: 26.6s\n",
      "440:\tlearn: 0.8853199\ttotal: 20.9s\tremaining: 26.5s\n",
      "441:\tlearn: 0.8852433\ttotal: 21s\tremaining: 26.5s\n",
      "442:\tlearn: 0.8851533\ttotal: 21.1s\tremaining: 26.5s\n",
      "443:\tlearn: 0.8850799\ttotal: 21.1s\tremaining: 26.4s\n",
      "444:\tlearn: 0.8850400\ttotal: 21.1s\tremaining: 26.4s\n",
      "445:\tlearn: 0.8850093\ttotal: 21.2s\tremaining: 26.3s\n",
      "446:\tlearn: 0.8849468\ttotal: 21.2s\tremaining: 26.2s\n",
      "447:\tlearn: 0.8848307\ttotal: 21.2s\tremaining: 26.2s\n",
      "448:\tlearn: 0.8847383\ttotal: 21.3s\tremaining: 26.1s\n",
      "449:\tlearn: 0.8846973\ttotal: 21.3s\tremaining: 26s\n",
      "450:\tlearn: 0.8846149\ttotal: 21.4s\tremaining: 26s\n",
      "451:\tlearn: 0.8845242\ttotal: 21.4s\tremaining: 25.9s\n",
      "452:\tlearn: 0.8845162\ttotal: 21.4s\tremaining: 25.9s\n",
      "453:\tlearn: 0.8844387\ttotal: 21.5s\tremaining: 25.8s\n",
      "454:\tlearn: 0.8843962\ttotal: 21.5s\tremaining: 25.7s\n",
      "455:\tlearn: 0.8843568\ttotal: 21.5s\tremaining: 25.7s\n",
      "456:\tlearn: 0.8842834\ttotal: 21.6s\tremaining: 25.6s\n",
      "457:\tlearn: 0.8841543\ttotal: 21.6s\tremaining: 25.6s\n",
      "458:\tlearn: 0.8840953\ttotal: 21.7s\tremaining: 25.5s\n",
      "459:\tlearn: 0.8840909\ttotal: 21.7s\tremaining: 25.5s\n",
      "460:\tlearn: 0.8840292\ttotal: 21.8s\tremaining: 25.5s\n",
      "461:\tlearn: 0.8839534\ttotal: 21.8s\tremaining: 25.4s\n",
      "462:\tlearn: 0.8839077\ttotal: 21.9s\tremaining: 25.4s\n",
      "463:\tlearn: 0.8838653\ttotal: 22s\tremaining: 25.4s\n",
      "464:\tlearn: 0.8838514\ttotal: 22s\tremaining: 25.3s\n",
      "465:\tlearn: 0.8838204\ttotal: 22s\tremaining: 25.3s\n",
      "466:\tlearn: 0.8837150\ttotal: 22.1s\tremaining: 25.2s\n",
      "467:\tlearn: 0.8835783\ttotal: 22.1s\tremaining: 25.1s\n",
      "468:\tlearn: 0.8835173\ttotal: 22.2s\tremaining: 25.1s\n",
      "469:\tlearn: 0.8834586\ttotal: 22.2s\tremaining: 25s\n",
      "470:\tlearn: 0.8833796\ttotal: 22.3s\tremaining: 25.1s\n",
      "471:\tlearn: 0.8832796\ttotal: 22.4s\tremaining: 25s\n",
      "472:\tlearn: 0.8832063\ttotal: 22.4s\tremaining: 25s\n",
      "473:\tlearn: 0.8831763\ttotal: 22.4s\tremaining: 24.9s\n",
      "474:\tlearn: 0.8831420\ttotal: 22.5s\tremaining: 24.8s\n",
      "475:\tlearn: 0.8831362\ttotal: 22.5s\tremaining: 24.8s\n",
      "476:\tlearn: 0.8830865\ttotal: 22.5s\tremaining: 24.7s\n",
      "477:\tlearn: 0.8830062\ttotal: 22.6s\tremaining: 24.7s\n",
      "478:\tlearn: 0.8830046\ttotal: 22.7s\tremaining: 24.6s\n",
      "479:\tlearn: 0.8829526\ttotal: 22.7s\tremaining: 24.6s\n",
      "480:\tlearn: 0.8828393\ttotal: 22.7s\tremaining: 24.5s\n",
      "481:\tlearn: 0.8827681\ttotal: 22.8s\tremaining: 24.5s\n"
     ]
    },
    {
     "name": "stdout",
     "output_type": "stream",
     "text": [
      "482:\tlearn: 0.8826601\ttotal: 22.8s\tremaining: 24.4s\n",
      "483:\tlearn: 0.8825836\ttotal: 22.9s\tremaining: 24.4s\n",
      "484:\tlearn: 0.8825300\ttotal: 22.9s\tremaining: 24.3s\n",
      "485:\tlearn: 0.8824308\ttotal: 23s\tremaining: 24.3s\n",
      "486:\tlearn: 0.8823886\ttotal: 23s\tremaining: 24.2s\n",
      "487:\tlearn: 0.8823469\ttotal: 23.1s\tremaining: 24.2s\n",
      "488:\tlearn: 0.8822545\ttotal: 23.2s\tremaining: 24.2s\n",
      "489:\tlearn: 0.8821804\ttotal: 23.2s\tremaining: 24.2s\n",
      "490:\tlearn: 0.8820694\ttotal: 23.3s\tremaining: 24.1s\n",
      "491:\tlearn: 0.8819814\ttotal: 23.3s\tremaining: 24.1s\n",
      "492:\tlearn: 0.8819050\ttotal: 23.4s\tremaining: 24s\n",
      "493:\tlearn: 0.8818409\ttotal: 23.4s\tremaining: 24s\n",
      "494:\tlearn: 0.8818168\ttotal: 23.5s\tremaining: 23.9s\n",
      "495:\tlearn: 0.8817080\ttotal: 23.5s\tremaining: 23.9s\n",
      "496:\tlearn: 0.8816393\ttotal: 23.5s\tremaining: 23.8s\n",
      "497:\tlearn: 0.8815407\ttotal: 23.6s\tremaining: 23.8s\n",
      "498:\tlearn: 0.8814598\ttotal: 23.6s\tremaining: 23.7s\n",
      "499:\tlearn: 0.8813616\ttotal: 23.6s\tremaining: 23.6s\n",
      "500:\tlearn: 0.8812810\ttotal: 23.7s\tremaining: 23.6s\n",
      "501:\tlearn: 0.8811964\ttotal: 23.8s\tremaining: 23.6s\n",
      "502:\tlearn: 0.8811486\ttotal: 23.8s\tremaining: 23.5s\n",
      "503:\tlearn: 0.8810611\ttotal: 23.9s\tremaining: 23.5s\n",
      "504:\tlearn: 0.8810333\ttotal: 23.9s\tremaining: 23.4s\n",
      "505:\tlearn: 0.8809413\ttotal: 23.9s\tremaining: 23.4s\n",
      "506:\tlearn: 0.8808664\ttotal: 24s\tremaining: 23.3s\n",
      "507:\tlearn: 0.8807610\ttotal: 24.1s\tremaining: 23.3s\n",
      "508:\tlearn: 0.8807228\ttotal: 24.1s\tremaining: 23.3s\n",
      "509:\tlearn: 0.8806676\ttotal: 24.2s\tremaining: 23.2s\n",
      "510:\tlearn: 0.8806031\ttotal: 24.2s\tremaining: 23.2s\n",
      "511:\tlearn: 0.8805252\ttotal: 24.2s\tremaining: 23.1s\n",
      "512:\tlearn: 0.8804968\ttotal: 24.3s\tremaining: 23.1s\n",
      "513:\tlearn: 0.8804141\ttotal: 24.3s\tremaining: 23s\n",
      "514:\tlearn: 0.8802919\ttotal: 24.4s\tremaining: 23s\n",
      "515:\tlearn: 0.8801831\ttotal: 24.4s\tremaining: 22.9s\n",
      "516:\tlearn: 0.8801667\ttotal: 24.5s\tremaining: 22.9s\n",
      "517:\tlearn: 0.8801260\ttotal: 24.6s\tremaining: 22.8s\n",
      "518:\tlearn: 0.8801154\ttotal: 24.6s\tremaining: 22.8s\n",
      "519:\tlearn: 0.8800844\ttotal: 24.6s\tremaining: 22.7s\n",
      "520:\tlearn: 0.8800357\ttotal: 24.7s\tremaining: 22.7s\n",
      "521:\tlearn: 0.8799639\ttotal: 24.7s\tremaining: 22.6s\n",
      "522:\tlearn: 0.8798449\ttotal: 24.7s\tremaining: 22.6s\n",
      "523:\tlearn: 0.8798109\ttotal: 24.8s\tremaining: 22.5s\n",
      "524:\tlearn: 0.8797583\ttotal: 24.8s\tremaining: 22.4s\n",
      "525:\tlearn: 0.8796701\ttotal: 24.8s\tremaining: 22.4s\n",
      "526:\tlearn: 0.8796445\ttotal: 24.9s\tremaining: 22.3s\n",
      "527:\tlearn: 0.8796280\ttotal: 24.9s\tremaining: 22.3s\n",
      "528:\tlearn: 0.8795919\ttotal: 24.9s\tremaining: 22.2s\n",
      "529:\tlearn: 0.8795165\ttotal: 25s\tremaining: 22.2s\n",
      "530:\tlearn: 0.8794594\ttotal: 25s\tremaining: 22.1s\n",
      "531:\tlearn: 0.8793904\ttotal: 25.1s\tremaining: 22s\n",
      "532:\tlearn: 0.8793252\ttotal: 25.1s\tremaining: 22s\n",
      "533:\tlearn: 0.8792790\ttotal: 25.2s\tremaining: 22s\n",
      "534:\tlearn: 0.8792647\ttotal: 25.2s\tremaining: 21.9s\n",
      "535:\tlearn: 0.8792185\ttotal: 25.3s\tremaining: 21.9s\n",
      "536:\tlearn: 0.8791375\ttotal: 25.3s\tremaining: 21.8s\n",
      "537:\tlearn: 0.8790837\ttotal: 25.3s\tremaining: 21.8s\n",
      "538:\tlearn: 0.8790643\ttotal: 25.4s\tremaining: 21.7s\n",
      "539:\tlearn: 0.8790375\ttotal: 25.4s\tremaining: 21.7s\n",
      "540:\tlearn: 0.8790121\ttotal: 25.5s\tremaining: 21.6s\n",
      "541:\tlearn: 0.8789588\ttotal: 25.5s\tremaining: 21.5s\n",
      "542:\tlearn: 0.8789197\ttotal: 25.5s\tremaining: 21.5s\n",
      "543:\tlearn: 0.8789026\ttotal: 25.6s\tremaining: 21.5s\n",
      "544:\tlearn: 0.8788320\ttotal: 25.7s\tremaining: 21.4s\n",
      "545:\tlearn: 0.8788039\ttotal: 25.7s\tremaining: 21.4s\n",
      "546:\tlearn: 0.8787842\ttotal: 25.7s\tremaining: 21.3s\n",
      "547:\tlearn: 0.8787575\ttotal: 25.8s\tremaining: 21.3s\n",
      "548:\tlearn: 0.8787079\ttotal: 25.8s\tremaining: 21.2s\n",
      "549:\tlearn: 0.8786783\ttotal: 25.8s\tremaining: 21.1s\n",
      "550:\tlearn: 0.8786340\ttotal: 25.9s\tremaining: 21.1s\n",
      "551:\tlearn: 0.8785744\ttotal: 25.9s\tremaining: 21s\n",
      "552:\tlearn: 0.8785093\ttotal: 25.9s\tremaining: 21s\n",
      "553:\tlearn: 0.8784568\ttotal: 26s\tremaining: 20.9s\n",
      "554:\tlearn: 0.8784451\ttotal: 26s\tremaining: 20.9s\n",
      "555:\tlearn: 0.8783656\ttotal: 26.1s\tremaining: 20.8s\n",
      "556:\tlearn: 0.8782945\ttotal: 26.1s\tremaining: 20.8s\n",
      "557:\tlearn: 0.8782286\ttotal: 26.1s\tremaining: 20.7s\n",
      "558:\tlearn: 0.8781469\ttotal: 26.2s\tremaining: 20.7s\n",
      "559:\tlearn: 0.8781157\ttotal: 26.3s\tremaining: 20.6s\n",
      "560:\tlearn: 0.8780322\ttotal: 26.4s\tremaining: 20.6s\n",
      "561:\tlearn: 0.8779919\ttotal: 26.4s\tremaining: 20.6s\n",
      "562:\tlearn: 0.8779178\ttotal: 26.4s\tremaining: 20.5s\n",
      "563:\tlearn: 0.8778448\ttotal: 26.5s\tremaining: 20.5s\n",
      "564:\tlearn: 0.8777891\ttotal: 26.5s\tremaining: 20.4s\n",
      "565:\tlearn: 0.8776803\ttotal: 26.6s\tremaining: 20.4s\n",
      "566:\tlearn: 0.8776673\ttotal: 26.6s\tremaining: 20.4s\n",
      "567:\tlearn: 0.8776063\ttotal: 26.7s\tremaining: 20.3s\n",
      "568:\tlearn: 0.8775663\ttotal: 26.8s\tremaining: 20.3s\n",
      "569:\tlearn: 0.8775275\ttotal: 26.8s\tremaining: 20.2s\n",
      "570:\tlearn: 0.8774998\ttotal: 26.9s\tremaining: 20.2s\n",
      "571:\tlearn: 0.8774660\ttotal: 26.9s\tremaining: 20.1s\n",
      "572:\tlearn: 0.8773190\ttotal: 27s\tremaining: 20.1s\n",
      "573:\tlearn: 0.8773010\ttotal: 27s\tremaining: 20s\n",
      "574:\tlearn: 0.8772405\ttotal: 27s\tremaining: 20s\n",
      "575:\tlearn: 0.8771362\ttotal: 27.1s\tremaining: 19.9s\n",
      "576:\tlearn: 0.8771023\ttotal: 27.1s\tremaining: 19.9s\n",
      "577:\tlearn: 0.8770271\ttotal: 27.2s\tremaining: 19.9s\n",
      "578:\tlearn: 0.8769689\ttotal: 27.2s\tremaining: 19.8s\n",
      "579:\tlearn: 0.8769118\ttotal: 27.4s\tremaining: 19.8s\n",
      "580:\tlearn: 0.8768469\ttotal: 27.4s\tremaining: 19.8s\n",
      "581:\tlearn: 0.8768049\ttotal: 27.5s\tremaining: 19.7s\n",
      "582:\tlearn: 0.8767291\ttotal: 27.6s\tremaining: 19.7s\n",
      "583:\tlearn: 0.8766502\ttotal: 27.6s\tremaining: 19.7s\n",
      "584:\tlearn: 0.8766241\ttotal: 27.6s\tremaining: 19.6s\n",
      "585:\tlearn: 0.8766116\ttotal: 27.7s\tremaining: 19.6s\n",
      "586:\tlearn: 0.8765423\ttotal: 27.7s\tremaining: 19.5s\n",
      "587:\tlearn: 0.8764690\ttotal: 27.7s\tremaining: 19.4s\n",
      "588:\tlearn: 0.8764581\ttotal: 27.8s\tremaining: 19.4s\n",
      "589:\tlearn: 0.8763705\ttotal: 27.8s\tremaining: 19.3s\n",
      "590:\tlearn: 0.8763193\ttotal: 27.8s\tremaining: 19.3s\n",
      "591:\tlearn: 0.8762666\ttotal: 27.9s\tremaining: 19.2s\n",
      "592:\tlearn: 0.8762182\ttotal: 27.9s\tremaining: 19.2s\n",
      "593:\tlearn: 0.8761754\ttotal: 28s\tremaining: 19.1s\n",
      "594:\tlearn: 0.8761012\ttotal: 28s\tremaining: 19.1s\n",
      "595:\tlearn: 0.8760130\ttotal: 28.1s\tremaining: 19s\n",
      "596:\tlearn: 0.8759671\ttotal: 28.1s\tremaining: 19s\n",
      "597:\tlearn: 0.8759557\ttotal: 28.1s\tremaining: 18.9s\n",
      "598:\tlearn: 0.8758893\ttotal: 28.2s\tremaining: 18.9s\n",
      "599:\tlearn: 0.8758190\ttotal: 28.3s\tremaining: 18.8s\n",
      "600:\tlearn: 0.8758090\ttotal: 28.3s\tremaining: 18.8s\n",
      "601:\tlearn: 0.8757665\ttotal: 28.4s\tremaining: 18.8s\n",
      "602:\tlearn: 0.8757234\ttotal: 28.4s\tremaining: 18.7s\n",
      "603:\tlearn: 0.8757060\ttotal: 28.4s\tremaining: 18.7s\n",
      "604:\tlearn: 0.8756519\ttotal: 28.5s\tremaining: 18.6s\n",
      "605:\tlearn: 0.8755797\ttotal: 28.6s\tremaining: 18.6s\n",
      "606:\tlearn: 0.8755772\ttotal: 28.7s\tremaining: 18.6s\n",
      "607:\tlearn: 0.8754980\ttotal: 28.7s\tremaining: 18.5s\n",
      "608:\tlearn: 0.8754754\ttotal: 28.8s\tremaining: 18.5s\n",
      "609:\tlearn: 0.8754132\ttotal: 28.8s\tremaining: 18.4s\n",
      "610:\tlearn: 0.8753433\ttotal: 28.8s\tremaining: 18.4s\n",
      "611:\tlearn: 0.8753151\ttotal: 28.9s\tremaining: 18.3s\n",
      "612:\tlearn: 0.8752748\ttotal: 29s\tremaining: 18.3s\n",
      "613:\tlearn: 0.8752724\ttotal: 29s\tremaining: 18.2s\n",
      "614:\tlearn: 0.8751992\ttotal: 29.1s\tremaining: 18.2s\n",
      "615:\tlearn: 0.8751257\ttotal: 29.1s\tremaining: 18.1s\n",
      "616:\tlearn: 0.8750325\ttotal: 29.2s\tremaining: 18.1s\n",
      "617:\tlearn: 0.8750213\ttotal: 29.2s\tremaining: 18s\n",
      "618:\tlearn: 0.8749153\ttotal: 29.2s\tremaining: 18s\n",
      "619:\tlearn: 0.8748387\ttotal: 29.3s\tremaining: 17.9s\n",
      "620:\tlearn: 0.8747612\ttotal: 29.4s\tremaining: 17.9s\n",
      "621:\tlearn: 0.8747016\ttotal: 29.4s\tremaining: 17.9s\n",
      "622:\tlearn: 0.8746810\ttotal: 29.5s\tremaining: 17.8s\n",
      "623:\tlearn: 0.8746434\ttotal: 29.5s\tremaining: 17.8s\n",
      "624:\tlearn: 0.8746196\ttotal: 29.5s\tremaining: 17.7s\n",
      "625:\tlearn: 0.8745799\ttotal: 29.6s\tremaining: 17.7s\n",
      "626:\tlearn: 0.8744905\ttotal: 29.6s\tremaining: 17.6s\n",
      "627:\tlearn: 0.8744119\ttotal: 29.6s\tremaining: 17.5s\n",
      "628:\tlearn: 0.8743518\ttotal: 29.7s\tremaining: 17.5s\n",
      "629:\tlearn: 0.8742427\ttotal: 29.7s\tremaining: 17.5s\n",
      "630:\tlearn: 0.8742147\ttotal: 29.8s\tremaining: 17.4s\n",
      "631:\tlearn: 0.8741999\ttotal: 29.8s\tremaining: 17.4s\n",
      "632:\tlearn: 0.8741077\ttotal: 29.9s\tremaining: 17.3s\n",
      "633:\tlearn: 0.8740422\ttotal: 30s\tremaining: 17.3s\n",
      "634:\tlearn: 0.8739957\ttotal: 30s\tremaining: 17.2s\n",
      "635:\tlearn: 0.8739728\ttotal: 30s\tremaining: 17.2s\n",
      "636:\tlearn: 0.8739387\ttotal: 30.1s\tremaining: 17.2s\n",
      "637:\tlearn: 0.8739146\ttotal: 30.1s\tremaining: 17.1s\n",
      "638:\tlearn: 0.8738677\ttotal: 30.2s\tremaining: 17s\n",
      "639:\tlearn: 0.8738432\ttotal: 30.2s\tremaining: 17s\n",
      "640:\tlearn: 0.8737906\ttotal: 30.3s\tremaining: 17s\n",
      "641:\tlearn: 0.8737878\ttotal: 30.3s\tremaining: 16.9s\n"
     ]
    },
    {
     "name": "stdout",
     "output_type": "stream",
     "text": [
      "642:\tlearn: 0.8737424\ttotal: 30.4s\tremaining: 16.9s\n",
      "643:\tlearn: 0.8736993\ttotal: 30.4s\tremaining: 16.8s\n",
      "644:\tlearn: 0.8736719\ttotal: 30.4s\tremaining: 16.7s\n",
      "645:\tlearn: 0.8735660\ttotal: 30.5s\tremaining: 16.7s\n",
      "646:\tlearn: 0.8734870\ttotal: 30.5s\tremaining: 16.6s\n",
      "647:\tlearn: 0.8734567\ttotal: 30.6s\tremaining: 16.6s\n",
      "648:\tlearn: 0.8734151\ttotal: 30.6s\tremaining: 16.6s\n",
      "649:\tlearn: 0.8733547\ttotal: 30.7s\tremaining: 16.5s\n",
      "650:\tlearn: 0.8733260\ttotal: 30.7s\tremaining: 16.5s\n",
      "651:\tlearn: 0.8732693\ttotal: 30.8s\tremaining: 16.4s\n",
      "652:\tlearn: 0.8732273\ttotal: 30.8s\tremaining: 16.4s\n",
      "653:\tlearn: 0.8731383\ttotal: 30.9s\tremaining: 16.3s\n",
      "654:\tlearn: 0.8730421\ttotal: 30.9s\tremaining: 16.3s\n",
      "655:\tlearn: 0.8729867\ttotal: 30.9s\tremaining: 16.2s\n",
      "656:\tlearn: 0.8729647\ttotal: 30.9s\tremaining: 16.2s\n",
      "657:\tlearn: 0.8729118\ttotal: 31s\tremaining: 16.1s\n",
      "658:\tlearn: 0.8728467\ttotal: 31s\tremaining: 16.1s\n",
      "659:\tlearn: 0.8728149\ttotal: 31.1s\tremaining: 16s\n",
      "660:\tlearn: 0.8727815\ttotal: 31.1s\tremaining: 16s\n",
      "661:\tlearn: 0.8727222\ttotal: 31.2s\tremaining: 15.9s\n",
      "662:\tlearn: 0.8726181\ttotal: 31.2s\tremaining: 15.8s\n",
      "663:\tlearn: 0.8725228\ttotal: 31.3s\tremaining: 15.8s\n",
      "664:\tlearn: 0.8724367\ttotal: 31.3s\tremaining: 15.8s\n",
      "665:\tlearn: 0.8723681\ttotal: 31.3s\tremaining: 15.7s\n",
      "666:\tlearn: 0.8723515\ttotal: 31.4s\tremaining: 15.7s\n",
      "667:\tlearn: 0.8722895\ttotal: 31.4s\tremaining: 15.6s\n",
      "668:\tlearn: 0.8722747\ttotal: 31.4s\tremaining: 15.6s\n",
      "669:\tlearn: 0.8722410\ttotal: 31.5s\tremaining: 15.5s\n",
      "670:\tlearn: 0.8721442\ttotal: 31.6s\tremaining: 15.5s\n",
      "671:\tlearn: 0.8721101\ttotal: 31.6s\tremaining: 15.4s\n",
      "672:\tlearn: 0.8720715\ttotal: 31.7s\tremaining: 15.4s\n",
      "673:\tlearn: 0.8720354\ttotal: 31.7s\tremaining: 15.3s\n",
      "674:\tlearn: 0.8719714\ttotal: 31.7s\tremaining: 15.3s\n",
      "675:\tlearn: 0.8719518\ttotal: 31.8s\tremaining: 15.2s\n",
      "676:\tlearn: 0.8719332\ttotal: 31.8s\tremaining: 15.2s\n",
      "677:\tlearn: 0.8718610\ttotal: 31.9s\tremaining: 15.1s\n",
      "678:\tlearn: 0.8718177\ttotal: 31.9s\tremaining: 15.1s\n",
      "679:\tlearn: 0.8717734\ttotal: 31.9s\tremaining: 15s\n",
      "680:\tlearn: 0.8717219\ttotal: 32s\tremaining: 15s\n",
      "681:\tlearn: 0.8716943\ttotal: 32s\tremaining: 14.9s\n",
      "682:\tlearn: 0.8716025\ttotal: 32s\tremaining: 14.9s\n",
      "683:\tlearn: 0.8715155\ttotal: 32.1s\tremaining: 14.8s\n",
      "684:\tlearn: 0.8714904\ttotal: 32.1s\tremaining: 14.8s\n",
      "685:\tlearn: 0.8714380\ttotal: 32.1s\tremaining: 14.7s\n",
      "686:\tlearn: 0.8713778\ttotal: 32.2s\tremaining: 14.7s\n",
      "687:\tlearn: 0.8713407\ttotal: 32.2s\tremaining: 14.6s\n",
      "688:\tlearn: 0.8712708\ttotal: 32.3s\tremaining: 14.6s\n",
      "689:\tlearn: 0.8712603\ttotal: 32.3s\tremaining: 14.5s\n",
      "690:\tlearn: 0.8711886\ttotal: 32.4s\tremaining: 14.5s\n",
      "691:\tlearn: 0.8711025\ttotal: 32.4s\tremaining: 14.4s\n",
      "692:\tlearn: 0.8710459\ttotal: 32.5s\tremaining: 14.4s\n",
      "693:\tlearn: 0.8710050\ttotal: 32.5s\tremaining: 14.3s\n",
      "694:\tlearn: 0.8709926\ttotal: 32.6s\tremaining: 14.3s\n",
      "695:\tlearn: 0.8709626\ttotal: 32.6s\tremaining: 14.2s\n",
      "696:\tlearn: 0.8709150\ttotal: 32.7s\tremaining: 14.2s\n",
      "697:\tlearn: 0.8708781\ttotal: 32.8s\tremaining: 14.2s\n",
      "698:\tlearn: 0.8707732\ttotal: 32.8s\tremaining: 14.1s\n",
      "699:\tlearn: 0.8707548\ttotal: 32.8s\tremaining: 14.1s\n",
      "700:\tlearn: 0.8707158\ttotal: 32.9s\tremaining: 14s\n",
      "701:\tlearn: 0.8706435\ttotal: 32.9s\tremaining: 14s\n",
      "702:\tlearn: 0.8706149\ttotal: 33s\tremaining: 13.9s\n",
      "703:\tlearn: 0.8706023\ttotal: 33s\tremaining: 13.9s\n",
      "704:\tlearn: 0.8705001\ttotal: 33s\tremaining: 13.8s\n",
      "705:\tlearn: 0.8704577\ttotal: 33.1s\tremaining: 13.8s\n",
      "706:\tlearn: 0.8704254\ttotal: 33.1s\tremaining: 13.7s\n",
      "707:\tlearn: 0.8703733\ttotal: 33.1s\tremaining: 13.7s\n",
      "708:\tlearn: 0.8703075\ttotal: 33.2s\tremaining: 13.6s\n",
      "709:\tlearn: 0.8702374\ttotal: 33.3s\tremaining: 13.6s\n",
      "710:\tlearn: 0.8701667\ttotal: 33.3s\tremaining: 13.5s\n",
      "711:\tlearn: 0.8701077\ttotal: 33.3s\tremaining: 13.5s\n",
      "712:\tlearn: 0.8700726\ttotal: 33.4s\tremaining: 13.4s\n",
      "713:\tlearn: 0.8700496\ttotal: 33.4s\tremaining: 13.4s\n",
      "714:\tlearn: 0.8699539\ttotal: 33.4s\tremaining: 13.3s\n",
      "715:\tlearn: 0.8699286\ttotal: 33.5s\tremaining: 13.3s\n",
      "716:\tlearn: 0.8698705\ttotal: 33.6s\tremaining: 13.2s\n",
      "717:\tlearn: 0.8697989\ttotal: 33.6s\tremaining: 13.2s\n",
      "718:\tlearn: 0.8697811\ttotal: 33.7s\tremaining: 13.2s\n",
      "719:\tlearn: 0.8697464\ttotal: 33.7s\tremaining: 13.1s\n",
      "720:\tlearn: 0.8697442\ttotal: 33.7s\tremaining: 13.1s\n",
      "721:\tlearn: 0.8696582\ttotal: 33.8s\tremaining: 13s\n",
      "722:\tlearn: 0.8696362\ttotal: 33.9s\tremaining: 13s\n",
      "723:\tlearn: 0.8696110\ttotal: 33.9s\tremaining: 12.9s\n",
      "724:\tlearn: 0.8695880\ttotal: 33.9s\tremaining: 12.9s\n",
      "725:\tlearn: 0.8695531\ttotal: 34s\tremaining: 12.8s\n",
      "726:\tlearn: 0.8695429\ttotal: 34.1s\tremaining: 12.8s\n",
      "727:\tlearn: 0.8695268\ttotal: 34.1s\tremaining: 12.7s\n",
      "728:\tlearn: 0.8694875\ttotal: 34.2s\tremaining: 12.7s\n",
      "729:\tlearn: 0.8694364\ttotal: 34.2s\tremaining: 12.7s\n",
      "730:\tlearn: 0.8693734\ttotal: 34.3s\tremaining: 12.6s\n",
      "731:\tlearn: 0.8693271\ttotal: 34.3s\tremaining: 12.6s\n",
      "732:\tlearn: 0.8693012\ttotal: 34.3s\tremaining: 12.5s\n",
      "733:\tlearn: 0.8692415\ttotal: 34.4s\tremaining: 12.5s\n",
      "734:\tlearn: 0.8691789\ttotal: 34.5s\tremaining: 12.4s\n",
      "735:\tlearn: 0.8691173\ttotal: 34.5s\tremaining: 12.4s\n",
      "736:\tlearn: 0.8690589\ttotal: 34.6s\tremaining: 12.3s\n",
      "737:\tlearn: 0.8689873\ttotal: 34.6s\tremaining: 12.3s\n",
      "738:\tlearn: 0.8689446\ttotal: 34.7s\tremaining: 12.3s\n",
      "739:\tlearn: 0.8688803\ttotal: 34.8s\tremaining: 12.2s\n",
      "740:\tlearn: 0.8687984\ttotal: 34.9s\tremaining: 12.2s\n",
      "741:\tlearn: 0.8687358\ttotal: 34.9s\tremaining: 12.1s\n",
      "742:\tlearn: 0.8686267\ttotal: 35s\tremaining: 12.1s\n",
      "743:\tlearn: 0.8685845\ttotal: 35s\tremaining: 12s\n",
      "744:\tlearn: 0.8685405\ttotal: 35.1s\tremaining: 12s\n",
      "745:\tlearn: 0.8684851\ttotal: 35.2s\tremaining: 12s\n",
      "746:\tlearn: 0.8684599\ttotal: 35.2s\tremaining: 11.9s\n",
      "747:\tlearn: 0.8684202\ttotal: 35.3s\tremaining: 11.9s\n",
      "748:\tlearn: 0.8683838\ttotal: 35.3s\tremaining: 11.8s\n",
      "749:\tlearn: 0.8683327\ttotal: 35.4s\tremaining: 11.8s\n",
      "750:\tlearn: 0.8683243\ttotal: 35.4s\tremaining: 11.7s\n",
      "751:\tlearn: 0.8682764\ttotal: 35.5s\tremaining: 11.7s\n",
      "752:\tlearn: 0.8682134\ttotal: 35.5s\tremaining: 11.7s\n",
      "753:\tlearn: 0.8682010\ttotal: 35.6s\tremaining: 11.6s\n",
      "754:\tlearn: 0.8681402\ttotal: 35.6s\tremaining: 11.5s\n",
      "755:\tlearn: 0.8680893\ttotal: 35.6s\tremaining: 11.5s\n",
      "756:\tlearn: 0.8680242\ttotal: 35.7s\tremaining: 11.5s\n",
      "757:\tlearn: 0.8680055\ttotal: 35.8s\tremaining: 11.4s\n",
      "758:\tlearn: 0.8679940\ttotal: 35.8s\tremaining: 11.4s\n",
      "759:\tlearn: 0.8679308\ttotal: 35.9s\tremaining: 11.3s\n",
      "760:\tlearn: 0.8678831\ttotal: 36s\tremaining: 11.3s\n",
      "761:\tlearn: 0.8678178\ttotal: 36s\tremaining: 11.2s\n",
      "762:\tlearn: 0.8677866\ttotal: 36.1s\tremaining: 11.2s\n",
      "763:\tlearn: 0.8677508\ttotal: 36.1s\tremaining: 11.1s\n",
      "764:\tlearn: 0.8677215\ttotal: 36.1s\tremaining: 11.1s\n",
      "765:\tlearn: 0.8676433\ttotal: 36.2s\tremaining: 11s\n",
      "766:\tlearn: 0.8676065\ttotal: 36.2s\tremaining: 11s\n",
      "767:\tlearn: 0.8675752\ttotal: 36.3s\tremaining: 11s\n",
      "768:\tlearn: 0.8675540\ttotal: 36.3s\tremaining: 10.9s\n",
      "769:\tlearn: 0.8674910\ttotal: 36.4s\tremaining: 10.9s\n",
      "770:\tlearn: 0.8674324\ttotal: 36.5s\tremaining: 10.8s\n",
      "771:\tlearn: 0.8673527\ttotal: 36.5s\tremaining: 10.8s\n",
      "772:\tlearn: 0.8673317\ttotal: 36.5s\tremaining: 10.7s\n",
      "773:\tlearn: 0.8673167\ttotal: 36.6s\tremaining: 10.7s\n",
      "774:\tlearn: 0.8672464\ttotal: 36.6s\tremaining: 10.6s\n",
      "775:\tlearn: 0.8671931\ttotal: 36.7s\tremaining: 10.6s\n",
      "776:\tlearn: 0.8671206\ttotal: 36.7s\tremaining: 10.5s\n",
      "777:\tlearn: 0.8670299\ttotal: 36.7s\tremaining: 10.5s\n",
      "778:\tlearn: 0.8669861\ttotal: 36.8s\tremaining: 10.4s\n",
      "779:\tlearn: 0.8669372\ttotal: 36.8s\tremaining: 10.4s\n",
      "780:\tlearn: 0.8668796\ttotal: 36.9s\tremaining: 10.3s\n",
      "781:\tlearn: 0.8668508\ttotal: 36.9s\tremaining: 10.3s\n",
      "782:\tlearn: 0.8667946\ttotal: 37s\tremaining: 10.3s\n",
      "783:\tlearn: 0.8667894\ttotal: 37s\tremaining: 10.2s\n",
      "784:\tlearn: 0.8667534\ttotal: 37.1s\tremaining: 10.2s\n",
      "785:\tlearn: 0.8667046\ttotal: 37.1s\tremaining: 10.1s\n",
      "786:\tlearn: 0.8666364\ttotal: 37.1s\tremaining: 10.1s\n",
      "787:\tlearn: 0.8666102\ttotal: 37.2s\tremaining: 10s\n",
      "788:\tlearn: 0.8665987\ttotal: 37.2s\tremaining: 9.95s\n",
      "789:\tlearn: 0.8665637\ttotal: 37.2s\tremaining: 9.9s\n",
      "790:\tlearn: 0.8664750\ttotal: 37.3s\tremaining: 9.85s\n",
      "791:\tlearn: 0.8664172\ttotal: 37.3s\tremaining: 9.8s\n",
      "792:\tlearn: 0.8663863\ttotal: 37.4s\tremaining: 9.75s\n",
      "793:\tlearn: 0.8663085\ttotal: 37.5s\tremaining: 9.72s\n",
      "794:\tlearn: 0.8662574\ttotal: 37.5s\tremaining: 9.67s\n",
      "795:\tlearn: 0.8661989\ttotal: 37.6s\tremaining: 9.63s\n",
      "796:\tlearn: 0.8661583\ttotal: 37.6s\tremaining: 9.58s\n",
      "797:\tlearn: 0.8661228\ttotal: 37.7s\tremaining: 9.53s\n",
      "798:\tlearn: 0.8660254\ttotal: 37.7s\tremaining: 9.48s\n",
      "799:\tlearn: 0.8659802\ttotal: 37.8s\tremaining: 9.44s\n",
      "800:\tlearn: 0.8659386\ttotal: 37.8s\tremaining: 9.4s\n"
     ]
    },
    {
     "name": "stdout",
     "output_type": "stream",
     "text": [
      "801:\tlearn: 0.8657997\ttotal: 37.9s\tremaining: 9.36s\n",
      "802:\tlearn: 0.8657839\ttotal: 37.9s\tremaining: 9.31s\n",
      "803:\tlearn: 0.8657084\ttotal: 38s\tremaining: 9.26s\n",
      "804:\tlearn: 0.8655879\ttotal: 38.1s\tremaining: 9.23s\n",
      "805:\tlearn: 0.8654760\ttotal: 38.1s\tremaining: 9.18s\n",
      "806:\tlearn: 0.8654210\ttotal: 38.3s\tremaining: 9.15s\n",
      "807:\tlearn: 0.8654111\ttotal: 38.3s\tremaining: 9.1s\n",
      "808:\tlearn: 0.8653990\ttotal: 38.3s\tremaining: 9.05s\n",
      "809:\tlearn: 0.8652921\ttotal: 38.4s\tremaining: 9.02s\n",
      "810:\tlearn: 0.8652657\ttotal: 38.5s\tremaining: 8.97s\n",
      "811:\tlearn: 0.8652328\ttotal: 38.6s\tremaining: 8.93s\n",
      "812:\tlearn: 0.8651424\ttotal: 38.6s\tremaining: 8.88s\n",
      "813:\tlearn: 0.8650781\ttotal: 38.7s\tremaining: 8.83s\n",
      "814:\tlearn: 0.8649783\ttotal: 38.8s\tremaining: 8.8s\n",
      "815:\tlearn: 0.8649659\ttotal: 38.9s\tremaining: 8.76s\n",
      "816:\tlearn: 0.8649119\ttotal: 38.9s\tremaining: 8.71s\n",
      "817:\tlearn: 0.8648147\ttotal: 39s\tremaining: 8.68s\n",
      "818:\tlearn: 0.8647190\ttotal: 39.1s\tremaining: 8.64s\n",
      "819:\tlearn: 0.8646501\ttotal: 39.1s\tremaining: 8.59s\n",
      "820:\tlearn: 0.8646119\ttotal: 39.2s\tremaining: 8.55s\n",
      "821:\tlearn: 0.8645525\ttotal: 39.2s\tremaining: 8.5s\n",
      "822:\tlearn: 0.8645390\ttotal: 39.3s\tremaining: 8.45s\n",
      "823:\tlearn: 0.8645271\ttotal: 39.3s\tremaining: 8.4s\n",
      "824:\tlearn: 0.8644861\ttotal: 39.4s\tremaining: 8.35s\n",
      "825:\tlearn: 0.8644601\ttotal: 39.5s\tremaining: 8.32s\n",
      "826:\tlearn: 0.8644374\ttotal: 39.5s\tremaining: 8.27s\n",
      "827:\tlearn: 0.8643300\ttotal: 39.6s\tremaining: 8.22s\n",
      "828:\tlearn: 0.8642487\ttotal: 39.6s\tremaining: 8.17s\n",
      "829:\tlearn: 0.8642253\ttotal: 39.6s\tremaining: 8.12s\n",
      "830:\tlearn: 0.8642028\ttotal: 39.7s\tremaining: 8.08s\n",
      "831:\tlearn: 0.8641702\ttotal: 39.8s\tremaining: 8.04s\n",
      "832:\tlearn: 0.8640862\ttotal: 39.9s\tremaining: 7.99s\n",
      "833:\tlearn: 0.8640475\ttotal: 39.9s\tremaining: 7.94s\n",
      "834:\tlearn: 0.8639292\ttotal: 39.9s\tremaining: 7.89s\n",
      "835:\tlearn: 0.8639142\ttotal: 40s\tremaining: 7.84s\n",
      "836:\tlearn: 0.8638672\ttotal: 40s\tremaining: 7.79s\n",
      "837:\tlearn: 0.8637905\ttotal: 40s\tremaining: 7.74s\n",
      "838:\tlearn: 0.8637218\ttotal: 40.1s\tremaining: 7.69s\n",
      "839:\tlearn: 0.8636481\ttotal: 40.1s\tremaining: 7.64s\n",
      "840:\tlearn: 0.8635679\ttotal: 40.1s\tremaining: 7.59s\n",
      "841:\tlearn: 0.8635275\ttotal: 40.2s\tremaining: 7.54s\n",
      "842:\tlearn: 0.8634841\ttotal: 40.2s\tremaining: 7.49s\n",
      "843:\tlearn: 0.8634121\ttotal: 40.3s\tremaining: 7.44s\n",
      "844:\tlearn: 0.8633187\ttotal: 40.3s\tremaining: 7.4s\n",
      "845:\tlearn: 0.8632886\ttotal: 40.4s\tremaining: 7.35s\n",
      "846:\tlearn: 0.8632574\ttotal: 40.4s\tremaining: 7.3s\n",
      "847:\tlearn: 0.8632091\ttotal: 40.5s\tremaining: 7.25s\n",
      "848:\tlearn: 0.8631252\ttotal: 40.5s\tremaining: 7.2s\n",
      "849:\tlearn: 0.8631158\ttotal: 40.6s\tremaining: 7.16s\n",
      "850:\tlearn: 0.8630506\ttotal: 40.6s\tremaining: 7.11s\n",
      "851:\tlearn: 0.8629942\ttotal: 40.6s\tremaining: 7.06s\n",
      "852:\tlearn: 0.8629084\ttotal: 40.8s\tremaining: 7.02s\n",
      "853:\tlearn: 0.8628137\ttotal: 40.8s\tremaining: 6.97s\n",
      "854:\tlearn: 0.8627105\ttotal: 40.9s\tremaining: 6.93s\n",
      "855:\tlearn: 0.8626687\ttotal: 41s\tremaining: 6.89s\n",
      "856:\tlearn: 0.8626214\ttotal: 41.1s\tremaining: 6.85s\n",
      "857:\tlearn: 0.8625637\ttotal: 41.1s\tremaining: 6.8s\n",
      "858:\tlearn: 0.8625311\ttotal: 41.2s\tremaining: 6.76s\n",
      "859:\tlearn: 0.8624799\ttotal: 41.2s\tremaining: 6.71s\n",
      "860:\tlearn: 0.8624174\ttotal: 41.3s\tremaining: 6.66s\n",
      "861:\tlearn: 0.8623592\ttotal: 41.3s\tremaining: 6.62s\n",
      "862:\tlearn: 0.8623244\ttotal: 41.4s\tremaining: 6.57s\n",
      "863:\tlearn: 0.8622588\ttotal: 41.4s\tremaining: 6.52s\n",
      "864:\tlearn: 0.8621745\ttotal: 41.5s\tremaining: 6.47s\n",
      "865:\tlearn: 0.8621102\ttotal: 41.5s\tremaining: 6.42s\n",
      "866:\tlearn: 0.8620924\ttotal: 41.6s\tremaining: 6.38s\n",
      "867:\tlearn: 0.8620282\ttotal: 41.6s\tremaining: 6.33s\n",
      "868:\tlearn: 0.8619748\ttotal: 41.6s\tremaining: 6.28s\n",
      "869:\tlearn: 0.8619235\ttotal: 41.7s\tremaining: 6.23s\n",
      "870:\tlearn: 0.8618423\ttotal: 41.8s\tremaining: 6.18s\n",
      "871:\tlearn: 0.8618072\ttotal: 41.8s\tremaining: 6.13s\n",
      "872:\tlearn: 0.8617250\ttotal: 41.8s\tremaining: 6.08s\n",
      "873:\tlearn: 0.8616692\ttotal: 41.9s\tremaining: 6.04s\n",
      "874:\tlearn: 0.8615742\ttotal: 41.9s\tremaining: 5.99s\n",
      "875:\tlearn: 0.8615248\ttotal: 42s\tremaining: 5.94s\n",
      "876:\tlearn: 0.8614764\ttotal: 42s\tremaining: 5.89s\n",
      "877:\tlearn: 0.8614416\ttotal: 42s\tremaining: 5.84s\n",
      "878:\tlearn: 0.8614136\ttotal: 42.1s\tremaining: 5.8s\n",
      "879:\tlearn: 0.8613922\ttotal: 42.2s\tremaining: 5.75s\n",
      "880:\tlearn: 0.8613871\ttotal: 42.2s\tremaining: 5.7s\n",
      "881:\tlearn: 0.8613485\ttotal: 42.3s\tremaining: 5.65s\n",
      "882:\tlearn: 0.8612619\ttotal: 42.3s\tremaining: 5.61s\n",
      "883:\tlearn: 0.8612468\ttotal: 42.4s\tremaining: 5.56s\n",
      "884:\tlearn: 0.8612116\ttotal: 42.5s\tremaining: 5.52s\n",
      "885:\tlearn: 0.8611657\ttotal: 42.5s\tremaining: 5.47s\n",
      "886:\tlearn: 0.8611203\ttotal: 42.6s\tremaining: 5.43s\n",
      "887:\tlearn: 0.8610983\ttotal: 42.7s\tremaining: 5.38s\n",
      "888:\tlearn: 0.8610196\ttotal: 42.8s\tremaining: 5.34s\n",
      "889:\tlearn: 0.8609419\ttotal: 42.8s\tremaining: 5.29s\n",
      "890:\tlearn: 0.8608812\ttotal: 42.8s\tremaining: 5.24s\n",
      "891:\tlearn: 0.8608287\ttotal: 42.9s\tremaining: 5.19s\n",
      "892:\tlearn: 0.8607965\ttotal: 42.9s\tremaining: 5.14s\n",
      "893:\tlearn: 0.8607434\ttotal: 43s\tremaining: 5.09s\n",
      "894:\tlearn: 0.8607388\ttotal: 43s\tremaining: 5.05s\n",
      "895:\tlearn: 0.8606634\ttotal: 43.1s\tremaining: 5s\n",
      "896:\tlearn: 0.8606173\ttotal: 43.1s\tremaining: 4.95s\n",
      "897:\tlearn: 0.8605877\ttotal: 43.2s\tremaining: 4.9s\n",
      "898:\tlearn: 0.8605256\ttotal: 43.2s\tremaining: 4.86s\n",
      "899:\tlearn: 0.8605044\ttotal: 43.3s\tremaining: 4.81s\n",
      "900:\tlearn: 0.8604100\ttotal: 43.4s\tremaining: 4.76s\n",
      "901:\tlearn: 0.8604000\ttotal: 43.4s\tremaining: 4.71s\n",
      "902:\tlearn: 0.8603406\ttotal: 43.4s\tremaining: 4.67s\n",
      "903:\tlearn: 0.8602727\ttotal: 43.5s\tremaining: 4.62s\n",
      "904:\tlearn: 0.8602624\ttotal: 43.5s\tremaining: 4.57s\n",
      "905:\tlearn: 0.8601943\ttotal: 43.6s\tremaining: 4.52s\n",
      "906:\tlearn: 0.8601412\ttotal: 43.6s\tremaining: 4.47s\n",
      "907:\tlearn: 0.8600998\ttotal: 43.6s\tremaining: 4.42s\n",
      "908:\tlearn: 0.8600037\ttotal: 43.7s\tremaining: 4.38s\n",
      "909:\tlearn: 0.8599171\ttotal: 43.7s\tremaining: 4.33s\n",
      "910:\tlearn: 0.8598519\ttotal: 43.8s\tremaining: 4.28s\n",
      "911:\tlearn: 0.8598047\ttotal: 43.8s\tremaining: 4.23s\n",
      "912:\tlearn: 0.8597651\ttotal: 43.9s\tremaining: 4.18s\n",
      "913:\tlearn: 0.8597302\ttotal: 43.9s\tremaining: 4.13s\n",
      "914:\tlearn: 0.8596904\ttotal: 44s\tremaining: 4.09s\n",
      "915:\tlearn: 0.8596366\ttotal: 44s\tremaining: 4.04s\n",
      "916:\tlearn: 0.8596053\ttotal: 44.1s\tremaining: 3.99s\n",
      "917:\tlearn: 0.8595668\ttotal: 44.1s\tremaining: 3.94s\n",
      "918:\tlearn: 0.8595079\ttotal: 44.1s\tremaining: 3.89s\n",
      "919:\tlearn: 0.8594399\ttotal: 44.2s\tremaining: 3.84s\n",
      "920:\tlearn: 0.8594022\ttotal: 44.2s\tremaining: 3.79s\n",
      "921:\tlearn: 0.8593301\ttotal: 44.3s\tremaining: 3.74s\n",
      "922:\tlearn: 0.8593012\ttotal: 44.3s\tremaining: 3.69s\n",
      "923:\tlearn: 0.8592245\ttotal: 44.3s\tremaining: 3.65s\n",
      "924:\tlearn: 0.8592111\ttotal: 44.4s\tremaining: 3.6s\n",
      "925:\tlearn: 0.8592006\ttotal: 44.5s\tremaining: 3.56s\n",
      "926:\tlearn: 0.8591648\ttotal: 44.5s\tremaining: 3.51s\n",
      "927:\tlearn: 0.8591377\ttotal: 44.6s\tremaining: 3.46s\n",
      "928:\tlearn: 0.8591024\ttotal: 44.6s\tremaining: 3.41s\n",
      "929:\tlearn: 0.8590478\ttotal: 44.7s\tremaining: 3.36s\n",
      "930:\tlearn: 0.8589880\ttotal: 44.7s\tremaining: 3.31s\n",
      "931:\tlearn: 0.8589157\ttotal: 44.7s\tremaining: 3.26s\n",
      "932:\tlearn: 0.8588990\ttotal: 44.8s\tremaining: 3.21s\n",
      "933:\tlearn: 0.8588855\ttotal: 44.8s\tremaining: 3.17s\n",
      "934:\tlearn: 0.8588289\ttotal: 44.9s\tremaining: 3.12s\n",
      "935:\tlearn: 0.8587954\ttotal: 44.9s\tremaining: 3.07s\n",
      "936:\tlearn: 0.8587276\ttotal: 45s\tremaining: 3.02s\n",
      "937:\tlearn: 0.8587200\ttotal: 45s\tremaining: 2.98s\n",
      "938:\tlearn: 0.8586720\ttotal: 45.1s\tremaining: 2.93s\n",
      "939:\tlearn: 0.8586520\ttotal: 45.1s\tremaining: 2.88s\n",
      "940:\tlearn: 0.8586209\ttotal: 45.2s\tremaining: 2.83s\n",
      "941:\tlearn: 0.8585604\ttotal: 45.2s\tremaining: 2.78s\n",
      "942:\tlearn: 0.8585346\ttotal: 45.3s\tremaining: 2.74s\n",
      "943:\tlearn: 0.8584816\ttotal: 45.3s\tremaining: 2.69s\n",
      "944:\tlearn: 0.8584201\ttotal: 45.4s\tremaining: 2.64s\n",
      "945:\tlearn: 0.8583739\ttotal: 45.4s\tremaining: 2.59s\n",
      "946:\tlearn: 0.8583256\ttotal: 45.5s\tremaining: 2.54s\n",
      "947:\tlearn: 0.8582839\ttotal: 45.5s\tremaining: 2.5s\n",
      "948:\tlearn: 0.8582357\ttotal: 45.5s\tremaining: 2.45s\n",
      "949:\tlearn: 0.8581991\ttotal: 45.6s\tremaining: 2.4s\n",
      "950:\tlearn: 0.8580882\ttotal: 45.7s\tremaining: 2.35s\n",
      "951:\tlearn: 0.8580757\ttotal: 45.7s\tremaining: 2.3s\n",
      "952:\tlearn: 0.8580543\ttotal: 45.7s\tremaining: 2.25s\n",
      "953:\tlearn: 0.8580125\ttotal: 45.8s\tremaining: 2.21s\n",
      "954:\tlearn: 0.8579954\ttotal: 45.8s\tremaining: 2.16s\n",
      "955:\tlearn: 0.8579782\ttotal: 45.9s\tremaining: 2.11s\n",
      "956:\tlearn: 0.8579658\ttotal: 46s\tremaining: 2.06s\n",
      "957:\tlearn: 0.8579308\ttotal: 46s\tremaining: 2.02s\n",
      "958:\tlearn: 0.8578569\ttotal: 46s\tremaining: 1.97s\n",
      "959:\tlearn: 0.8577599\ttotal: 46.1s\tremaining: 1.92s\n",
      "960:\tlearn: 0.8576616\ttotal: 46.1s\tremaining: 1.87s\n",
      "961:\tlearn: 0.8576183\ttotal: 46.2s\tremaining: 1.82s\n",
      "962:\tlearn: 0.8575717\ttotal: 46.2s\tremaining: 1.77s\n",
      "963:\tlearn: 0.8575453\ttotal: 46.2s\tremaining: 1.73s\n"
     ]
    },
    {
     "name": "stdout",
     "output_type": "stream",
     "text": [
      "964:\tlearn: 0.8575263\ttotal: 46.3s\tremaining: 1.68s\n",
      "965:\tlearn: 0.8574364\ttotal: 46.3s\tremaining: 1.63s\n",
      "966:\tlearn: 0.8574194\ttotal: 46.4s\tremaining: 1.58s\n",
      "967:\tlearn: 0.8574095\ttotal: 46.4s\tremaining: 1.53s\n",
      "968:\tlearn: 0.8573759\ttotal: 46.5s\tremaining: 1.49s\n",
      "969:\tlearn: 0.8573314\ttotal: 46.5s\tremaining: 1.44s\n",
      "970:\tlearn: 0.8572966\ttotal: 46.6s\tremaining: 1.39s\n",
      "971:\tlearn: 0.8572480\ttotal: 46.7s\tremaining: 1.34s\n",
      "972:\tlearn: 0.8572384\ttotal: 46.7s\tremaining: 1.29s\n",
      "973:\tlearn: 0.8572086\ttotal: 46.7s\tremaining: 1.25s\n",
      "974:\tlearn: 0.8571894\ttotal: 46.8s\tremaining: 1.2s\n",
      "975:\tlearn: 0.8571416\ttotal: 46.8s\tremaining: 1.15s\n",
      "976:\tlearn: 0.8571066\ttotal: 46.9s\tremaining: 1.1s\n",
      "977:\tlearn: 0.8570958\ttotal: 46.9s\tremaining: 1.05s\n",
      "978:\tlearn: 0.8569927\ttotal: 47s\tremaining: 1.01s\n",
      "979:\tlearn: 0.8569019\ttotal: 47.1s\tremaining: 961ms\n",
      "980:\tlearn: 0.8568533\ttotal: 47.1s\tremaining: 912ms\n",
      "981:\tlearn: 0.8567453\ttotal: 47.1s\tremaining: 864ms\n",
      "982:\tlearn: 0.8567404\ttotal: 47.2s\tremaining: 816ms\n",
      "983:\tlearn: 0.8566650\ttotal: 47.2s\tremaining: 767ms\n",
      "984:\tlearn: 0.8566575\ttotal: 47.3s\tremaining: 721ms\n",
      "985:\tlearn: 0.8566098\ttotal: 47.4s\tremaining: 672ms\n",
      "986:\tlearn: 0.8565476\ttotal: 47.4s\tremaining: 624ms\n",
      "987:\tlearn: 0.8564664\ttotal: 47.5s\tremaining: 576ms\n",
      "988:\tlearn: 0.8564293\ttotal: 47.5s\tremaining: 528ms\n",
      "989:\tlearn: 0.8563712\ttotal: 47.6s\tremaining: 480ms\n",
      "990:\tlearn: 0.8563184\ttotal: 47.6s\tremaining: 432ms\n",
      "991:\tlearn: 0.8562590\ttotal: 47.6s\tremaining: 384ms\n",
      "992:\tlearn: 0.8561853\ttotal: 47.6s\tremaining: 336ms\n",
      "993:\tlearn: 0.8560841\ttotal: 47.7s\tremaining: 288ms\n",
      "994:\tlearn: 0.8560470\ttotal: 47.7s\tremaining: 240ms\n",
      "995:\tlearn: 0.8560414\ttotal: 47.7s\tremaining: 192ms\n",
      "996:\tlearn: 0.8559443\ttotal: 47.8s\tremaining: 144ms\n",
      "997:\tlearn: 0.8558696\ttotal: 47.9s\tremaining: 95.9ms\n",
      "998:\tlearn: 0.8558194\ttotal: 47.9s\tremaining: 48ms\n",
      "999:\tlearn: 0.8557637\ttotal: 48s\tremaining: 0us\n"
     ]
    },
    {
     "data": {
      "text/plain": [
       "<catboost.core.CatBoostRegressor at 0x2113df22eb0>"
      ]
     },
     "execution_count": 156,
     "metadata": {},
     "output_type": "execute_result"
    }
   ],
   "source": [
    "model.fit(train[cat+num],train[target],cat_features=cat)"
   ]
  },
  {
   "cell_type": "code",
   "execution_count": 157,
   "id": "4aad06ef",
   "metadata": {},
   "outputs": [],
   "source": [
    "pred = model.predict(test[cat+num])"
   ]
  },
  {
   "cell_type": "code",
   "execution_count": 158,
   "id": "58bcd873",
   "metadata": {},
   "outputs": [],
   "source": [
    "from sklearn.metrics import mean_squared_error as mse"
   ]
  },
  {
   "cell_type": "code",
   "execution_count": 159,
   "id": "425b35bd",
   "metadata": {},
   "outputs": [
    {
     "data": {
      "text/plain": [
       "0.9107004600275057"
      ]
     },
     "execution_count": 159,
     "metadata": {},
     "output_type": "execute_result"
    }
   ],
   "source": [
    "mse(pred,test.target,squared=False)"
   ]
  },
  {
   "cell_type": "code",
   "execution_count": 160,
   "id": "8f775a48",
   "metadata": {},
   "outputs": [
    {
     "name": "stderr",
     "output_type": "stream",
     "text": [
      "C:\\Users\\alexi\\AppData\\Local\\Temp/ipykernel_16172/1330184522.py:1: SettingWithCopyWarning: \n",
      "A value is trying to be set on a copy of a slice from a DataFrame.\n",
      "Try using .loc[row_indexer,col_indexer] = value instead\n",
      "\n",
      "See the caveats in the documentation: https://pandas.pydata.org/pandas-docs/stable/user_guide/indexing.html#returning-a-view-versus-a-copy\n",
      "  test[\"pred\"] = pred\n"
     ]
    }
   ],
   "source": [
    "test[\"pred\"] = pred"
   ]
  },
  {
   "cell_type": "code",
   "execution_count": 161,
   "id": "77e590f3",
   "metadata": {},
   "outputs": [
    {
     "data": {
      "image/png": "[encoded data removed]",
      "text/plain": [
       "<Figure size 432x288 with 1 Axes>"
      ]
     },
     "metadata": {
      "needs_background": "light"
     },
     "output_type": "display_data"
    }
   ],
   "source": [
    "sns.scatterplot(data=test,x=\"pred\",y=\"target\",hue=\"subject\");"
   ]
  },
  {
   "cell_type": "code",
   "execution_count": 162,
   "id": "77ad8dfe",
   "metadata": {},
   "outputs": [
    {
     "data": {
      "text/html": [
       "<div>\n",
       "<style scoped>\n",
       "    .dataframe tbody tr th:only-of-type {\n",
       "        vertical-align: middle;\n",
       "    }\n",
       "\n",
       "    .dataframe tbody tr th {\n",
       "        vertical-align: top;\n",
       "    }\n",
       "\n",
       "    .dataframe thead th {\n",
       "        text-align: right;\n",
       "    }\n",
       "</style>\n",
       "<table border=\"1\" class=\"dataframe\">\n",
       "  <thead>\n",
       "    <tr style=\"text-align: right;\">\n",
       "      <th></th>\n",
       "      <th>column</th>\n",
       "      <th>importance</th>\n",
       "    </tr>\n",
       "  </thead>\n",
       "  <tbody>\n",
       "    <tr>\n",
       "      <th>0</th>\n",
       "      <td>category</td>\n",
       "      <td>0.876936</td>\n",
       "    </tr>\n",
       "    <tr>\n",
       "      <th>1</th>\n",
       "      <td>subreddit</td>\n",
       "      <td>21.104682</td>\n",
       "    </tr>\n",
       "    <tr>\n",
       "      <th>2</th>\n",
       "      <td>weekday</td>\n",
       "      <td>1.102077</td>\n",
       "    </tr>\n",
       "    <tr>\n",
       "      <th>3</th>\n",
       "      <td>month</td>\n",
       "      <td>3.736704</td>\n",
       "    </tr>\n",
       "    <tr>\n",
       "      <th>4</th>\n",
       "      <td>fhost</td>\n",
       "      <td>0.834229</td>\n",
       "    </tr>\n",
       "    <tr>\n",
       "      <th>...</th>\n",
       "      <td>...</td>\n",
       "      <td>...</td>\n",
       "    </tr>\n",
       "    <tr>\n",
       "      <th>75</th>\n",
       "      <td>keyword_day</td>\n",
       "      <td>0.556626</td>\n",
       "    </tr>\n",
       "    <tr>\n",
       "      <th>76</th>\n",
       "      <td>keyword_enjoy</td>\n",
       "      <td>0.074200</td>\n",
       "    </tr>\n",
       "    <tr>\n",
       "      <th>77</th>\n",
       "      <td>keyword_kitten</td>\n",
       "      <td>0.227174</td>\n",
       "    </tr>\n",
       "    <tr>\n",
       "      <th>78</th>\n",
       "      <td>keyword_smile</td>\n",
       "      <td>0.284772</td>\n",
       "    </tr>\n",
       "    <tr>\n",
       "      <th>79</th>\n",
       "      <td>keyword_cute</td>\n",
       "      <td>0.246797</td>\n",
       "    </tr>\n",
       "  </tbody>\n",
       "</table>\n",
       "<p>80 rows × 2 columns</p>\n",
       "</div>"
      ],
      "text/plain": [
       "            column  importance\n",
       "0         category    0.876936\n",
       "1        subreddit   21.104682\n",
       "2          weekday    1.102077\n",
       "3            month    3.736704\n",
       "4            fhost    0.834229\n",
       "..             ...         ...\n",
       "75     keyword_day    0.556626\n",
       "76   keyword_enjoy    0.074200\n",
       "77  keyword_kitten    0.227174\n",
       "78   keyword_smile    0.284772\n",
       "79    keyword_cute    0.246797\n",
       "\n",
       "[80 rows x 2 columns]"
      ]
     },
     "execution_count": 162,
     "metadata": {},
     "output_type": "execute_result"
    }
   ],
   "source": [
    "fi = pd.DataFrame({\"column\":cat+num,\"importance\":model.feature_importances_})\n",
    "\n",
    "fi"
   ]
  },
  {
   "cell_type": "code",
   "execution_count": 164,
   "id": "4f140871",
   "metadata": {},
   "outputs": [
    {
     "data": {
      "image/png": "[encoded data removed]",
      "text/plain": [
       "<Figure size 1440x720 with 1 Axes>"
      ]
     },
     "metadata": {
      "needs_background": "light"
     },
     "output_type": "display_data"
    }
   ],
   "source": [
    "fig,ax = plt.subplots(figsize=(20,10))\n",
    "\n",
    "sns.barplot(data=fi.sort_values(\"importance\",ascending=False),x=\"column\",y=\"importance\")\n",
    "\n",
    "plt.xticks(rotation = 90);"
   ]
  },
  {
   "cell_type": "code",
   "execution_count": 32,
   "id": "7e90f398",
   "metadata": {},
   "outputs": [
    {
     "data": {
      "image/png": "[encoded data removed]",
      "text/plain": [
       "<Figure size 1440x720 with 1 Axes>"
      ]
     },
     "metadata": {
      "needs_background": "light"
     },
     "output_type": "display_data"
    }
   ],
   "source": [
    "fig,ax = plt.subplots(figsize=(20,10))\n",
    "\n",
    "sns.barplot(data=fi[fi.column.str.contains(\"keyword\")].sort_values(\"importance\"),x=\"column\",y=\"importance\")\n",
    "\n",
    "plt.xticks(rotation = 90);"
   ]
  },
  {
   "cell_type": "code",
   "execution_count": 34,
   "id": "30e9979f",
   "metadata": {},
   "outputs": [
    {
     "data": {
      "text/plain": [
       "0                                    Caturday morning TV 😺\n",
       "6                            My cat Squeeki. Happy Friday!\n",
       "33                                           happy Tuesday\n",
       "45       Yesterday posted a picture of our office cat C...\n",
       "49       On this day two years ago (7th Nov), I adopted...\n",
       "                               ...                        \n",
       "58319    Tiffany - my little fighter. Went in to the ER...\n",
       "58325    Happy Birthday Buddy, 10 years old today :) Ha...\n",
       "58347    Hi! I’m wondering at what age your pug needed ...\n",
       "58387                  She just turned 1 a couple days ago\n",
       "58407    missing them a lot today </3 (context is i’m a...\n",
       "Name: title, Length: 5514, dtype: object"
      ]
     },
     "execution_count": 34,
     "metadata": {},
     "output_type": "execute_result"
    }
   ],
   "source": [
    "df[df.keyword_today|df.keyword_day].title"
   ]
  },
  {
   "cell_type": "code",
   "execution_count": 36,
   "id": "147d7429",
   "metadata": {},
   "outputs": [
    {
     "data": {
      "image/png": "[encoded data removed]",
      "text/plain": [
       "<Figure size 432x288 with 1 Axes>"
      ]
     },
     "metadata": {
      "needs_background": "light"
     },
     "output_type": "display_data"
    }
   ],
   "source": [
    "sns.barplot(data=df,x=\"keyword_day\",y=\"target\");"
   ]
  },
  {
   "cell_type": "code",
   "execution_count": 39,
   "id": "ea017c5b",
   "metadata": {},
   "outputs": [
    {
     "data": {
      "text/plain": [
       "0.010374580565637198"
      ]
     },
     "execution_count": 39,
     "metadata": {},
     "output_type": "execute_result"
    }
   ],
   "source": [
    "df.title.str.lower().str.contains(\"birthday\").mean()"
   ]
  },
  {
   "cell_type": "code",
   "execution_count": 190,
   "id": "e379ecd9",
   "metadata": {},
   "outputs": [],
   "source": [
    "df[\"length\"] = df[\"title_length\"].astype(str)"
   ]
  },
  {
   "cell_type": "code",
   "execution_count": null,
   "id": "c326a3ff",
   "metadata": {},
   "outputs": [],
   "source": []
  },
  {
   "cell_type": "code",
   "execution_count": 191,
   "id": "f27b9e3b",
   "metadata": {},
   "outputs": [],
   "source": [
    "df.loc[(df.title_length>=10)&(df.title_length<15),\"length\"] = \"10-14\""
   ]
  },
  {
   "cell_type": "code",
   "execution_count": 192,
   "id": "2eb80c99",
   "metadata": {},
   "outputs": [],
   "source": [
    "df.loc[(df.title_length>=15)&(df.title_length<20),\"length\"] = \"15-19\""
   ]
  },
  {
   "cell_type": "code",
   "execution_count": 193,
   "id": "6e476c4b",
   "metadata": {},
   "outputs": [],
   "source": [
    "df.loc[(df.title_length>=20)&(df.title_length<25),\"length\"] = \"20-24\""
   ]
  },
  {
   "cell_type": "code",
   "execution_count": 194,
   "id": "5318ecce",
   "metadata": {},
   "outputs": [],
   "source": [
    "df.loc[(df.title_length>=25)&(df.title_length<30),\"length\"] = \"25-29\""
   ]
  },
  {
   "cell_type": "code",
   "execution_count": 195,
   "id": "adecb194",
   "metadata": {},
   "outputs": [],
   "source": [
    "df.loc[(df.title_length>=30),\"length\"] = \">=30\""
   ]
  },
  {
   "cell_type": "code",
   "execution_count": 196,
   "id": "92c27809",
   "metadata": {},
   "outputs": [
    {
     "data": {
      "text/plain": [
       "10-14    8876\n",
       "4        6238\n",
       "3        5910\n",
       "5        5766\n",
       "6        5166\n",
       "2        5018\n",
       "7        4378\n",
       "15-19    3969\n",
       "8        3649\n",
       "9        2973\n",
       "1        2155\n",
       "20-24    1780\n",
       ">=30     1577\n",
       "25-29     957\n",
       "Name: length, dtype: int64"
      ]
     },
     "execution_count": 196,
     "metadata": {},
     "output_type": "execute_result"
    }
   ],
   "source": [
    "df.length.value_counts()"
   ]
  },
  {
   "cell_type": "code",
   "execution_count": 205,
   "id": "bde39441",
   "metadata": {},
   "outputs": [
    {
     "data": {
      "image/png": "[encoded data removed]",
      "text/plain": [
       "<Figure size 432x288 with 1 Axes>"
      ]
     },
     "metadata": {
      "needs_background": "light"
     },
     "output_type": "display_data"
    }
   ],
   "source": [
    "sns.barplot(data=train,x=\"length\",y=\"target\",estimator=np.median,order=[str(i) for i in range(1,10)]+[f'{5*i + 10}-{5*i + 14}' for i in range(4)] + [\">=30\"])\n",
    "\n",
    "plt.xticks(rotation = 90);"
   ]
  },
  {
   "cell_type": "code",
   "execution_count": 208,
   "id": "2a2e5c32",
   "metadata": {},
   "outputs": [
    {
     "data": {
      "image/png": "[encoded data removed]",
      "text/plain": [
       "<Figure size 432x288 with 1 Axes>"
      ]
     },
     "metadata": {
      "needs_background": "light"
     },
     "output_type": "display_data"
    }
   ],
   "source": [
    "sns.barplot(data=train,x=\"length\",y=\"target\",estimator=len,order=[str(i) for i in range(1,10)]+[f'{5*i + 10}-{5*i + 14}' for i in range(4)] + [\">=30\"])\n",
    "\n",
    "plt.xticks(rotation = 90);"
   ]
  },
  {
   "cell_type": "code",
   "execution_count": 211,
   "id": "b93f39c0",
   "metadata": {},
   "outputs": [
    {
     "data": {
      "image/png": "[encoded data removed]",
      "text/plain": [
       "<Figure size 432x288 with 1 Axes>"
      ]
     },
     "metadata": {
      "needs_background": "light"
     },
     "output_type": "display_data"
    }
   ],
   "source": [
    "sns.barplot(data=df[(df.title_length>5)&(df.title_length<30)],x=\"title_length\",y=\"target\",estimator=len);"
   ]
  },
  {
   "cell_type": "code",
   "execution_count": 168,
   "id": "b8ee66e3",
   "metadata": {},
   "outputs": [
    {
     "data": {
      "image/png": "[encoded data removed]",
      "text/plain": [
       "<Figure size 432x288 with 1 Axes>"
      ]
     },
     "metadata": {
      "needs_background": "light"
     },
     "output_type": "display_data"
    }
   ],
   "source": [
    "sns.barplot(data=df[df.category==\"cats\"],x=\"title_length\",y=\"target\",estimator=len);"
   ]
  },
  {
   "cell_type": "code",
   "execution_count": 176,
   "id": "c24473b5",
   "metadata": {},
   "outputs": [
    {
     "data": {
      "image/png": "[encoded data removed]",
      "text/plain": [
       "<Figure size 432x288 with 1 Axes>"
      ]
     },
     "metadata": {
      "needs_background": "light"
     },
     "output_type": "display_data"
    }
   ],
   "source": [
    "sns.barplot(data=df[df.category==\"dogs\"],x=\"title_length\",y=\"target\",estimator=np.median);"
   ]
  },
  {
   "cell_type": "code",
   "execution_count": 172,
   "id": "a7b27780",
   "metadata": {},
   "outputs": [
    {
     "data": {
      "image/png": "[encoded data removed]",
      "text/plain": [
       "<Figure size 432x288 with 1 Axes>"
      ]
     },
     "metadata": {
      "needs_background": "light"
     },
     "output_type": "display_data"
    }
   ],
   "source": [
    "sns.barplot(data=df[df.subreddit==\"YorkshireTerrier\"],x=\"title_length\",y=\"target\",estimator=len);"
   ]
  },
  {
   "cell_type": "code",
   "execution_count": 175,
   "id": "99c09dbc",
   "metadata": {},
   "outputs": [
    {
     "data": {
      "image/png": "[encoded data removed]",
      "text/plain": [
       "<Figure size 432x288 with 1 Axes>"
      ]
     },
     "metadata": {
      "needs_background": "light"
     },
     "output_type": "display_data"
    }
   ],
   "source": [
    "sns.barplot(data=df[df.subreddit==\"BombayCat\"],x=\"title_length\",y=\"target\",estimator=len);"
   ]
  },
  {
   "cell_type": "code",
   "execution_count": 174,
   "id": "a0556692",
   "metadata": {},
   "outputs": [
    {
     "data": {
      "text/html": [
       "<div>\n",
       "<style scoped>\n",
       "    .dataframe tbody tr th:only-of-type {\n",
       "        vertical-align: middle;\n",
       "    }\n",
       "\n",
       "    .dataframe tbody tr th {\n",
       "        vertical-align: top;\n",
       "    }\n",
       "\n",
       "    .dataframe thead th {\n",
       "        text-align: right;\n",
       "    }\n",
       "</style>\n",
       "<table border=\"1\" class=\"dataframe\">\n",
       "  <thead>\n",
       "    <tr style=\"text-align: right;\">\n",
       "      <th></th>\n",
       "      <th>subreddit</th>\n",
       "      <th>title_length</th>\n",
       "    </tr>\n",
       "  </thead>\n",
       "  <tbody>\n",
       "    <tr>\n",
       "      <th>31</th>\n",
       "      <td>birmans</td>\n",
       "      <td>3.0</td>\n",
       "    </tr>\n",
       "    <tr>\n",
       "      <th>25</th>\n",
       "      <td>YorkshireTerrier</td>\n",
       "      <td>3.5</td>\n",
       "    </tr>\n",
       "    <tr>\n",
       "      <th>44</th>\n",
       "      <td>pomeranian</td>\n",
       "      <td>4.0</td>\n",
       "    </tr>\n",
       "    <tr>\n",
       "      <th>12</th>\n",
       "      <td>MiniatureSchnauzer</td>\n",
       "      <td>4.0</td>\n",
       "    </tr>\n",
       "    <tr>\n",
       "      <th>45</th>\n",
       "      <td>pug</td>\n",
       "      <td>5.0</td>\n",
       "    </tr>\n",
       "    <tr>\n",
       "      <th>39</th>\n",
       "      <td>graycats</td>\n",
       "      <td>5.0</td>\n",
       "    </tr>\n",
       "    <tr>\n",
       "      <th>36</th>\n",
       "      <td>egyptianmau</td>\n",
       "      <td>5.0</td>\n",
       "    </tr>\n",
       "    <tr>\n",
       "      <th>33</th>\n",
       "      <td>britishshorthair</td>\n",
       "      <td>5.0</td>\n",
       "    </tr>\n",
       "    <tr>\n",
       "      <th>27</th>\n",
       "      <td>bassethounds</td>\n",
       "      <td>5.0</td>\n",
       "    </tr>\n",
       "    <tr>\n",
       "      <th>24</th>\n",
       "      <td>WhiteCats</td>\n",
       "      <td>5.0</td>\n",
       "    </tr>\n",
       "    <tr>\n",
       "      <th>22</th>\n",
       "      <td>TortoiseShellCats</td>\n",
       "      <td>5.0</td>\n",
       "    </tr>\n",
       "    <tr>\n",
       "      <th>15</th>\n",
       "      <td>PuppySmiles</td>\n",
       "      <td>5.0</td>\n",
       "    </tr>\n",
       "    <tr>\n",
       "      <th>0</th>\n",
       "      <td>Abyssinians</td>\n",
       "      <td>5.0</td>\n",
       "    </tr>\n",
       "    <tr>\n",
       "      <th>10</th>\n",
       "      <td>KittyTailWrap</td>\n",
       "      <td>5.0</td>\n",
       "    </tr>\n",
       "    <tr>\n",
       "      <th>8</th>\n",
       "      <td>JapaneseChin</td>\n",
       "      <td>5.0</td>\n",
       "    </tr>\n",
       "    <tr>\n",
       "      <th>42</th>\n",
       "      <td>persiancat</td>\n",
       "      <td>5.5</td>\n",
       "    </tr>\n",
       "    <tr>\n",
       "      <th>17</th>\n",
       "      <td>ShibaInu</td>\n",
       "      <td>5.5</td>\n",
       "    </tr>\n",
       "    <tr>\n",
       "      <th>35</th>\n",
       "      <td>dogpictures</td>\n",
       "      <td>6.0</td>\n",
       "    </tr>\n",
       "    <tr>\n",
       "      <th>4</th>\n",
       "      <td>CalicoKittys</td>\n",
       "      <td>6.0</td>\n",
       "    </tr>\n",
       "    <tr>\n",
       "      <th>38</th>\n",
       "      <td>germanshorthairs</td>\n",
       "      <td>6.0</td>\n",
       "    </tr>\n",
       "    <tr>\n",
       "      <th>3</th>\n",
       "      <td>BoxerDogs</td>\n",
       "      <td>6.0</td>\n",
       "    </tr>\n",
       "    <tr>\n",
       "      <th>41</th>\n",
       "      <td>mainecoons</td>\n",
       "      <td>6.0</td>\n",
       "    </tr>\n",
       "    <tr>\n",
       "      <th>13</th>\n",
       "      <td>NewfoundlandDogs</td>\n",
       "      <td>6.0</td>\n",
       "    </tr>\n",
       "    <tr>\n",
       "      <th>1</th>\n",
       "      <td>AmericanBully</td>\n",
       "      <td>6.0</td>\n",
       "    </tr>\n",
       "    <tr>\n",
       "      <th>46</th>\n",
       "      <td>pugs</td>\n",
       "      <td>6.0</td>\n",
       "    </tr>\n",
       "    <tr>\n",
       "      <th>47</th>\n",
       "      <td>ragdollcats</td>\n",
       "      <td>6.0</td>\n",
       "    </tr>\n",
       "    <tr>\n",
       "      <th>48</th>\n",
       "      <td>russianblue</td>\n",
       "      <td>6.0</td>\n",
       "    </tr>\n",
       "    <tr>\n",
       "      <th>49</th>\n",
       "      <td>samoyeds</td>\n",
       "      <td>6.0</td>\n",
       "    </tr>\n",
       "    <tr>\n",
       "      <th>34</th>\n",
       "      <td>catpictures</td>\n",
       "      <td>6.0</td>\n",
       "    </tr>\n",
       "    <tr>\n",
       "      <th>6</th>\n",
       "      <td>EnglishSetter</td>\n",
       "      <td>6.0</td>\n",
       "    </tr>\n",
       "    <tr>\n",
       "      <th>32</th>\n",
       "      <td>blackcats</td>\n",
       "      <td>6.0</td>\n",
       "    </tr>\n",
       "    <tr>\n",
       "      <th>29</th>\n",
       "      <td>beagles</td>\n",
       "      <td>6.0</td>\n",
       "    </tr>\n",
       "    <tr>\n",
       "      <th>14</th>\n",
       "      <td>Pomeranians</td>\n",
       "      <td>6.0</td>\n",
       "    </tr>\n",
       "    <tr>\n",
       "      <th>18</th>\n",
       "      <td>Siamesecats</td>\n",
       "      <td>6.0</td>\n",
       "    </tr>\n",
       "    <tr>\n",
       "      <th>19</th>\n",
       "      <td>SphynxCats</td>\n",
       "      <td>6.0</td>\n",
       "    </tr>\n",
       "    <tr>\n",
       "      <th>20</th>\n",
       "      <td>Staffiebullterriers</td>\n",
       "      <td>6.0</td>\n",
       "    </tr>\n",
       "    <tr>\n",
       "      <th>21</th>\n",
       "      <td>TabbyCats</td>\n",
       "      <td>6.0</td>\n",
       "    </tr>\n",
       "    <tr>\n",
       "      <th>30</th>\n",
       "      <td>bengalcats</td>\n",
       "      <td>6.0</td>\n",
       "    </tr>\n",
       "    <tr>\n",
       "      <th>23</th>\n",
       "      <td>Wheatens</td>\n",
       "      <td>6.0</td>\n",
       "    </tr>\n",
       "    <tr>\n",
       "      <th>51</th>\n",
       "      <td>sphynx</td>\n",
       "      <td>6.0</td>\n",
       "    </tr>\n",
       "    <tr>\n",
       "      <th>7</th>\n",
       "      <td>Havanese</td>\n",
       "      <td>6.0</td>\n",
       "    </tr>\n",
       "    <tr>\n",
       "      <th>16</th>\n",
       "      <td>SaintBernards</td>\n",
       "      <td>6.5</td>\n",
       "    </tr>\n",
       "    <tr>\n",
       "      <th>40</th>\n",
       "      <td>greatpyrenees</td>\n",
       "      <td>7.0</td>\n",
       "    </tr>\n",
       "    <tr>\n",
       "      <th>37</th>\n",
       "      <td>englishcockerspaniel</td>\n",
       "      <td>7.0</td>\n",
       "    </tr>\n",
       "    <tr>\n",
       "      <th>26</th>\n",
       "      <td>basset</td>\n",
       "      <td>7.0</td>\n",
       "    </tr>\n",
       "    <tr>\n",
       "      <th>43</th>\n",
       "      <td>pitbulls</td>\n",
       "      <td>7.0</td>\n",
       "    </tr>\n",
       "    <tr>\n",
       "      <th>28</th>\n",
       "      <td>beagle</td>\n",
       "      <td>7.0</td>\n",
       "    </tr>\n",
       "    <tr>\n",
       "      <th>5</th>\n",
       "      <td>Chihuahua</td>\n",
       "      <td>7.0</td>\n",
       "    </tr>\n",
       "    <tr>\n",
       "      <th>11</th>\n",
       "      <td>Leonberger</td>\n",
       "      <td>7.0</td>\n",
       "    </tr>\n",
       "    <tr>\n",
       "      <th>50</th>\n",
       "      <td>scottishterriers</td>\n",
       "      <td>7.0</td>\n",
       "    </tr>\n",
       "    <tr>\n",
       "      <th>9</th>\n",
       "      <td>Keeshond</td>\n",
       "      <td>7.0</td>\n",
       "    </tr>\n",
       "    <tr>\n",
       "      <th>2</th>\n",
       "      <td>BombayCat</td>\n",
       "      <td>8.0</td>\n",
       "    </tr>\n",
       "  </tbody>\n",
       "</table>\n",
       "</div>"
      ],
      "text/plain": [
       "               subreddit  title_length\n",
       "31               birmans           3.0\n",
       "25      YorkshireTerrier           3.5\n",
       "44            pomeranian           4.0\n",
       "12    MiniatureSchnauzer           4.0\n",
       "45                   pug           5.0\n",
       "39              graycats           5.0\n",
       "36           egyptianmau           5.0\n",
       "33      britishshorthair           5.0\n",
       "27          bassethounds           5.0\n",
       "24             WhiteCats           5.0\n",
       "22     TortoiseShellCats           5.0\n",
       "15           PuppySmiles           5.0\n",
       "0            Abyssinians           5.0\n",
       "10         KittyTailWrap           5.0\n",
       "8           JapaneseChin           5.0\n",
       "42            persiancat           5.5\n",
       "17              ShibaInu           5.5\n",
       "35           dogpictures           6.0\n",
       "4           CalicoKittys           6.0\n",
       "38      germanshorthairs           6.0\n",
       "3              BoxerDogs           6.0\n",
       "41            mainecoons           6.0\n",
       "13      NewfoundlandDogs           6.0\n",
       "1          AmericanBully           6.0\n",
       "46                  pugs           6.0\n",
       "47           ragdollcats           6.0\n",
       "48           russianblue           6.0\n",
       "49              samoyeds           6.0\n",
       "34           catpictures           6.0\n",
       "6          EnglishSetter           6.0\n",
       "32             blackcats           6.0\n",
       "29               beagles           6.0\n",
       "14           Pomeranians           6.0\n",
       "18           Siamesecats           6.0\n",
       "19            SphynxCats           6.0\n",
       "20   Staffiebullterriers           6.0\n",
       "21             TabbyCats           6.0\n",
       "30            bengalcats           6.0\n",
       "23              Wheatens           6.0\n",
       "51                sphynx           6.0\n",
       "7               Havanese           6.0\n",
       "16         SaintBernards           6.5\n",
       "40         greatpyrenees           7.0\n",
       "37  englishcockerspaniel           7.0\n",
       "26                basset           7.0\n",
       "43              pitbulls           7.0\n",
       "28                beagle           7.0\n",
       "5              Chihuahua           7.0\n",
       "11            Leonberger           7.0\n",
       "50      scottishterriers           7.0\n",
       "9               Keeshond           7.0\n",
       "2              BombayCat           8.0"
      ]
     },
     "execution_count": 174,
     "metadata": {},
     "output_type": "execute_result"
    }
   ],
   "source": [
    "df.groupby([\"subreddit\"],as_index=False).agg({\"title_length\":\"median\"}).sort_values(\"title_length\")"
   ]
  },
  {
   "cell_type": "code",
   "execution_count": 219,
   "id": "31566371",
   "metadata": {},
   "outputs": [],
   "source": [
    "pd.set_option('display.max_rows', None)"
   ]
  },
  {
   "cell_type": "code",
   "execution_count": 222,
   "id": "c0c1ce9d",
   "metadata": {},
   "outputs": [
    {
     "data": {
      "text/plain": [
       "Index(['fname', 'url', 'category', 'subreddit', 'title', 'description',\n",
       "       'upvotes', 'posted', 'scraped', 'niche', 'test', 'age', 'weekday',\n",
       "       'weekday_number', 'hour', 'date', 'year', 'month', 'yrmnth', 'target',\n",
       "       'fhost', 'format', 'timestep', 'subscribers', 'competition_subreddit',\n",
       "       'competition_category', 'competition_total', 'title_length',\n",
       "       'exclamation', 'keyword_make', 'keyword_always', 'keyword_look',\n",
       "       'keyword_find', 'keyword_month', 'keyword_morning', 'keyword_sit',\n",
       "       'keyword_sleep', 'keyword_bed', 'keyword_ready', 'keyword_good',\n",
       "       'keyword_beagle', 'keyword_still', 'keyword_handsome', 'keyword_love',\n",
       "       'keyword_first', 'keyword_friend', 'keyword_work', 'keyword_snow',\n",
       "       'keyword_nap', 'keyword_see', 'keyword_take', 'keyword_week',\n",
       "       'keyword_boy', 'keyword_name', 'keyword_beautiful', 'keyword_puppy',\n",
       "       'keyword_pug', 'keyword_cuddle', 'keyword_pup', 'keyword_new',\n",
       "       'keyword_eye', 'keyword_go', 'keyword_now', 'keyword_face',\n",
       "       'keyword_walk', 'keyword_watch', 'keyword_girl', 'keyword_meet',\n",
       "       'keyword_know', 'keyword_sleepy', 'keyword_want', 'keyword_photo',\n",
       "       'keyword_picture', 'keyword_kitty', 'keyword_come', 'keyword_today',\n",
       "       'keyword_bengal', 'keyword_time', 'keyword_think', 'keyword_old year',\n",
       "       'keyword_little', 'keyword_sweet', 'keyword_happy', 'keyword_big',\n",
       "       'keyword_baby', 'keyword_say', 'keyword_day', 'keyword_enjoy',\n",
       "       'keyword_kitten', 'keyword_smile', 'keyword_cute', 'length'],\n",
       "      dtype='object')"
      ]
     },
     "execution_count": 222,
     "metadata": {},
     "output_type": "execute_result"
    }
   ],
   "source": [
    "df.columns"
   ]
  },
  {
   "cell_type": "code",
   "execution_count": 220,
   "id": "9b3dda78",
   "metadata": {},
   "outputs": [
    {
     "data": {
      "text/plain": [
       "keyword_sleep       -0.020572\n",
       "keyword_sleepy      -0.018269\n",
       "keyword_nap         -0.016915\n",
       "keyword_watch       -0.015237\n",
       "keyword_bed         -0.008477\n",
       "keyword_find        -0.008215\n",
       "keyword_pup         -0.007978\n",
       "keyword_snow        -0.007089\n",
       "keyword_kitty       -0.003002\n",
       "keyword_time        -0.002726\n",
       "keyword_see         -0.002008\n",
       "keyword_know        -0.001929\n",
       "keyword_cute        -0.001779\n",
       "keyword_cuddle      -0.001527\n",
       "keyword_big         -0.001092\n",
       "keyword_work        -0.001083\n",
       "keyword_eye         -0.000243\n",
       "keyword_old year    -0.000164\n",
       "keyword_enjoy       -0.000117\n",
       "keyword_think        0.001550\n",
       "keyword_picture      0.001586\n",
       "keyword_now          0.001851\n",
       "keyword_walk         0.003844\n",
       "keyword_make         0.004083\n",
       "keyword_puppy        0.004732\n",
       "keyword_sit          0.005532\n",
       "keyword_always       0.006620\n",
       "keyword_name         0.006735\n",
       "keyword_ready        0.006863\n",
       "keyword_look         0.007023\n",
       "keyword_kitten       0.007157\n",
       "keyword_month        0.007798\n",
       "keyword_friend       0.007931\n",
       "keyword_take         0.008745\n",
       "keyword_photo        0.009587\n",
       "keyword_morning      0.011075\n",
       "keyword_pug          0.011772\n",
       "keyword_face         0.012271\n",
       "keyword_want         0.012319\n",
       "keyword_go           0.014086\n",
       "keyword_come         0.014684\n",
       "keyword_beautiful    0.015625\n",
       "keyword_bengal       0.017282\n",
       "keyword_love         0.017299\n",
       "keyword_beagle       0.017391\n",
       "keyword_happy        0.018499\n",
       "keyword_new          0.018763\n",
       "keyword_boy          0.019729\n",
       "keyword_good         0.020122\n",
       "keyword_girl         0.021172\n",
       "keyword_handsome     0.022440\n",
       "keyword_baby         0.022581\n",
       "keyword_say          0.027043\n",
       "keyword_still        0.027183\n",
       "keyword_meet         0.028348\n",
       "keyword_sweet        0.029018\n",
       "keyword_little       0.029100\n",
       "keyword_smile        0.029516\n",
       "keyword_week         0.029602\n",
       "keyword_first        0.030641\n",
       "keyword_day          0.047891\n",
       "keyword_today        0.048550\n",
       "target               1.000000\n",
       "Name: target, dtype: float64"
      ]
     },
     "execution_count": 220,
     "metadata": {},
     "output_type": "execute_result"
    }
   ],
   "source": [
    "df[[\"target\"]+[col for col in df.columns if \"keyword\" in col]].corr()[\"target\"].sort_values()"
   ]
  },
  {
   "cell_type": "code",
   "execution_count": 13,
   "id": "4128dc8b",
   "metadata": {},
   "outputs": [],
   "source": [
    "label_order = sorted(train.subject.unique().tolist())"
   ]
  },
  {
   "cell_type": "code",
   "execution_count": 18,
   "id": "bd485cdd",
   "metadata": {},
   "outputs": [
    {
     "data": {
      "text/plain": [
       "0.7055570773128809"
      ]
     },
     "execution_count": 18,
     "metadata": {},
     "output_type": "execute_result"
    }
   ],
   "source": [
    "(df.subject==\"other\").mean()"
   ]
  },
  {
   "cell_type": "code",
   "execution_count": 16,
   "id": "3de22898",
   "metadata": {},
   "outputs": [
    {
     "data": {
      "text/plain": [
       "<AxesSubplot:xlabel='subject', ylabel='target'>"
      ]
     },
     "execution_count": 16,
     "metadata": {},
     "output_type": "execute_result"
    },
    {
     "data": {
      "image/png": "[encoded data removed]",
      "text/plain": [
       "<Figure size 1080x504 with 1 Axes>"
      ]
     },
     "metadata": {
      "needs_background": "light"
     },
     "output_type": "display_data"
    }
   ],
   "source": [
    "fig,ax = plt.subplots(figsize=(15,7))\n",
    "sns.barplot(data=train[train.category==\"cats\"],x=\"subject\",y=\"target\",order=label_order)"
   ]
  },
  {
   "cell_type": "code",
   "execution_count": 14,
   "id": "28efcaed",
   "metadata": {},
   "outputs": [
    {
     "data": {
      "text/plain": [
       "<AxesSubplot:xlabel='subject', ylabel='target'>"
      ]
     },
     "execution_count": 14,
     "metadata": {},
     "output_type": "execute_result"
    },
    {
     "data": {
      "image/png": "[encoded data removed]",
      "text/plain": [
       "<Figure size 1080x504 with 1 Axes>"
      ]
     },
     "metadata": {
      "needs_background": "light"
     },
     "output_type": "display_data"
    }
   ],
   "source": [
    "fig,ax = plt.subplots(figsize=(15,7))\n",
    "sns.barplot(data=train[train.category==\"dogs\"],x=\"subject\",y=\"target\",order=label_order)"
   ]
  },
  {
   "cell_type": "code",
   "execution_count": 15,
   "id": "0f0c3269",
   "metadata": {},
   "outputs": [
    {
     "data": {
      "text/plain": [
       "<AxesSubplot:xlabel='subject', ylabel='target'>"
      ]
     },
     "execution_count": 15,
     "metadata": {},
     "output_type": "execute_result"
    },
    {
     "data": {
      "image/png": "[encoded data removed]",
      "text/plain": [
       "<Figure size 1080x504 with 1 Axes>"
      ]
     },
     "metadata": {
      "needs_background": "light"
     },
     "output_type": "display_data"
    }
   ],
   "source": [
    "fig,ax = plt.subplots(figsize=(15,7))\n",
    "sns.barplot(data=train,x=\"subject\",y=\"target\",order=label_order)"
   ]
  },
  {
   "cell_type": "code",
   "execution_count": 234,
   "id": "f2d4b18f",
   "metadata": {},
   "outputs": [
    {
     "data": {
      "text/plain": [
       "<AxesSubplot:xlabel='subject', ylabel='target'>"
      ]
     },
     "execution_count": 234,
     "metadata": {},
     "output_type": "execute_result"
    },
    {
     "data": {
      "image/png": "[encoded data removed]",
      "text/plain": [
       "<Figure size 1080x504 with 1 Axes>"
      ]
     },
     "metadata": {
      "needs_background": "light"
     },
     "output_type": "display_data"
    }
   ],
   "source": [
    "fig,ax = plt.subplots(figsize=(15,7))\n",
    "sns.barplot(data=train[train.subject!=\"Other\"],estimator=len,x=\"subject\",y=\"target\")"
   ]
  },
  {
   "cell_type": "code",
   "execution_count": 235,
   "id": "d2611738",
   "metadata": {},
   "outputs": [
    {
     "data": {
      "text/plain": [
       "<AxesSubplot:xlabel='hour', ylabel='target'>"
      ]
     },
     "execution_count": 235,
     "metadata": {},
     "output_type": "execute_result"
    },
    {
     "data": {
      "image/png": "[encoded data removed]",
      "text/plain": [
       "<Figure size 432x288 with 1 Axes>"
      ]
     },
     "metadata": {
      "needs_background": "light"
     },
     "output_type": "display_data"
    }
   ],
   "source": [
    "sns.barplot(data=df,x=\"hour\",y=\"target\",estimator=len)"
   ]
  },
  {
   "cell_type": "code",
   "execution_count": 236,
   "id": "28d240a1",
   "metadata": {},
   "outputs": [
    {
     "data": {
      "text/plain": [
       "<AxesSubplot:xlabel='hour', ylabel='target'>"
      ]
     },
     "execution_count": 236,
     "metadata": {},
     "output_type": "execute_result"
    },
    {
     "data": {
      "image/png": "[encoded data removed]",
      "text/plain": [
       "<Figure size 432x288 with 1 Axes>"
      ]
     },
     "metadata": {
      "needs_background": "light"
     },
     "output_type": "display_data"
    }
   ],
   "source": [
    "sns.barplot(data=df[df.subject==\"greeting\"],x=\"hour\",y=\"target\",estimator=len)"
   ]
  },
  {
   "cell_type": "code",
   "execution_count": 237,
   "id": "8ad72da9",
   "metadata": {},
   "outputs": [
    {
     "data": {
      "text/plain": [
       "<AxesSubplot:xlabel='hour', ylabel='target'>"
      ]
     },
     "execution_count": 237,
     "metadata": {},
     "output_type": "execute_result"
    },
    {
     "data": {
      "image/png": "[encoded data removed]",
      "text/plain": [
       "<Figure size 432x288 with 1 Axes>"
      ]
     },
     "metadata": {
      "needs_background": "light"
     },
     "output_type": "display_data"
    }
   ],
   "source": [
    "sns.barplot(data=df[df.subject==\"sleep\"],x=\"hour\",y=\"target\",estimator=len)"
   ]
  },
  {
   "cell_type": "code",
   "execution_count": 238,
   "id": "ab16b4a5",
   "metadata": {},
   "outputs": [
    {
     "data": {
      "text/plain": [
       "<AxesSubplot:xlabel='hour', ylabel='target'>"
      ]
     },
     "execution_count": 238,
     "metadata": {},
     "output_type": "execute_result"
    },
    {
     "data": {
      "image/png": "[encoded data removed]",
      "text/plain": [
       "<Figure size 432x288 with 1 Axes>"
      ]
     },
     "metadata": {
      "needs_background": "light"
     },
     "output_type": "display_data"
    }
   ],
   "source": [
    "sns.barplot(data=df[df.subject==\"death/injury\"],x=\"hour\",y=\"target\",estimator=len)"
   ]
  },
  {
   "cell_type": "code",
   "execution_count": 241,
   "id": "76d809b3",
   "metadata": {},
   "outputs": [
    {
     "data": {
      "text/plain": [
       "array(['Valens first birthday 🎂🥳',\n",
       "       \"It's Jolene's first birthday today, and of course it's pouring rain at the campground\",\n",
       "       'Happy 4th Birthday Fen!',\n",
       "       \"When it's ur bestfriends birthday and ur hyping him up during his photoshoot :-)\",\n",
       "       \"Today was Tootie's 1st Birthday. She was a HAPPY puppy!\",\n",
       "       'Happy 1st birthday! 🎉', 'happy birthday',\n",
       "       'My Birthday Boy - Turned 1 today!',\n",
       "       'Our little rescue Cookie celebrating her 1st birthday.',\n",
       "       'Happy Birthday Luci-FUR!',\n",
       "       'Today is Peppa’s 4th birthday! She’s our little one-eyed bork machine and we love her to pieces 🥰',\n",
       "       'My pup loves cookies! It’s his birthday month. Can’t believe he is turning 9.',\n",
       "       'It was his birthday today so he got to eat at the table with us',\n",
       "       'I had a pot painted of our dog for my partner’s birthday',\n",
       "       'It’s my girls Gotcha Day! A year ago, I never thought I’d adopt a pittie but it’s the best decision I ever made! Sweetest and gentlest girl ever and great addition to our family. Here she is enjoying her birthday cupcake.'],\n",
       "      dtype=object)"
      ]
     },
     "execution_count": 241,
     "metadata": {},
     "output_type": "execute_result"
    }
   ],
   "source": [
    "df.loc[df.subject==\"birthday\",\"title\"].sample(15).values"
   ]
  }
 ],
 "metadata": {
  "kernelspec": {
   "display_name": "Python 3 (ipykernel)",
   "language": "python",
   "name": "python3"
  },
  "language_info": {
   "codemirror_mode": {
    "name": "ipython",
    "version": 3
   },
   "file_extension": ".py",
   "mimetype": "text/x-python",
   "name": "python",
   "nbconvert_exporter": "python",
   "pygments_lexer": "ipython3",
   "version": "3.9.7"
  }
 },
 "nbformat": 4,
 "nbformat_minor": 5
}
