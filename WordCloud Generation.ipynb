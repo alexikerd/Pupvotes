{
 "cells": [
  {
   "cell_type": "code",
   "execution_count": 1,
   "id": "d79fe03c",
   "metadata": {},
   "outputs": [],
   "source": [
    "import numpy as np\n",
    "import pandas as pd\n",
    "import matplotlib.pyplot as plt\n",
    "import seaborn as sns"
   ]
  },
  {
   "cell_type": "code",
   "execution_count": 2,
   "id": "cd4e9cea",
   "metadata": {},
   "outputs": [
    {
     "data": {
      "text/html": [
       "<div>\n",
       "<style scoped>\n",
       "    .dataframe tbody tr th:only-of-type {\n",
       "        vertical-align: middle;\n",
       "    }\n",
       "\n",
       "    .dataframe tbody tr th {\n",
       "        vertical-align: top;\n",
       "    }\n",
       "\n",
       "    .dataframe thead th {\n",
       "        text-align: right;\n",
       "    }\n",
       "</style>\n",
       "<table border=\"1\" class=\"dataframe\">\n",
       "  <thead>\n",
       "    <tr style=\"text-align: right;\">\n",
       "      <th></th>\n",
       "      <th>fname</th>\n",
       "      <th>url</th>\n",
       "      <th>category</th>\n",
       "      <th>subreddit</th>\n",
       "      <th>title</th>\n",
       "      <th>description</th>\n",
       "      <th>upvotes</th>\n",
       "      <th>posted</th>\n",
       "      <th>scraped</th>\n",
       "      <th>niche</th>\n",
       "      <th>test</th>\n",
       "    </tr>\n",
       "  </thead>\n",
       "  <tbody>\n",
       "    <tr>\n",
       "      <th>0</th>\n",
       "      <td>cgptykrzcez71.jpg</td>\n",
       "      <td>https://i.redd.it/cgptykrzcez71.jpg</td>\n",
       "      <td>cats</td>\n",
       "      <td>catpictures</td>\n",
       "      <td>Caturday morning TV 😺</td>\n",
       "      <td>NaN</td>\n",
       "      <td>247.0</td>\n",
       "      <td>2021-11-13 11:22:11</td>\n",
       "      <td>2021-11-21 09:28:28.376338</td>\n",
       "      <td>0.0</td>\n",
       "      <td>False</td>\n",
       "    </tr>\n",
       "    <tr>\n",
       "      <th>1</th>\n",
       "      <td>EGjVMqx.jpg</td>\n",
       "      <td>https://i.imgur.com/EGjVMqx.jpg</td>\n",
       "      <td>cats</td>\n",
       "      <td>catpictures</td>\n",
       "      <td>Round loaf!</td>\n",
       "      <td>NaN</td>\n",
       "      <td>24.0</td>\n",
       "      <td>2021-11-13 02:23:31</td>\n",
       "      <td>2021-11-21 09:28:28.376338</td>\n",
       "      <td>0.0</td>\n",
       "      <td>False</td>\n",
       "    </tr>\n",
       "    <tr>\n",
       "      <th>2</th>\n",
       "      <td>y45936kis8z71.jpg</td>\n",
       "      <td>https://i.redd.it/y45936kis8z71.jpg</td>\n",
       "      <td>cats</td>\n",
       "      <td>catpictures</td>\n",
       "      <td>Taken over fall wreath</td>\n",
       "      <td>NaN</td>\n",
       "      <td>427.0</td>\n",
       "      <td>2021-11-12 16:38:49</td>\n",
       "      <td>2021-11-21 09:28:28.376338</td>\n",
       "      <td>0.0</td>\n",
       "      <td>False</td>\n",
       "    </tr>\n",
       "    <tr>\n",
       "      <th>3</th>\n",
       "      <td>irl2nzyro8z71.jpg</td>\n",
       "      <td>https://i.redd.it/irl2nzyro8z71.jpg</td>\n",
       "      <td>cats</td>\n",
       "      <td>catpictures</td>\n",
       "      <td>My kitten, Topaz!</td>\n",
       "      <td>NaN</td>\n",
       "      <td>196.0</td>\n",
       "      <td>2021-11-12 16:17:45</td>\n",
       "      <td>2021-11-21 09:28:28.376338</td>\n",
       "      <td>0.0</td>\n",
       "      <td>False</td>\n",
       "    </tr>\n",
       "    <tr>\n",
       "      <th>4</th>\n",
       "      <td>vlsh4hijg8z71.jpg</td>\n",
       "      <td>https://i.redd.it/vlsh4hijg8z71.jpg</td>\n",
       "      <td>cats</td>\n",
       "      <td>catpictures</td>\n",
       "      <td>My Tom is not impressed having to wait for the...</td>\n",
       "      <td>NaN</td>\n",
       "      <td>620.0</td>\n",
       "      <td>2021-11-12 15:31:23</td>\n",
       "      <td>2021-11-21 09:28:28.376338</td>\n",
       "      <td>0.0</td>\n",
       "      <td>False</td>\n",
       "    </tr>\n",
       "  </tbody>\n",
       "</table>\n",
       "</div>"
      ],
      "text/plain": [
       "               fname                                  url category  \\\n",
       "0  cgptykrzcez71.jpg  https://i.redd.it/cgptykrzcez71.jpg     cats   \n",
       "1        EGjVMqx.jpg      https://i.imgur.com/EGjVMqx.jpg     cats   \n",
       "2  y45936kis8z71.jpg  https://i.redd.it/y45936kis8z71.jpg     cats   \n",
       "3  irl2nzyro8z71.jpg  https://i.redd.it/irl2nzyro8z71.jpg     cats   \n",
       "4  vlsh4hijg8z71.jpg  https://i.redd.it/vlsh4hijg8z71.jpg     cats   \n",
       "\n",
       "     subreddit                                              title  \\\n",
       "0  catpictures                              Caturday morning TV 😺   \n",
       "1  catpictures                                        Round loaf!   \n",
       "2  catpictures                             Taken over fall wreath   \n",
       "3  catpictures                                  My kitten, Topaz!   \n",
       "4  catpictures  My Tom is not impressed having to wait for the...   \n",
       "\n",
       "   description  upvotes              posted                    scraped  niche  \\\n",
       "0          NaN    247.0 2021-11-13 11:22:11 2021-11-21 09:28:28.376338    0.0   \n",
       "1          NaN     24.0 2021-11-13 02:23:31 2021-11-21 09:28:28.376338    0.0   \n",
       "2          NaN    427.0 2021-11-12 16:38:49 2021-11-21 09:28:28.376338    0.0   \n",
       "3          NaN    196.0 2021-11-12 16:17:45 2021-11-21 09:28:28.376338    0.0   \n",
       "4          NaN    620.0 2021-11-12 15:31:23 2021-11-21 09:28:28.376338    0.0   \n",
       "\n",
       "    test  \n",
       "0  False  \n",
       "1  False  \n",
       "2  False  \n",
       "3  False  \n",
       "4  False  "
      ]
     },
     "execution_count": 2,
     "metadata": {},
     "output_type": "execute_result"
    }
   ],
   "source": [
    "df = pd.read_csv(\"data.csv\",parse_dates=[\"posted\",\"scraped\"])\n",
    "\n",
    "df.reset_index(inplace=True)\n",
    "df.drop(columns=[\"index\"],inplace=True)\n",
    "\n",
    "\n",
    "df.head()"
   ]
  },
  {
   "cell_type": "code",
   "execution_count": 3,
   "id": "15fd6cbf",
   "metadata": {},
   "outputs": [
    {
     "name": "stderr",
     "output_type": "stream",
     "text": [
      "[nltk_data] Downloading package stopwords to\n",
      "[nltk_data]     C:\\Users\\alexi\\AppData\\Roaming\\nltk_data...\n",
      "[nltk_data]   Package stopwords is already up-to-date!\n"
     ]
    }
   ],
   "source": [
    "import nltk\n",
    "nltk.download('stopwords')\n",
    "\n",
    "\n",
    "import json\n",
    "import glob\n",
    "\n",
    "\n",
    "import gensim\n",
    "import gensim.corpora as corpora\n",
    "from gensim.utils import simple_preprocess\n",
    "from gensim.models import CoherenceModel\n",
    "\n",
    "\n",
    "import spacy\n",
    "# from nltk import stopwords\n",
    "import nltk\n",
    "stopwords = nltk.corpus.stopwords.words('english')\n",
    "\n",
    "import pyLDAvis\n",
    "import pyLDAvis.gensim\n",
    "\n",
    "import warnings\n",
    "\n",
    "warnings.filterwarnings(\"ignore\",category=DeprecationWarning)"
   ]
  },
  {
   "cell_type": "code",
   "execution_count": 4,
   "id": "2f6c2b96",
   "metadata": {},
   "outputs": [
    {
     "data": {
      "text/plain": [
       "['Caturday morning TV 😺',\n",
       " 'Round loaf!',\n",
       " 'Taken over fall wreath',\n",
       " 'My kitten, Topaz!',\n",
       " 'My Tom is not impressed having to wait for the door to open!']"
      ]
     },
     "execution_count": 4,
     "metadata": {},
     "output_type": "execute_result"
    }
   ],
   "source": [
    "data = df.title.tolist()\n",
    "\n",
    "data[:5]"
   ]
  },
  {
   "cell_type": "code",
   "execution_count": 5,
   "id": "6f8dcf18",
   "metadata": {},
   "outputs": [],
   "source": [
    "def lemmatization(texts, allowed_postags=[\"NOUN\",\"ADJ\",\"VERB\",\"ADV\"]):\n",
    "    \n",
    "    nlp = spacy.load(\"en_core_web_sm\",disable=[\"parser\",\"ner\"])\n",
    "    \n",
    "    texts_out = []\n",
    "    \n",
    "    for text in texts:\n",
    "        \n",
    "        doc = nlp(text)\n",
    "        new_text = []\n",
    "        \n",
    "        for token in doc:\n",
    "            \n",
    "            if token.pos_ in allowed_postags:\n",
    "                \n",
    "                new_text.append(token.lemma_)\n",
    "                \n",
    "        final = \" \".join(new_text)\n",
    "        \n",
    "        texts_out.append(final)\n",
    "\n",
    "    return texts_out"
   ]
  },
  {
   "cell_type": "code",
   "execution_count": 6,
   "id": "08e69c56",
   "metadata": {},
   "outputs": [],
   "source": [
    "new_data = lemmatization(data)"
   ]
  },
  {
   "cell_type": "code",
   "execution_count": 7,
   "id": "6320da12",
   "metadata": {},
   "outputs": [],
   "source": [
    "def gen_word(texts):\n",
    "    \n",
    "    final = []\n",
    "    \n",
    "    for text in texts:\n",
    "        \n",
    "        new = gensim.utils.simple_preprocess(text,deacc=True)\n",
    "        final.append(new)\n",
    "        \n",
    "    return (final)"
   ]
  },
  {
   "cell_type": "code",
   "execution_count": 8,
   "id": "82719c12",
   "metadata": {},
   "outputs": [],
   "source": [
    "data_words = gen_word(new_data)"
   ]
  },
  {
   "cell_type": "code",
   "execution_count": 9,
   "id": "55675af7",
   "metadata": {},
   "outputs": [
    {
     "name": "stdout",
     "output_type": "stream",
     "text": [
      "['caturday', 'morning', 'tv']\n"
     ]
    }
   ],
   "source": [
    "bigram_phrases = gensim.models.Phrases(data_words,min_count=5, threshold=50)\n",
    "trigram_phrases = gensim.models.Phrases(bigram_phrases[data_words], threshold=50)\n",
    "\n",
    "bigram = gensim.models.phrases.Phraser(bigram_phrases)\n",
    "trigram = gensim.models.phrases.Phraser(trigram_phrases)\n",
    "\n",
    "\n",
    "def make_bigrams(texts):\n",
    "\n",
    "    return [bigram[doc] for doc in texts]\n",
    "\n",
    "\n",
    "def make_trigram(texts):\n",
    "\n",
    "    return [trigram[bigram[doc]] for doc in texts]\n",
    "\n",
    "data_bigrams = make_bigrams(data_words)\n",
    "data_bigrams_trigrams = make_trigram(data_bigrams)\n",
    "\n",
    "\n",
    "print(data_bigrams_trigrams[0][0:10])"
   ]
  },
  {
   "cell_type": "code",
   "execution_count": 10,
   "id": "271c9bfe",
   "metadata": {},
   "outputs": [],
   "source": [
    "df[\"trigrams\"] = data_bigrams_trigrams"
   ]
  },
  {
   "cell_type": "code",
   "execution_count": 11,
   "id": "1b76e439",
   "metadata": {},
   "outputs": [
    {
     "data": {
      "text/plain": [
       "['catpictures',\n",
       " 'WhiteCats',\n",
       " 'CalicoKittys',\n",
       " 'TabbyCats',\n",
       " 'TortoiseShellCats',\n",
       " 'KittyTailWrap',\n",
       " 'Abyssinians',\n",
       " 'bengalcats',\n",
       " 'BombayCat',\n",
       " 'birmans',\n",
       " 'britishshorthair',\n",
       " 'mainecoons',\n",
       " 'russianblue',\n",
       " 'Siamesecats',\n",
       " 'sphynx',\n",
       " 'SphynxCats',\n",
       " 'dogpictures',\n",
       " 'PuppySmiles',\n",
       " 'BoxerDogs',\n",
       " 'Keeshond',\n",
       " 'Havanese',\n",
       " 'basset',\n",
       " 'bassethounds',\n",
       " 'EnglishSetter',\n",
       " 'MiniatureSchnauzer',\n",
       " 'Chihuahua',\n",
       " 'greatpyrenees',\n",
       " 'germanshorthairs',\n",
       " 'beagle',\n",
       " 'beagles',\n",
       " 'Staffiebullterriers',\n",
       " 'NewfoundlandDogs',\n",
       " 'englishcockerspaniel',\n",
       " 'Pomeranians',\n",
       " 'pomeranian',\n",
       " 'pitbulls',\n",
       " 'Wheatens',\n",
       " 'JapaneseChin',\n",
       " 'samoyeds',\n",
       " 'scottishterriers',\n",
       " 'ShibaInu',\n",
       " 'pugs',\n",
       " 'pug',\n",
       " 'SaintBernards',\n",
       " 'AmericanBully',\n",
       " 'YorkshireTerrier',\n",
       " 'graycats',\n",
       " 'Leonberger',\n",
       " 'egyptianmau',\n",
       " 'ragdollcats',\n",
       " 'persiancat',\n",
       " 'blackcats']"
      ]
     },
     "execution_count": 11,
     "metadata": {},
     "output_type": "execute_result"
    }
   ],
   "source": [
    "df.subreddit.unique().tolist()"
   ]
  },
  {
   "cell_type": "code",
   "execution_count": 12,
   "id": "89b47edb",
   "metadata": {},
   "outputs": [],
   "source": [
    "from wordcloud import WordCloud, STOPWORDS, ImageColorGenerator"
   ]
  },
  {
   "cell_type": "code",
   "execution_count": 13,
   "id": "12ef91f8",
   "metadata": {},
   "outputs": [],
   "source": [
    "options = [\"cats\",\"dogs\"]\n",
    "\n",
    "\n",
    "for option in options:\n",
    "    \n",
    "    if option==\"All\":\n",
    "        \n",
    "        text = \" \".join([sentence for sentence in df.trigrams.apply(lambda x: \" \".join(x))])\n",
    "        \n",
    "    elif option in [\"cats\",\"dogs\"]:\n",
    "        \n",
    "        text = \" \".join([sentence for sentence in df[df.category==option].trigrams.apply(lambda x: \" \".join(x))])\n",
    "        \n",
    "    else:\n",
    "        \n",
    "        text = \" \".join([sentence for sentence in df[df.subreddit==option].trigrams.apply(lambda x: \" \".join(x))])\n",
    "        \n",
    "\n",
    "    wordcloud = WordCloud(max_words=50,width=400, height=200).generate(text)\n",
    "\n",
    "    wordcloud.to_file(f'wordclouds/{option}.png')\n",
    "    \n"
   ]
  },
  {
   "cell_type": "code",
   "execution_count": null,
   "id": "1fa971f1",
   "metadata": {},
   "outputs": [],
   "source": []
  },
  {
   "cell_type": "markdown",
   "id": "faeb38e8",
   "metadata": {},
   "source": [
    "## Removing Common Words"
   ]
  },
  {
   "cell_type": "code",
   "execution_count": 14,
   "id": "56501819",
   "metadata": {},
   "outputs": [],
   "source": [
    "from gensim.models import TfidfModel"
   ]
  },
  {
   "cell_type": "code",
   "execution_count": 15,
   "id": "c4da5156",
   "metadata": {},
   "outputs": [],
   "source": [
    "id2word = corpora.Dictionary(data_bigrams_trigrams)\n",
    "\n",
    "texts = data_bigrams_trigrams\n",
    "\n",
    "corpus = [id2word.doc2bow(text) for text in texts]\n",
    "\n",
    "\n",
    "\n",
    "tfidf = TfidfModel(corpus, id2word=id2word)\n",
    "\n",
    "THRESHOLD = 0.25\n",
    "words = []\n",
    "words_missing_in_tfidf = []\n",
    "\n",
    "\n",
    "\n",
    "for i in range(len(corpus)):\n",
    "    \n",
    "    bow = corpus[i]\n",
    "    \n",
    "    low_value_words = []\n",
    "    tfidf_ids = [idx for idx, value in tfidf[bow]]\n",
    "    bow_ids = [idx for idx,value in bow]\n",
    "    low_value_words = [idx for idx,value in tfidf[bow] if value < THRESHOLD]\n",
    "    drops = low_value_words + words_missing_in_tfidf\n",
    "    \n",
    "    for item in drops:\n",
    "        words.append(id2word[item])\n",
    "        \n",
    "    words_missing_in_tfidf = [idx for idx in bow_ids if idx not in tfidf_ids]\n",
    "    \n",
    "    new_bow = [b for b in bow if b[0] not in low_value_words and b[0] not in words_missing_in_tfidf]\n",
    "    \n",
    "    \n",
    "    corpus[i] = new_bow\n",
    "    \n",
    "    \n",
    "    "
   ]
  },
  {
   "cell_type": "code",
   "execution_count": 16,
   "id": "a1719bdf",
   "metadata": {},
   "outputs": [],
   "source": [
    "df[\"trigrams_clipped\"] = [[id2word[t[0]] for t in line] for line in corpus]"
   ]
  },
  {
   "cell_type": "code",
   "execution_count": 26,
   "id": "32d0f9cf",
   "metadata": {},
   "outputs": [],
   "source": [
    "options = [\"cats\",\"dogs\"] \n",
    "keywords = set()\n",
    "\n",
    "for option in options:\n",
    "    \n",
    "    if option==\"All\":\n",
    "        \n",
    "        text = \" \".join([sentence for sentence in df.trigrams_clipped.apply(lambda x: \" \".join(x))])\n",
    "        \n",
    "    elif option in [\"cats\",\"dogs\"]:\n",
    "        \n",
    "        text = \" \".join([sentence for sentence in df[df.category==option].trigrams_clipped.apply(lambda x: \" \".join(x))])\n",
    "        \n",
    "    else:\n",
    "        \n",
    "        text = \" \".join([sentence for sentence in df[df.subreddit==option].trigrams_clipped.apply(lambda x: \" \".join(x))])\n",
    "        \n",
    "\n",
    "    wordcloud = WordCloud(max_words=50).generate(text)\n",
    "\n",
    "    wordcloud.to_file(f'wordclouds/{option}_clipped.png')\n",
    "    keywords = keywords.union(set(wordcloud.words_))\n",
    "\n",
    "keywords.remove(\"cat\")\n",
    "keywords.remove(\"dog\")\n",
    "    \n",
    "keywords = list(keywords)"
   ]
  },
  {
   "cell_type": "code",
   "execution_count": 28,
   "id": "ac368db6",
   "metadata": {},
   "outputs": [],
   "source": [
    "for kw in keywords:\n",
    "    \n",
    "    df[f'keyword_{kw}'] = df.title.str.lower().str.contains(kw)"
   ]
  },
  {
   "cell_type": "code",
   "execution_count": 29,
   "id": "c7717efa",
   "metadata": {},
   "outputs": [
    {
     "data": {
      "text/html": [
       "<div>\n",
       "<style scoped>\n",
       "    .dataframe tbody tr th:only-of-type {\n",
       "        vertical-align: middle;\n",
       "    }\n",
       "\n",
       "    .dataframe tbody tr th {\n",
       "        vertical-align: top;\n",
       "    }\n",
       "\n",
       "    .dataframe thead th {\n",
       "        text-align: right;\n",
       "    }\n",
       "</style>\n",
       "<table border=\"1\" class=\"dataframe\">\n",
       "  <thead>\n",
       "    <tr style=\"text-align: right;\">\n",
       "      <th></th>\n",
       "      <th>fname</th>\n",
       "      <th>url</th>\n",
       "      <th>category</th>\n",
       "      <th>subreddit</th>\n",
       "      <th>title</th>\n",
       "      <th>description</th>\n",
       "      <th>upvotes</th>\n",
       "      <th>posted</th>\n",
       "      <th>scraped</th>\n",
       "      <th>niche</th>\n",
       "      <th>...</th>\n",
       "      <th>keyword_sweet</th>\n",
       "      <th>keyword_happy</th>\n",
       "      <th>keyword_big</th>\n",
       "      <th>keyword_baby</th>\n",
       "      <th>keyword_say</th>\n",
       "      <th>keyword_day</th>\n",
       "      <th>keyword_enjoy</th>\n",
       "      <th>keyword_kitten</th>\n",
       "      <th>keyword_smile</th>\n",
       "      <th>keyword_cute</th>\n",
       "    </tr>\n",
       "  </thead>\n",
       "  <tbody>\n",
       "    <tr>\n",
       "      <th>0</th>\n",
       "      <td>cgptykrzcez71.jpg</td>\n",
       "      <td>https://i.redd.it/cgptykrzcez71.jpg</td>\n",
       "      <td>cats</td>\n",
       "      <td>catpictures</td>\n",
       "      <td>Caturday morning TV 😺</td>\n",
       "      <td>NaN</td>\n",
       "      <td>247.0</td>\n",
       "      <td>2021-11-13 11:22:11</td>\n",
       "      <td>2021-11-21 09:28:28.376338</td>\n",
       "      <td>0.0</td>\n",
       "      <td>...</td>\n",
       "      <td>False</td>\n",
       "      <td>False</td>\n",
       "      <td>False</td>\n",
       "      <td>False</td>\n",
       "      <td>False</td>\n",
       "      <td>True</td>\n",
       "      <td>False</td>\n",
       "      <td>False</td>\n",
       "      <td>False</td>\n",
       "      <td>False</td>\n",
       "    </tr>\n",
       "    <tr>\n",
       "      <th>1</th>\n",
       "      <td>EGjVMqx.jpg</td>\n",
       "      <td>https://i.imgur.com/EGjVMqx.jpg</td>\n",
       "      <td>cats</td>\n",
       "      <td>catpictures</td>\n",
       "      <td>Round loaf!</td>\n",
       "      <td>NaN</td>\n",
       "      <td>24.0</td>\n",
       "      <td>2021-11-13 02:23:31</td>\n",
       "      <td>2021-11-21 09:28:28.376338</td>\n",
       "      <td>0.0</td>\n",
       "      <td>...</td>\n",
       "      <td>False</td>\n",
       "      <td>False</td>\n",
       "      <td>False</td>\n",
       "      <td>False</td>\n",
       "      <td>False</td>\n",
       "      <td>False</td>\n",
       "      <td>False</td>\n",
       "      <td>False</td>\n",
       "      <td>False</td>\n",
       "      <td>False</td>\n",
       "    </tr>\n",
       "    <tr>\n",
       "      <th>2</th>\n",
       "      <td>y45936kis8z71.jpg</td>\n",
       "      <td>https://i.redd.it/y45936kis8z71.jpg</td>\n",
       "      <td>cats</td>\n",
       "      <td>catpictures</td>\n",
       "      <td>Taken over fall wreath</td>\n",
       "      <td>NaN</td>\n",
       "      <td>427.0</td>\n",
       "      <td>2021-11-12 16:38:49</td>\n",
       "      <td>2021-11-21 09:28:28.376338</td>\n",
       "      <td>0.0</td>\n",
       "      <td>...</td>\n",
       "      <td>False</td>\n",
       "      <td>False</td>\n",
       "      <td>False</td>\n",
       "      <td>False</td>\n",
       "      <td>False</td>\n",
       "      <td>False</td>\n",
       "      <td>False</td>\n",
       "      <td>False</td>\n",
       "      <td>False</td>\n",
       "      <td>False</td>\n",
       "    </tr>\n",
       "    <tr>\n",
       "      <th>3</th>\n",
       "      <td>irl2nzyro8z71.jpg</td>\n",
       "      <td>https://i.redd.it/irl2nzyro8z71.jpg</td>\n",
       "      <td>cats</td>\n",
       "      <td>catpictures</td>\n",
       "      <td>My kitten, Topaz!</td>\n",
       "      <td>NaN</td>\n",
       "      <td>196.0</td>\n",
       "      <td>2021-11-12 16:17:45</td>\n",
       "      <td>2021-11-21 09:28:28.376338</td>\n",
       "      <td>0.0</td>\n",
       "      <td>...</td>\n",
       "      <td>False</td>\n",
       "      <td>False</td>\n",
       "      <td>False</td>\n",
       "      <td>False</td>\n",
       "      <td>False</td>\n",
       "      <td>False</td>\n",
       "      <td>False</td>\n",
       "      <td>True</td>\n",
       "      <td>False</td>\n",
       "      <td>False</td>\n",
       "    </tr>\n",
       "    <tr>\n",
       "      <th>4</th>\n",
       "      <td>vlsh4hijg8z71.jpg</td>\n",
       "      <td>https://i.redd.it/vlsh4hijg8z71.jpg</td>\n",
       "      <td>cats</td>\n",
       "      <td>catpictures</td>\n",
       "      <td>My Tom is not impressed having to wait for the...</td>\n",
       "      <td>NaN</td>\n",
       "      <td>620.0</td>\n",
       "      <td>2021-11-12 15:31:23</td>\n",
       "      <td>2021-11-21 09:28:28.376338</td>\n",
       "      <td>0.0</td>\n",
       "      <td>...</td>\n",
       "      <td>False</td>\n",
       "      <td>False</td>\n",
       "      <td>False</td>\n",
       "      <td>False</td>\n",
       "      <td>False</td>\n",
       "      <td>False</td>\n",
       "      <td>False</td>\n",
       "      <td>False</td>\n",
       "      <td>False</td>\n",
       "      <td>False</td>\n",
       "    </tr>\n",
       "  </tbody>\n",
       "</table>\n",
       "<p>5 rows × 75 columns</p>\n",
       "</div>"
      ],
      "text/plain": [
       "               fname                                  url category  \\\n",
       "0  cgptykrzcez71.jpg  https://i.redd.it/cgptykrzcez71.jpg     cats   \n",
       "1        EGjVMqx.jpg      https://i.imgur.com/EGjVMqx.jpg     cats   \n",
       "2  y45936kis8z71.jpg  https://i.redd.it/y45936kis8z71.jpg     cats   \n",
       "3  irl2nzyro8z71.jpg  https://i.redd.it/irl2nzyro8z71.jpg     cats   \n",
       "4  vlsh4hijg8z71.jpg  https://i.redd.it/vlsh4hijg8z71.jpg     cats   \n",
       "\n",
       "     subreddit                                              title  \\\n",
       "0  catpictures                              Caturday morning TV 😺   \n",
       "1  catpictures                                        Round loaf!   \n",
       "2  catpictures                             Taken over fall wreath   \n",
       "3  catpictures                                  My kitten, Topaz!   \n",
       "4  catpictures  My Tom is not impressed having to wait for the...   \n",
       "\n",
       "   description  upvotes              posted                    scraped  niche  \\\n",
       "0          NaN    247.0 2021-11-13 11:22:11 2021-11-21 09:28:28.376338    0.0   \n",
       "1          NaN     24.0 2021-11-13 02:23:31 2021-11-21 09:28:28.376338    0.0   \n",
       "2          NaN    427.0 2021-11-12 16:38:49 2021-11-21 09:28:28.376338    0.0   \n",
       "3          NaN    196.0 2021-11-12 16:17:45 2021-11-21 09:28:28.376338    0.0   \n",
       "4          NaN    620.0 2021-11-12 15:31:23 2021-11-21 09:28:28.376338    0.0   \n",
       "\n",
       "   ...  keyword_sweet keyword_happy keyword_big  keyword_baby  keyword_say  \\\n",
       "0  ...          False         False       False         False        False   \n",
       "1  ...          False         False       False         False        False   \n",
       "2  ...          False         False       False         False        False   \n",
       "3  ...          False         False       False         False        False   \n",
       "4  ...          False         False       False         False        False   \n",
       "\n",
       "   keyword_day  keyword_enjoy  keyword_kitten  keyword_smile  keyword_cute  \n",
       "0         True          False           False          False         False  \n",
       "1        False          False           False          False         False  \n",
       "2        False          False           False          False         False  \n",
       "3        False          False            True          False         False  \n",
       "4        False          False           False          False         False  \n",
       "\n",
       "[5 rows x 75 columns]"
      ]
     },
     "execution_count": 29,
     "metadata": {},
     "output_type": "execute_result"
    }
   ],
   "source": [
    "df.head()"
   ]
  },
  {
   "cell_type": "code",
   "execution_count": 31,
   "id": "75db82d8",
   "metadata": {},
   "outputs": [],
   "source": [
    "kwdf = pd.DataFrame({\"keywords\":keywords})\n",
    "\n",
    "kwdf.to_csv(\"keywords.csv\",index=False)"
   ]
  },
  {
   "cell_type": "code",
   "execution_count": 35,
   "id": "f90d9ca7",
   "metadata": {
    "scrolled": true
   },
   "outputs": [
    {
     "data": {
      "text/plain": [
       "keyword_old year    0.001712\n",
       "keyword_bengal      0.371499\n",
       "keyword_find        0.510169\n",
       "keyword_kitten      0.537561\n",
       "keyword_kitty       0.587208\n",
       "                      ...   \n",
       "keyword_little      4.570979\n",
       "keyword_boy         4.790112\n",
       "keyword_love        5.300281\n",
       "keyword_day         9.439841\n",
       "keyword_go          9.636718\n",
       "Length: 62, dtype: float64"
      ]
     },
     "execution_count": 35,
     "metadata": {},
     "output_type": "execute_result"
    }
   ],
   "source": [
    "df[[col for col in df.columns if \"keyword\" in col]].mean().sort_values()*100"
   ]
  },
  {
   "cell_type": "code",
   "execution_count": 52,
   "id": "4ecfeb23",
   "metadata": {},
   "outputs": [
    {
     "data": {
      "text/plain": [
       "0.03991979080590685"
      ]
     },
     "execution_count": 52,
     "metadata": {},
     "output_type": "execute_result"
    }
   ],
   "source": [
    "test = df.groupby([\"keyword_make\"],as_index=False).agg({\"target\":\"mean\"})\n",
    "\n",
    "test.target.std()"
   ]
  },
  {
   "cell_type": "code",
   "execution_count": 53,
   "id": "6a18c9a4",
   "metadata": {},
   "outputs": [
    {
     "name": "stdout",
     "output_type": "stream",
     "text": [
      "make 0.03991979080590685\n",
      "always 0.03991979080590685\n",
      "look 0.03991979080590685\n",
      "find 0.03991979080590685\n",
      "month 0.03991979080590685\n",
      "morning 0.03991979080590685\n",
      "sit 0.03991979080590685\n",
      "sleep 0.03991979080590685\n",
      "bed 0.03991979080590685\n",
      "ready 0.03991979080590685\n",
      "good 0.03991979080590685\n",
      "beagle 0.03991979080590685\n",
      "still 0.03991979080590685\n",
      "handsome 0.03991979080590685\n",
      "love 0.03991979080590685\n",
      "first 0.03991979080590685\n",
      "friend 0.03991979080590685\n",
      "work 0.03991979080590685\n",
      "snow 0.03991979080590685\n",
      "nap 0.03991979080590685\n",
      "see 0.03991979080590685\n",
      "take 0.03991979080590685\n",
      "week 0.03991979080590685\n",
      "boy 0.03991979080590685\n",
      "name 0.03991979080590685\n",
      "beautiful 0.03991979080590685\n",
      "puppy 0.03991979080590685\n",
      "pug 0.03991979080590685\n",
      "cuddle 0.03991979080590685\n",
      "pup 0.03991979080590685\n",
      "new 0.03991979080590685\n",
      "eye 0.03991979080590685\n",
      "go 0.03991979080590685\n",
      "now 0.03991979080590685\n",
      "face 0.03991979080590685\n",
      "walk 0.03991979080590685\n",
      "watch 0.03991979080590685\n",
      "girl 0.03991979080590685\n",
      "meet 0.03991979080590685\n",
      "know 0.03991979080590685\n",
      "sleepy 0.03991979080590685\n",
      "want 0.03991979080590685\n",
      "photo 0.03991979080590685\n",
      "picture 0.03991979080590685\n",
      "kitty 0.03991979080590685\n",
      "come 0.03991979080590685\n",
      "today 0.03991979080590685\n",
      "bengal 0.03991979080590685\n",
      "time 0.03991979080590685\n",
      "think 0.03991979080590685\n",
      "old year 0.03991979080590685\n",
      "little 0.03991979080590685\n",
      "sweet 0.03991979080590685\n",
      "happy 0.03991979080590685\n",
      "big 0.03991979080590685\n",
      "baby 0.03991979080590685\n",
      "say 0.03991979080590685\n",
      "day 0.03991979080590685\n",
      "enjoy 0.03991979080590685\n",
      "kitten 0.03991979080590685\n",
      "smile 0.03991979080590685\n",
      "cute 0.03991979080590685\n"
     ]
    }
   ],
   "source": [
    "for kw in kwdf.keywords:\n",
    "    \n",
    "    print(kw,df.groupby([\"keyword_make\"],as_index=False).agg({\"target\":\"mean\"}).target.std())"
   ]
  },
  {
   "cell_type": "code",
   "execution_count": 41,
   "id": "7973fda6",
   "metadata": {},
   "outputs": [],
   "source": [
    "df[\"target\"] = np.log(df.upvotes+1)"
   ]
  },
  {
   "cell_type": "code",
   "execution_count": 42,
   "id": "e50cd376",
   "metadata": {},
   "outputs": [
    {
     "data": {
      "text/plain": [
       "<AxesSubplot:xlabel='keyword_kitty', ylabel='target'>"
      ]
     },
     "execution_count": 42,
     "metadata": {},
     "output_type": "execute_result"
    },
    {
     "data": {
      "image/png": "[encoded data removed]",
      "text/plain": [
       "<Figure size 432x288 with 1 Axes>"
      ]
     },
     "metadata": {
      "needs_background": "light"
     },
     "output_type": "display_data"
    }
   ],
   "source": [
    "sns.barplot(data=df,x=\"keyword_kitty\",y=\"target\")"
   ]
  },
  {
   "cell_type": "code",
   "execution_count": 44,
   "id": "55b9c2e4",
   "metadata": {},
   "outputs": [
    {
     "data": {
      "text/plain": [
       "<AxesSubplot:xlabel='keyword_kitten', ylabel='target'>"
      ]
     },
     "execution_count": 44,
     "metadata": {},
     "output_type": "execute_result"
    },
    {
     "data": {
      "image/png": "[encoded data removed]",
      "text/plain": [
       "<Figure size 432x288 with 1 Axes>"
      ]
     },
     "metadata": {
      "needs_background": "light"
     },
     "output_type": "display_data"
    }
   ],
   "source": [
    "sns.barplot(data=df,x=\"keyword_kitten\",y=\"target\")"
   ]
  },
  {
   "cell_type": "code",
   "execution_count": 45,
   "id": "674c68a9",
   "metadata": {},
   "outputs": [
    {
     "data": {
      "text/plain": [
       "<AxesSubplot:xlabel='keyword_puppy', ylabel='target'>"
      ]
     },
     "execution_count": 45,
     "metadata": {},
     "output_type": "execute_result"
    },
    {
     "data": {
      "image/png": "[encoded data removed]",
      "text/plain": [
       "<Figure size 432x288 with 1 Axes>"
      ]
     },
     "metadata": {
      "needs_background": "light"
     },
     "output_type": "display_data"
    }
   ],
   "source": [
    "sns.barplot(data=df,x=\"keyword_puppy\",y=\"target\")"
   ]
  }
 ],
 "metadata": {
  "kernelspec": {
   "display_name": "Python 3 (ipykernel)",
   "language": "python",
   "name": "python3"
  },
  "language_info": {
   "codemirror_mode": {
    "name": "ipython",
    "version": 3
   },
   "file_extension": ".py",
   "mimetype": "text/x-python",
   "name": "python",
   "nbconvert_exporter": "python",
   "pygments_lexer": "ipython3",
   "version": "3.9.7"
  }
 },
 "nbformat": 4,
 "nbformat_minor": 5
}
