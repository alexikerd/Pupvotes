{
 "cells": [
  {
   "cell_type": "code",
   "execution_count": 1,
   "id": "c9d9ca80",
   "metadata": {},
   "outputs": [],
   "source": [
    "import numpy as np\n",
    "import pandas as pd\n",
    "import matplotlib.pyplot as plt\n",
    "import seaborn as sns"
   ]
  },
  {
   "cell_type": "code",
   "execution_count": 2,
   "id": "488065f4",
   "metadata": {},
   "outputs": [
    {
     "data": {
      "text/html": [
       "<div>\n",
       "<style scoped>\n",
       "    .dataframe tbody tr th:only-of-type {\n",
       "        vertical-align: middle;\n",
       "    }\n",
       "\n",
       "    .dataframe tbody tr th {\n",
       "        vertical-align: top;\n",
       "    }\n",
       "\n",
       "    .dataframe thead th {\n",
       "        text-align: right;\n",
       "    }\n",
       "</style>\n",
       "<table border=\"1\" class=\"dataframe\">\n",
       "  <thead>\n",
       "    <tr style=\"text-align: right;\">\n",
       "      <th></th>\n",
       "      <th>fname</th>\n",
       "      <th>url</th>\n",
       "      <th>category</th>\n",
       "      <th>subreddit</th>\n",
       "      <th>title</th>\n",
       "      <th>description</th>\n",
       "      <th>upvotes</th>\n",
       "      <th>posted</th>\n",
       "      <th>scraped</th>\n",
       "      <th>niche</th>\n",
       "      <th>test</th>\n",
       "    </tr>\n",
       "  </thead>\n",
       "  <tbody>\n",
       "    <tr>\n",
       "      <th>0</th>\n",
       "      <td>cgptykrzcez71.jpg</td>\n",
       "      <td>https://i.redd.it/cgptykrzcez71.jpg</td>\n",
       "      <td>cats</td>\n",
       "      <td>catpictures</td>\n",
       "      <td>Caturday morning TV 😺</td>\n",
       "      <td>NaN</td>\n",
       "      <td>247.0</td>\n",
       "      <td>2021-11-13 11:22:11</td>\n",
       "      <td>2021-11-21 09:28:28.376338</td>\n",
       "      <td>0.0</td>\n",
       "      <td>False</td>\n",
       "    </tr>\n",
       "    <tr>\n",
       "      <th>1</th>\n",
       "      <td>EGjVMqx.jpg</td>\n",
       "      <td>https://i.imgur.com/EGjVMqx.jpg</td>\n",
       "      <td>cats</td>\n",
       "      <td>catpictures</td>\n",
       "      <td>Round loaf!</td>\n",
       "      <td>NaN</td>\n",
       "      <td>24.0</td>\n",
       "      <td>2021-11-13 02:23:31</td>\n",
       "      <td>2021-11-21 09:28:28.376338</td>\n",
       "      <td>0.0</td>\n",
       "      <td>False</td>\n",
       "    </tr>\n",
       "    <tr>\n",
       "      <th>2</th>\n",
       "      <td>y45936kis8z71.jpg</td>\n",
       "      <td>https://i.redd.it/y45936kis8z71.jpg</td>\n",
       "      <td>cats</td>\n",
       "      <td>catpictures</td>\n",
       "      <td>Taken over fall wreath</td>\n",
       "      <td>NaN</td>\n",
       "      <td>427.0</td>\n",
       "      <td>2021-11-12 16:38:49</td>\n",
       "      <td>2021-11-21 09:28:28.376338</td>\n",
       "      <td>0.0</td>\n",
       "      <td>False</td>\n",
       "    </tr>\n",
       "    <tr>\n",
       "      <th>3</th>\n",
       "      <td>irl2nzyro8z71.jpg</td>\n",
       "      <td>https://i.redd.it/irl2nzyro8z71.jpg</td>\n",
       "      <td>cats</td>\n",
       "      <td>catpictures</td>\n",
       "      <td>My kitten, Topaz!</td>\n",
       "      <td>NaN</td>\n",
       "      <td>196.0</td>\n",
       "      <td>2021-11-12 16:17:45</td>\n",
       "      <td>2021-11-21 09:28:28.376338</td>\n",
       "      <td>0.0</td>\n",
       "      <td>False</td>\n",
       "    </tr>\n",
       "    <tr>\n",
       "      <th>4</th>\n",
       "      <td>vlsh4hijg8z71.jpg</td>\n",
       "      <td>https://i.redd.it/vlsh4hijg8z71.jpg</td>\n",
       "      <td>cats</td>\n",
       "      <td>catpictures</td>\n",
       "      <td>My Tom is not impressed having to wait for the...</td>\n",
       "      <td>NaN</td>\n",
       "      <td>620.0</td>\n",
       "      <td>2021-11-12 15:31:23</td>\n",
       "      <td>2021-11-21 09:28:28.376338</td>\n",
       "      <td>0.0</td>\n",
       "      <td>False</td>\n",
       "    </tr>\n",
       "  </tbody>\n",
       "</table>\n",
       "</div>"
      ],
      "text/plain": [
       "               fname                                  url category  \\\n",
       "0  cgptykrzcez71.jpg  https://i.redd.it/cgptykrzcez71.jpg     cats   \n",
       "1        EGjVMqx.jpg      https://i.imgur.com/EGjVMqx.jpg     cats   \n",
       "2  y45936kis8z71.jpg  https://i.redd.it/y45936kis8z71.jpg     cats   \n",
       "3  irl2nzyro8z71.jpg  https://i.redd.it/irl2nzyro8z71.jpg     cats   \n",
       "4  vlsh4hijg8z71.jpg  https://i.redd.it/vlsh4hijg8z71.jpg     cats   \n",
       "\n",
       "     subreddit                                              title  \\\n",
       "0  catpictures                              Caturday morning TV 😺   \n",
       "1  catpictures                                        Round loaf!   \n",
       "2  catpictures                             Taken over fall wreath   \n",
       "3  catpictures                                  My kitten, Topaz!   \n",
       "4  catpictures  My Tom is not impressed having to wait for the...   \n",
       "\n",
       "   description  upvotes              posted                    scraped  niche  \\\n",
       "0          NaN    247.0 2021-11-13 11:22:11 2021-11-21 09:28:28.376338    0.0   \n",
       "1          NaN     24.0 2021-11-13 02:23:31 2021-11-21 09:28:28.376338    0.0   \n",
       "2          NaN    427.0 2021-11-12 16:38:49 2021-11-21 09:28:28.376338    0.0   \n",
       "3          NaN    196.0 2021-11-12 16:17:45 2021-11-21 09:28:28.376338    0.0   \n",
       "4          NaN    620.0 2021-11-12 15:31:23 2021-11-21 09:28:28.376338    0.0   \n",
       "\n",
       "    test  \n",
       "0  False  \n",
       "1  False  \n",
       "2  False  \n",
       "3  False  \n",
       "4  False  "
      ]
     },
     "execution_count": 2,
     "metadata": {},
     "output_type": "execute_result"
    }
   ],
   "source": [
    "df = pd.read_csv(\"data.csv\",parse_dates=[\"posted\",\"scraped\"])\n",
    "\n",
    "df = df.loc[df.test==False]\n",
    "\n",
    "df.head()"
   ]
  },
  {
   "cell_type": "code",
   "execution_count": 1,
   "id": "ce1d9bab",
   "metadata": {},
   "outputs": [],
   "source": [
    "subjects = {\"holiday\":[\"birthday\",\"santa\",\"xmas\",\"christmas\",\"holiday\",\"valentine\",\"halloween\",\"easter\",\"thanksgiving\"]\n",
    "           ,\"death/injury\":[\"broke her\",\"broke his\",\"hard time bending \",\"not feeling so good\",\"not feeling well\",\"the labs gone\",\"splenectomy\",\"post op\",\"passed away\",\"miss her\",\"miss him\",\"surgery\",\"seizure\",\"missing\",\"hospital\",\"hit by car\",\"died\"]\n",
    "           ,\"sleep\":[\"cozy\",\"chill\",\"dreaming\",\"lazy\",\"bed time\",\"bedtime\",\"slumber\",\"lazing\",\"blanket\",\"snooze\",\"sleepy\",\"snug \",\"sleep\",\"cuddlin\",\"tired\",\"snoozin\",\"loungin\",\"snuggle\",\"cuddle\",\"chillin\",\"sweepy\",\"leisure\",\"nappin\",\"nap \",\"nap,\"]\n",
    "           ,\"new\":[\"new add\",\"rescued\",\"newest\",\"just adopted\"]\n",
    "            ,\"sun\":[\"enjoying morning sun\",\"soaking up the sun\",\"enjoying the sun\",\"sunshine\",\"enjoying the shade\",\"in the sun\",\"sunbeam\",\"sun beam\"]\n",
    "           ,\"snow\":[\"snow\",\"winter\",\"cold\",\"-3\"]\n",
    "           ,\"cat\":[\"tail wrap\",\"toe bean\"]\n",
    "           ,\"playful\":[\"play\",\"fetch\",\"tug\"]\n",
    "           ,\"naughty\":[\"naughty\",\"bad girl\",\"bad boy\"]\n",
    "           ,\"poses\":[\"pose\",\"photogenic\",\"photoshoot\"]\n",
    "           ,\"walk\":[\"walk\",\"stroll\",\"leash\",\"hike\"]\n",
    "            ,\"good morning\":[\"good morning\",\"good evening\",\"good night\",\"Good murrrrning\"]\n",
    "           ,\"cute\":[\"beautiful\",\"cutie\",\"cute\",\"handsome\"]}"
   ]
  },
  {
   "cell_type": "code",
   "execution_count": 144,
   "id": "8c9eccc0",
   "metadata": {},
   "outputs": [
    {
     "data": {
      "text/plain": [
       "'Its an older pic. The labs gone, bless her, but her pal is still with us at 13 years old. They were, the best if freinds.'"
      ]
     },
     "execution_count": 144,
     "metadata": {},
     "output_type": "execute_result"
    }
   ],
   "source": [
    "df.loc[45916,\"title\"]"
   ]
  },
  {
   "cell_type": "code",
   "execution_count": 199,
   "id": "18d54d94",
   "metadata": {},
   "outputs": [
    {
     "name": "stdout",
     "output_type": "stream",
     "text": [
      "Other           36302\n",
      "sleep            3821\n",
      "holiday          1725\n",
      "cute             1481\n",
      "snow              843\n",
      "walk              629\n",
      "playful           466\n",
      "death/injury      397\n",
      "poses             303\n",
      "sun               300\n",
      "new               257\n",
      "good morning      126\n",
      "cat                45\n",
      "naughty            35\n",
      "Name: title, dtype: int64\n"
     ]
    },
    {
     "data": {
      "text/plain": [
       "34377                                  kittens are growing\n",
       "3966     sassy boy is finally using the space i made fo...\n",
       "26148                       Just Doug smiling with his pal\n",
       "7648     S.O.S. She's sad because someone told her she'...\n",
       "8066                                     Maisie, likes mud\n",
       "36234                         Amaya:) the sweetest pyrador\n",
       "55255     POV: You're about to get a snoot boop from Timmy\n",
       "7666                                         Cinnamon roll\n",
       "27966            Look at those eyes! Try telling her \"no\".\n",
       "30496    Sweet Girl I had the pleasure of fostering for...\n",
       "483      Day 54 of me, also, posting a pic of my sphynx...\n",
       "32016    Pls tell me what’s going on re: my luxating pa...\n",
       "8440     This is the face of a pup who covered himself ...\n",
       "54010                     wawa gang meet my 7 year old Gus\n",
       "36820    She’s not enjoying Full Metal Jacket as much a...\n",
       "29400    My dog Luca next to the children’s book I rece...\n",
       "54787                          We don’t talk about Bruno….\n",
       "43190                                           Lights out\n",
       "25485       please enjoy my sweet little chai being a derp\n",
       "25973                    My Deaf Border Collie at 9 months\n",
       "30023                       Khaleesi my roly poly girl lol\n",
       "52345    Just a bunch of beagles at their doggy daycare...\n",
       "32470                                Any Problem, Sir....?\n",
       "45902    Everything that human-cats eat must be checked...\n",
       "48318            Best pals (terrier mix and dachshund mix)\n",
       "Name: title, dtype: object"
      ]
     },
     "execution_count": 199,
     "metadata": {},
     "output_type": "execute_result"
    }
   ],
   "source": [
    "print(df.title.apply(label).value_counts())\n",
    "\n",
    "df.loc[df.title.apply(test),\"title\"].sample(25)"
   ]
  },
  {
   "cell_type": "code",
   "execution_count": 200,
   "id": "d7c4336c",
   "metadata": {},
   "outputs": [],
   "source": [
    "df[\"subject\"] = df.title.apply(label)"
   ]
  },
  {
   "cell_type": "code",
   "execution_count": 201,
   "id": "26430697",
   "metadata": {},
   "outputs": [
    {
     "data": {
      "image/png": "[encoded data removed]",
      "text/plain": [
       "<Figure size 1080x504 with 1 Axes>"
      ]
     },
     "metadata": {
      "needs_background": "light"
     },
     "output_type": "display_data"
    }
   ],
   "source": [
    "fig,ax = plt.subplots(figsize=(15,7))\n",
    "sns.barplot(data=df[(df.subject!=\"Other\")],x=\"subject\",y=\"upvotes\",estimator=len)\n",
    "plt.xticks(rotation = 90);"
   ]
  },
  {
   "cell_type": "code",
   "execution_count": 202,
   "id": "0b6f7c70",
   "metadata": {},
   "outputs": [
    {
     "data": {
      "image/png": "[encoded data removed]",
      "text/plain": [
       "<Figure size 1080x504 with 1 Axes>"
      ]
     },
     "metadata": {
      "needs_background": "light"
     },
     "output_type": "display_data"
    }
   ],
   "source": [
    "fig,ax = plt.subplots(figsize=(15,7))\n",
    "sns.barplot(data=df,x=\"subject\",y=\"upvotes\",estimator=np.median)\n",
    "plt.xticks(rotation = 90);"
   ]
  },
  {
   "cell_type": "code",
   "execution_count": 182,
   "id": "924786d7",
   "metadata": {},
   "outputs": [
    {
     "data": {
      "text/html": [
       "<div>\n",
       "<style scoped>\n",
       "    .dataframe tbody tr th:only-of-type {\n",
       "        vertical-align: middle;\n",
       "    }\n",
       "\n",
       "    .dataframe tbody tr th {\n",
       "        vertical-align: top;\n",
       "    }\n",
       "\n",
       "    .dataframe thead th {\n",
       "        text-align: right;\n",
       "    }\n",
       "</style>\n",
       "<table border=\"1\" class=\"dataframe\">\n",
       "  <thead>\n",
       "    <tr style=\"text-align: right;\">\n",
       "      <th></th>\n",
       "      <th>fname</th>\n",
       "      <th>url</th>\n",
       "      <th>category</th>\n",
       "      <th>subreddit</th>\n",
       "      <th>title</th>\n",
       "      <th>description</th>\n",
       "      <th>upvotes</th>\n",
       "      <th>posted</th>\n",
       "      <th>scraped</th>\n",
       "      <th>niche</th>\n",
       "      <th>test</th>\n",
       "      <th>subject</th>\n",
       "    </tr>\n",
       "  </thead>\n",
       "  <tbody>\n",
       "    <tr>\n",
       "      <th>0</th>\n",
       "      <td>cgptykrzcez71.jpg</td>\n",
       "      <td>https://i.redd.it/cgptykrzcez71.jpg</td>\n",
       "      <td>cats</td>\n",
       "      <td>catpictures</td>\n",
       "      <td>Caturday morning TV 😺</td>\n",
       "      <td>NaN</td>\n",
       "      <td>247.0</td>\n",
       "      <td>2021-11-13 11:22:11</td>\n",
       "      <td>2021-11-21 09:28:28.376338</td>\n",
       "      <td>0.0</td>\n",
       "      <td>False</td>\n",
       "      <td>Other</td>\n",
       "    </tr>\n",
       "    <tr>\n",
       "      <th>1</th>\n",
       "      <td>EGjVMqx.jpg</td>\n",
       "      <td>https://i.imgur.com/EGjVMqx.jpg</td>\n",
       "      <td>cats</td>\n",
       "      <td>catpictures</td>\n",
       "      <td>Round loaf!</td>\n",
       "      <td>NaN</td>\n",
       "      <td>24.0</td>\n",
       "      <td>2021-11-13 02:23:31</td>\n",
       "      <td>2021-11-21 09:28:28.376338</td>\n",
       "      <td>0.0</td>\n",
       "      <td>False</td>\n",
       "      <td>Other</td>\n",
       "    </tr>\n",
       "    <tr>\n",
       "      <th>2</th>\n",
       "      <td>y45936kis8z71.jpg</td>\n",
       "      <td>https://i.redd.it/y45936kis8z71.jpg</td>\n",
       "      <td>cats</td>\n",
       "      <td>catpictures</td>\n",
       "      <td>Taken over fall wreath</td>\n",
       "      <td>NaN</td>\n",
       "      <td>427.0</td>\n",
       "      <td>2021-11-12 16:38:49</td>\n",
       "      <td>2021-11-21 09:28:28.376338</td>\n",
       "      <td>0.0</td>\n",
       "      <td>False</td>\n",
       "      <td>Other</td>\n",
       "    </tr>\n",
       "    <tr>\n",
       "      <th>3</th>\n",
       "      <td>irl2nzyro8z71.jpg</td>\n",
       "      <td>https://i.redd.it/irl2nzyro8z71.jpg</td>\n",
       "      <td>cats</td>\n",
       "      <td>catpictures</td>\n",
       "      <td>My kitten, Topaz!</td>\n",
       "      <td>NaN</td>\n",
       "      <td>196.0</td>\n",
       "      <td>2021-11-12 16:17:45</td>\n",
       "      <td>2021-11-21 09:28:28.376338</td>\n",
       "      <td>0.0</td>\n",
       "      <td>False</td>\n",
       "      <td>Other</td>\n",
       "    </tr>\n",
       "    <tr>\n",
       "      <th>4</th>\n",
       "      <td>vlsh4hijg8z71.jpg</td>\n",
       "      <td>https://i.redd.it/vlsh4hijg8z71.jpg</td>\n",
       "      <td>cats</td>\n",
       "      <td>catpictures</td>\n",
       "      <td>My Tom is not impressed having to wait for the...</td>\n",
       "      <td>NaN</td>\n",
       "      <td>620.0</td>\n",
       "      <td>2021-11-12 15:31:23</td>\n",
       "      <td>2021-11-21 09:28:28.376338</td>\n",
       "      <td>0.0</td>\n",
       "      <td>False</td>\n",
       "      <td>Other</td>\n",
       "    </tr>\n",
       "  </tbody>\n",
       "</table>\n",
       "</div>"
      ],
      "text/plain": [
       "               fname                                  url category  \\\n",
       "0  cgptykrzcez71.jpg  https://i.redd.it/cgptykrzcez71.jpg     cats   \n",
       "1        EGjVMqx.jpg      https://i.imgur.com/EGjVMqx.jpg     cats   \n",
       "2  y45936kis8z71.jpg  https://i.redd.it/y45936kis8z71.jpg     cats   \n",
       "3  irl2nzyro8z71.jpg  https://i.redd.it/irl2nzyro8z71.jpg     cats   \n",
       "4  vlsh4hijg8z71.jpg  https://i.redd.it/vlsh4hijg8z71.jpg     cats   \n",
       "\n",
       "     subreddit                                              title  \\\n",
       "0  catpictures                              Caturday morning TV 😺   \n",
       "1  catpictures                                        Round loaf!   \n",
       "2  catpictures                             Taken over fall wreath   \n",
       "3  catpictures                                  My kitten, Topaz!   \n",
       "4  catpictures  My Tom is not impressed having to wait for the...   \n",
       "\n",
       "   description  upvotes              posted                    scraped  niche  \\\n",
       "0          NaN    247.0 2021-11-13 11:22:11 2021-11-21 09:28:28.376338    0.0   \n",
       "1          NaN     24.0 2021-11-13 02:23:31 2021-11-21 09:28:28.376338    0.0   \n",
       "2          NaN    427.0 2021-11-12 16:38:49 2021-11-21 09:28:28.376338    0.0   \n",
       "3          NaN    196.0 2021-11-12 16:17:45 2021-11-21 09:28:28.376338    0.0   \n",
       "4          NaN    620.0 2021-11-12 15:31:23 2021-11-21 09:28:28.376338    0.0   \n",
       "\n",
       "    test subject  \n",
       "0  False   Other  \n",
       "1  False   Other  \n",
       "2  False   Other  \n",
       "3  False   Other  \n",
       "4  False   Other  "
      ]
     },
     "execution_count": 182,
     "metadata": {},
     "output_type": "execute_result"
    }
   ],
   "source": [
    "df.head()"
   ]
  },
  {
   "cell_type": "code",
   "execution_count": 203,
   "id": "3a3df3e2",
   "metadata": {},
   "outputs": [
    {
     "data": {
      "image/png": "[encoded data removed]",
      "text/plain": [
       "<Figure size 1080x504 with 2 Axes>"
      ]
     },
     "metadata": {
      "needs_background": "light"
     },
     "output_type": "display_data"
    }
   ],
   "source": [
    "fig,(ax1,ax2) = plt.subplots(1,2,figsize=(15,7),sharey=True)\n",
    "labels = df[df.subject!=\"Other\"].subject.unique()\n",
    "sns.barplot(data=df[(df.subject!=\"Other\")&(df.category==\"cats\")],ax=ax1,x=\"subject\",y=\"upvotes\",estimator=len,order=labels)\n",
    "sns.barplot(data=df[(df.subject!=\"Other\")&(df.category==\"dogs\")],ax=ax2,x=\"subject\",y=\"upvotes\",estimator=len,order=labels)\n",
    "ax1.set_xticklabels(labels, rotation=90)\n",
    "ax2.set_xticklabels(labels, rotation=90);"
   ]
  },
  {
   "cell_type": "code",
   "execution_count": 184,
   "id": "b9a8079d",
   "metadata": {},
   "outputs": [
    {
     "data": {
      "image/png": "[encoded data removed]",
      "text/plain": [
       "<Figure size 1080x504 with 1 Axes>"
      ]
     },
     "metadata": {
      "needs_background": "light"
     },
     "output_type": "display_data"
    }
   ],
   "source": [
    "fig,ax = plt.subplots(figsize=(15,7))\n",
    "sns.barplot(data=df[(df.subject!=\"Other\")&(df.category==\"dogs\")],x=\"subject\",y=\"upvotes\",estimator=len)\n",
    "plt.xticks(rotation = 90);"
   ]
  },
  {
   "cell_type": "code",
   "execution_count": 59,
   "id": "4bc0db77",
   "metadata": {},
   "outputs": [],
   "source": [
    "def test(x):\n",
    "    \n",
    "    for subject,keywords in subjects.items():\n",
    "        \n",
    "        for kw in keywords:\n",
    "            if kw in x.lower():\n",
    "                return False\n",
    "            \n",
    "    return True"
   ]
  },
  {
   "cell_type": "code",
   "execution_count": 58,
   "id": "a7f5f974",
   "metadata": {},
   "outputs": [],
   "source": [
    "def label(x):\n",
    "    \n",
    "    for subject,keywords in subjects.items():\n",
    "        \n",
    "        for kw in keywords:\n",
    "            if kw in x.lower():\n",
    "                return subject\n",
    "            \n",
    "    return \"Other\""
   ]
  },
  {
   "cell_type": "code",
   "execution_count": 49,
   "id": "f8c5ba6c",
   "metadata": {},
   "outputs": [
    {
     "data": {
      "text/plain": [
       "Unknown    45629\n",
       "holiday     1101\n",
       "Name: title, dtype: int64"
      ]
     },
     "execution_count": 49,
     "metadata": {},
     "output_type": "execute_result"
    }
   ],
   "source": [
    "df.title.apply(label).value_counts()"
   ]
  },
  {
   "cell_type": "code",
   "execution_count": 12,
   "id": "39931c36",
   "metadata": {},
   "outputs": [],
   "source": [
    "def check(word):\n",
    "    \n",
    "    return df.title.str.lower().str.contains(word)"
   ]
  },
  {
   "cell_type": "code",
   "execution_count": 19,
   "id": "6c52538f",
   "metadata": {},
   "outputs": [
    {
     "data": {
      "text/html": [
       "<div>\n",
       "<style scoped>\n",
       "    .dataframe tbody tr th:only-of-type {\n",
       "        vertical-align: middle;\n",
       "    }\n",
       "\n",
       "    .dataframe tbody tr th {\n",
       "        vertical-align: top;\n",
       "    }\n",
       "\n",
       "    .dataframe thead th {\n",
       "        text-align: right;\n",
       "    }\n",
       "</style>\n",
       "<table border=\"1\" class=\"dataframe\">\n",
       "  <thead>\n",
       "    <tr style=\"text-align: right;\">\n",
       "      <th></th>\n",
       "      <th>fname</th>\n",
       "      <th>url</th>\n",
       "      <th>category</th>\n",
       "      <th>subreddit</th>\n",
       "      <th>title</th>\n",
       "      <th>description</th>\n",
       "      <th>upvotes</th>\n",
       "      <th>posted</th>\n",
       "      <th>scraped</th>\n",
       "      <th>niche</th>\n",
       "      <th>test</th>\n",
       "    </tr>\n",
       "  </thead>\n",
       "  <tbody>\n",
       "    <tr>\n",
       "      <th>146</th>\n",
       "      <td>t66oqn31bpy71.jpg</td>\n",
       "      <td>https://i.redd.it/t66oqn31bpy71.jpg</td>\n",
       "      <td>cats</td>\n",
       "      <td>TortoiseShellCats</td>\n",
       "      <td>Hi everyone, I'm open for commissions pet port...</td>\n",
       "      <td>NaN</td>\n",
       "      <td>38.0</td>\n",
       "      <td>2021-11-09 23:06:50</td>\n",
       "      <td>2021-11-21 09:30:12.716888</td>\n",
       "      <td>1.0</td>\n",
       "      <td>False</td>\n",
       "    </tr>\n",
       "    <tr>\n",
       "      <th>217</th>\n",
       "      <td>zvpm84dxxlz71.jpg</td>\n",
       "      <td>https://i.redd.it/zvpm84dxxlz71.jpg</td>\n",
       "      <td>cats</td>\n",
       "      <td>britishshorthair</td>\n",
       "      <td>Christmas kittens 😍</td>\n",
       "      <td>NaN</td>\n",
       "      <td>58.0</td>\n",
       "      <td>2021-11-14 12:52:01</td>\n",
       "      <td>2021-11-21 09:35:56.339935</td>\n",
       "      <td>1.0</td>\n",
       "      <td>False</td>\n",
       "    </tr>\n",
       "    <tr>\n",
       "      <th>481</th>\n",
       "      <td>w2xt9psdzgz71.jpg</td>\n",
       "      <td>https://i.redd.it/w2xt9psdzgz71.jpg</td>\n",
       "      <td>cats</td>\n",
       "      <td>sphynx</td>\n",
       "      <td>Merry Christmas fellow chickens ❤️</td>\n",
       "      <td>NaN</td>\n",
       "      <td>44.0</td>\n",
       "      <td>2021-11-13 20:11:16</td>\n",
       "      <td>2021-11-21 09:38:00.930219</td>\n",
       "      <td>1.0</td>\n",
       "      <td>False</td>\n",
       "    </tr>\n",
       "    <tr>\n",
       "      <th>596</th>\n",
       "      <td>n6Vhprk.jpg</td>\n",
       "      <td>https://i.imgur.com/n6Vhprk.jpg</td>\n",
       "      <td>cats</td>\n",
       "      <td>SphynxCats</td>\n",
       "      <td>Happy belated Halloween</td>\n",
       "      <td>NaN</td>\n",
       "      <td>43.0</td>\n",
       "      <td>2021-11-06 18:30:06</td>\n",
       "      <td>2021-11-21 09:38:34.247347</td>\n",
       "      <td>1.0</td>\n",
       "      <td>False</td>\n",
       "    </tr>\n",
       "    <tr>\n",
       "      <th>652</th>\n",
       "      <td>z508r1h3xgz71.jpg</td>\n",
       "      <td>https://i.redd.it/z508r1h3xgz71.jpg</td>\n",
       "      <td>dogs</td>\n",
       "      <td>dogpictures</td>\n",
       "      <td>This year’s annual Christmas photo ❤️</td>\n",
       "      <td>NaN</td>\n",
       "      <td>66.0</td>\n",
       "      <td>2021-11-13 19:58:25</td>\n",
       "      <td>2021-11-21 09:38:52.986755</td>\n",
       "      <td>0.0</td>\n",
       "      <td>False</td>\n",
       "    </tr>\n",
       "    <tr>\n",
       "      <th>...</th>\n",
       "      <td>...</td>\n",
       "      <td>...</td>\n",
       "      <td>...</td>\n",
       "      <td>...</td>\n",
       "      <td>...</td>\n",
       "      <td>...</td>\n",
       "      <td>...</td>\n",
       "      <td>...</td>\n",
       "      <td>...</td>\n",
       "      <td>...</td>\n",
       "      <td>...</td>\n",
       "    </tr>\n",
       "    <tr>\n",
       "      <th>55974</th>\n",
       "      <td>kb3nmydcbv691.jpg</td>\n",
       "      <td>https://i.redd.it/kb3nmydcbv691.jpg</td>\n",
       "      <td>dogs</td>\n",
       "      <td>Chihuahua</td>\n",
       "      <td>Double Trouble, Hank &amp; Merry</td>\n",
       "      <td>NaN</td>\n",
       "      <td>34.0</td>\n",
       "      <td>2022-06-20 19:21:00</td>\n",
       "      <td>2022-07-03 05:23:14.700380</td>\n",
       "      <td>1.0</td>\n",
       "      <td>False</td>\n",
       "    </tr>\n",
       "    <tr>\n",
       "      <th>56619</th>\n",
       "      <td>1r1ru3ns4y691.jpg</td>\n",
       "      <td>https://i.redd.it/1r1ru3ns4y691.jpg</td>\n",
       "      <td>dogs</td>\n",
       "      <td>pugs</td>\n",
       "      <td>Athenas Halloween (2012)</td>\n",
       "      <td>NaN</td>\n",
       "      <td>21.0</td>\n",
       "      <td>2022-06-21 04:49:37</td>\n",
       "      <td>2022-07-03 05:35:54.184113</td>\n",
       "      <td>1.0</td>\n",
       "      <td>False</td>\n",
       "    </tr>\n",
       "    <tr>\n",
       "      <th>56633</th>\n",
       "      <td>wmtw4yr7xt691.jpg</td>\n",
       "      <td>https://i.redd.it/wmtw4yr7xt691.jpg</td>\n",
       "      <td>dogs</td>\n",
       "      <td>pugs</td>\n",
       "      <td>she just found our Christmas tree a few months...</td>\n",
       "      <td>NaN</td>\n",
       "      <td>2133.0</td>\n",
       "      <td>2022-06-20 14:40:02</td>\n",
       "      <td>2022-07-03 05:35:54.184113</td>\n",
       "      <td>1.0</td>\n",
       "      <td>False</td>\n",
       "    </tr>\n",
       "    <tr>\n",
       "      <th>57164</th>\n",
       "      <td>wbs6dpgkuf991.jpg</td>\n",
       "      <td>https://i.redd.it/wbs6dpgkuf991.jpg</td>\n",
       "      <td>dogs</td>\n",
       "      <td>dogpictures</td>\n",
       "      <td>One of the last pictures of our boy Max. This ...</td>\n",
       "      <td>NaN</td>\n",
       "      <td>1340.0</td>\n",
       "      <td>2022-07-03 18:33:54</td>\n",
       "      <td>2022-07-10 05:15:49.908629</td>\n",
       "      <td>0.0</td>\n",
       "      <td>False</td>\n",
       "    </tr>\n",
       "    <tr>\n",
       "      <th>58131</th>\n",
       "      <td>1vifptbjxn891.jpg</td>\n",
       "      <td>https://i.redd.it/1vifptbjxn891.jpg</td>\n",
       "      <td>dogs</td>\n",
       "      <td>samoyeds</td>\n",
       "      <td>This is the look (and firm grip) I got after r...</td>\n",
       "      <td>NaN</td>\n",
       "      <td>873.0</td>\n",
       "      <td>2022-06-29 20:42:34</td>\n",
       "      <td>2022-07-10 05:29:52.981245</td>\n",
       "      <td>1.0</td>\n",
       "      <td>False</td>\n",
       "    </tr>\n",
       "  </tbody>\n",
       "</table>\n",
       "<p>1055 rows × 11 columns</p>\n",
       "</div>"
      ],
      "text/plain": [
       "                   fname                                  url category  \\\n",
       "146    t66oqn31bpy71.jpg  https://i.redd.it/t66oqn31bpy71.jpg     cats   \n",
       "217    zvpm84dxxlz71.jpg  https://i.redd.it/zvpm84dxxlz71.jpg     cats   \n",
       "481    w2xt9psdzgz71.jpg  https://i.redd.it/w2xt9psdzgz71.jpg     cats   \n",
       "596          n6Vhprk.jpg      https://i.imgur.com/n6Vhprk.jpg     cats   \n",
       "652    z508r1h3xgz71.jpg  https://i.redd.it/z508r1h3xgz71.jpg     dogs   \n",
       "...                  ...                                  ...      ...   \n",
       "55974  kb3nmydcbv691.jpg  https://i.redd.it/kb3nmydcbv691.jpg     dogs   \n",
       "56619  1r1ru3ns4y691.jpg  https://i.redd.it/1r1ru3ns4y691.jpg     dogs   \n",
       "56633  wmtw4yr7xt691.jpg  https://i.redd.it/wmtw4yr7xt691.jpg     dogs   \n",
       "57164  wbs6dpgkuf991.jpg  https://i.redd.it/wbs6dpgkuf991.jpg     dogs   \n",
       "58131  1vifptbjxn891.jpg  https://i.redd.it/1vifptbjxn891.jpg     dogs   \n",
       "\n",
       "               subreddit                                              title  \\\n",
       "146    TortoiseShellCats  Hi everyone, I'm open for commissions pet port...   \n",
       "217     britishshorthair                                Christmas kittens 😍   \n",
       "481               sphynx                 Merry Christmas fellow chickens ❤️   \n",
       "596           SphynxCats                            Happy belated Halloween   \n",
       "652          dogpictures              This year’s annual Christmas photo ❤️   \n",
       "...                  ...                                                ...   \n",
       "55974          Chihuahua                       Double Trouble, Hank & Merry   \n",
       "56619               pugs                           Athenas Halloween (2012)   \n",
       "56633               pugs  she just found our Christmas tree a few months...   \n",
       "57164        dogpictures  One of the last pictures of our boy Max. This ...   \n",
       "58131           samoyeds  This is the look (and firm grip) I got after r...   \n",
       "\n",
       "       description  upvotes              posted                    scraped  \\\n",
       "146            NaN     38.0 2021-11-09 23:06:50 2021-11-21 09:30:12.716888   \n",
       "217            NaN     58.0 2021-11-14 12:52:01 2021-11-21 09:35:56.339935   \n",
       "481            NaN     44.0 2021-11-13 20:11:16 2021-11-21 09:38:00.930219   \n",
       "596            NaN     43.0 2021-11-06 18:30:06 2021-11-21 09:38:34.247347   \n",
       "652            NaN     66.0 2021-11-13 19:58:25 2021-11-21 09:38:52.986755   \n",
       "...            ...      ...                 ...                        ...   \n",
       "55974          NaN     34.0 2022-06-20 19:21:00 2022-07-03 05:23:14.700380   \n",
       "56619          NaN     21.0 2022-06-21 04:49:37 2022-07-03 05:35:54.184113   \n",
       "56633          NaN   2133.0 2022-06-20 14:40:02 2022-07-03 05:35:54.184113   \n",
       "57164          NaN   1340.0 2022-07-03 18:33:54 2022-07-10 05:15:49.908629   \n",
       "58131          NaN    873.0 2022-06-29 20:42:34 2022-07-10 05:29:52.981245   \n",
       "\n",
       "       niche   test  \n",
       "146      1.0  False  \n",
       "217      1.0  False  \n",
       "481      1.0  False  \n",
       "596      1.0  False  \n",
       "652      0.0  False  \n",
       "...      ...    ...  \n",
       "55974    1.0  False  \n",
       "56619    1.0  False  \n",
       "56633    1.0  False  \n",
       "57164    0.0  False  \n",
       "58131    1.0  False  \n",
       "\n",
       "[1055 rows x 11 columns]"
      ]
     },
     "execution_count": 19,
     "metadata": {},
     "output_type": "execute_result"
    }
   ],
   "source": [
    "df[(check(\"xmas\"))|(check(\"christmas\"))|(check(\"holidays\"))|check(\"valentine\")|check(\"halloween\")|check(\"easter\")]"
   ]
  },
  {
   "cell_type": "code",
   "execution_count": 41,
   "id": "e46b1a9e",
   "metadata": {},
   "outputs": [
    {
     "data": {
      "text/plain": [
       "34"
      ]
     },
     "execution_count": 41,
     "metadata": {},
     "output_type": "execute_result"
    }
   ],
   "source": [
    "len(df[check(\"new family\")])"
   ]
  },
  {
   "cell_type": "code",
   "execution_count": null,
   "id": "69891236",
   "metadata": {},
   "outputs": [],
   "source": []
  },
  {
   "cell_type": "code",
   "execution_count": null,
   "id": "119d341e",
   "metadata": {},
   "outputs": [],
   "source": []
  },
  {
   "cell_type": "code",
   "execution_count": null,
   "id": "082d0e75",
   "metadata": {},
   "outputs": [],
   "source": []
  },
  {
   "cell_type": "code",
   "execution_count": null,
   "id": "526fb967",
   "metadata": {},
   "outputs": [],
   "source": []
  }
 ],
 "metadata": {
  "kernelspec": {
   "display_name": "Python 3 (ipykernel)",
   "language": "python",
   "name": "python3"
  },
  "language_info": {
   "codemirror_mode": {
    "name": "ipython",
    "version": 3
   },
   "file_extension": ".py",
   "mimetype": "text/x-python",
   "name": "python",
   "nbconvert_exporter": "python",
   "pygments_lexer": "ipython3",
   "version": "3.9.7"
  }
 },
 "nbformat": 4,
 "nbformat_minor": 5
}
